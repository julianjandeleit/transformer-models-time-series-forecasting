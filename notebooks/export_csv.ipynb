{
 "cells": [
  {
   "cell_type": "code",
   "execution_count": 10,
   "metadata": {},
   "outputs": [],
   "source": [
    "import sys\n",
    "import pathlib as pl\n",
    "sys.path.insert(0,str(pl.Path(\"../\").absolute()))"
   ]
  },
  {
   "cell_type": "code",
   "execution_count": 11,
   "metadata": {},
   "outputs": [],
   "source": [
    "from utils.data_loader import load_data"
   ]
  },
  {
   "cell_type": "code",
   "execution_count": 12,
   "metadata": {},
   "outputs": [
    {
     "data": {
      "text/html": [
       "<div>\n",
       "<style scoped>\n",
       "    .dataframe tbody tr th:only-of-type {\n",
       "        vertical-align: middle;\n",
       "    }\n",
       "\n",
       "    .dataframe tbody tr th {\n",
       "        vertical-align: top;\n",
       "    }\n",
       "\n",
       "    .dataframe thead th {\n",
       "        text-align: right;\n",
       "    }\n",
       "</style>\n",
       "<table border=\"1\" class=\"dataframe\">\n",
       "  <thead>\n",
       "    <tr style=\"text-align: right;\">\n",
       "      <th></th>\n",
       "      <th>timestamp</th>\n",
       "      <th>differential_potential_CH1</th>\n",
       "      <th>differential_potential_CH2</th>\n",
       "      <th>transpiration</th>\n",
       "    </tr>\n",
       "  </thead>\n",
       "  <tbody>\n",
       "    <tr>\n",
       "      <th>0</th>\n",
       "      <td>2022-01-22 13:53:42</td>\n",
       "      <td>526487</td>\n",
       "      <td>467544</td>\n",
       "      <td>442</td>\n",
       "    </tr>\n",
       "    <tr>\n",
       "      <th>1</th>\n",
       "      <td>2022-01-22 13:53:44</td>\n",
       "      <td>526542</td>\n",
       "      <td>467315</td>\n",
       "      <td>461</td>\n",
       "    </tr>\n",
       "    <tr>\n",
       "      <th>2</th>\n",
       "      <td>2022-01-22 13:53:45</td>\n",
       "      <td>526532</td>\n",
       "      <td>466868</td>\n",
       "      <td>466</td>\n",
       "    </tr>\n",
       "  </tbody>\n",
       "</table>\n",
       "</div>"
      ],
      "text/plain": [
       "            timestamp  differential_potential_CH1  differential_potential_CH2  \\\n",
       "0 2022-01-22 13:53:42                      526487                      467544   \n",
       "1 2022-01-22 13:53:44                      526542                      467315   \n",
       "2 2022-01-22 13:53:45                      526532                      466868   \n",
       "\n",
       "   transpiration  \n",
       "0            442  \n",
       "1            461  \n",
       "2            466  "
      ]
     },
     "metadata": {},
     "output_type": "display_data"
    },
    {
     "data": {
      "text/html": [
       "<div>\n",
       "<style scoped>\n",
       "    .dataframe tbody tr th:only-of-type {\n",
       "        vertical-align: middle;\n",
       "    }\n",
       "\n",
       "    .dataframe tbody tr th {\n",
       "        vertical-align: top;\n",
       "    }\n",
       "\n",
       "    .dataframe thead th {\n",
       "        text-align: right;\n",
       "    }\n",
       "</style>\n",
       "<table border=\"1\" class=\"dataframe\">\n",
       "  <thead>\n",
       "    <tr style=\"text-align: right;\">\n",
       "      <th></th>\n",
       "      <th>timestamp</th>\n",
       "      <th>differential_potential_CH1</th>\n",
       "      <th>differential_potential_CH2</th>\n",
       "      <th>transpiration</th>\n",
       "    </tr>\n",
       "  </thead>\n",
       "  <tbody>\n",
       "    <tr>\n",
       "      <th>0</th>\n",
       "      <td>2022-01-22 13:53:37</td>\n",
       "      <td>505940</td>\n",
       "      <td>507749</td>\n",
       "      <td>621</td>\n",
       "    </tr>\n",
       "    <tr>\n",
       "      <th>1</th>\n",
       "      <td>2022-01-22 13:53:38</td>\n",
       "      <td>505846</td>\n",
       "      <td>507807</td>\n",
       "      <td>632</td>\n",
       "    </tr>\n",
       "    <tr>\n",
       "      <th>2</th>\n",
       "      <td>2022-01-22 13:53:40</td>\n",
       "      <td>505990</td>\n",
       "      <td>507764</td>\n",
       "      <td>629</td>\n",
       "    </tr>\n",
       "  </tbody>\n",
       "</table>\n",
       "</div>"
      ],
      "text/plain": [
       "            timestamp  differential_potential_CH1  differential_potential_CH2  \\\n",
       "0 2022-01-22 13:53:37                      505940                      507749   \n",
       "1 2022-01-22 13:53:38                      505846                      507807   \n",
       "2 2022-01-22 13:53:40                      505990                      507764   \n",
       "\n",
       "   transpiration  \n",
       "0            621  \n",
       "1            632  \n",
       "2            629  "
      ]
     },
     "metadata": {},
     "output_type": "display_data"
    }
   ],
   "source": [
    "data_temp, data_wind = load_data()\n",
    "display(data_temp.head(3))\n",
    "display(data_wind.head(3))"
   ]
  },
  {
   "cell_type": "code",
   "execution_count": 13,
   "metadata": {},
   "outputs": [],
   "source": [
    "import pandas as pd\n",
    "data = data_temp.set_index(\"timestamp\")\n",
    "data = data[\"transpiration\"][:30000]\n",
    "q = data.quantile(0.1)\n",
    "data = data[data > q]\n",
    "data = pd.DataFrame(data)\n",
    "data = data.reset_index()"
   ]
  },
  {
   "cell_type": "code",
   "execution_count": 14,
   "metadata": {},
   "outputs": [
    {
     "name": "stdout",
     "output_type": "stream",
     "text": [
      "computing valid windows\n"
     ]
    },
    {
     "name": "stderr",
     "output_type": "stream",
     "text": [
      "100%|██████████| 10410/10410 [00:02<00:00, 5177.94it/s]"
     ]
    },
    {
     "name": "stdout",
     "output_type": "stream",
     "text": [
      "found 9261 valid window(s)\n"
     ]
    },
    {
     "name": "stderr",
     "output_type": "stream",
     "text": [
      "\n"
     ]
    }
   ],
   "source": [
    "import numpy as np\n",
    "import pandas as pd\n",
    "import numpy as np\n",
    "import sklearn.preprocessing as skp\n",
    "from tqdm import tqdm\n",
    "from dataclasses import dataclass, asdict\n",
    "from typing import *\n",
    "\n",
    "@dataclass(frozen=True,slots=True)\n",
    "class ExperimentData:\n",
    "    data_resampled: pd.DataFrame\n",
    "    scaler: skp.MinMaxScaler\n",
    "    timefreq: str\n",
    "    aggregator: str\n",
    "    columns: list[str]\n",
    "    window_size: int\n",
    "    feature_size: int\n",
    "    valid_windows: list[int]\n",
    "\n",
    "\n",
    "\n",
    "def getExperimentData(data, timefreq, aggregator, columns, window_size, feature_size):\n",
    "    data_resampled, scaler = scale_and_resample_timeindex(data, timefreq=timefreq, aggregator=aggregator)\n",
    "    data_resampled = data_resampled[columns]\n",
    "    data_resampled = data_resampled.reset_index()\n",
    "    valid_windows = get_valid_windows(data_resampled, window_size)\n",
    "    #feature, label, timestamps, isvalid = get_datapoint(data_resampled, valid_windows[0], window_size, feature_size) \n",
    "    return ExperimentData(data_resampled, scaler, timefreq, aggregator, columns, window_size, feature_size, valid_windows)\n",
    "def get_window(data, i, wsize):\n",
    "    \"\"\"i is starting index of window\"\"\"\n",
    "    window = data.iloc[i:i+wsize, 1:].to_numpy()\n",
    "    timestamps = data.iloc[i:i+wsize, 0].to_numpy()\n",
    "    isvalid = not np.any(np.isnan(window))\n",
    "    if window.shape[0] != wsize:\n",
    "        isvalid = False\n",
    "    return window, timestamps, isvalid\n",
    "\n",
    "def get_datapoint(data, i, wsize, fsize):\n",
    "    window, timestamps, isvalid = get_window(data, i, wsize)\n",
    "    feature, label = window[0:fsize,:], window[fsize:,:]\n",
    "    return feature, label, timestamps, isvalid\n",
    "\n",
    "def get_valid_windows(data, wsize):\n",
    "    valid_indexes = []\n",
    "    print(\"computing valid windows\")\n",
    "    for i in tqdm(range(data.shape[0])):\n",
    "        _,_, isvalid = get_window(data,i,wsize)\n",
    "        if isvalid:\n",
    "            valid_indexes.append(i)\n",
    "    print(f\"found {len(valid_indexes)} valid window(s)\")\n",
    "    return valid_indexes\n",
    "\n",
    "def scale_and_resample_timeindex(df: pd.DataFrame, timefreq=\"10s\", aggregator=\"mean\"):\n",
    "    df = df.set_index(\"timestamp\")\n",
    "    df = df[~df.index.duplicated(keep=\"first\")]\n",
    "    df = df.resample(timefreq).aggregate(aggregator)\n",
    "    scaler = skp.MinMaxScaler()\n",
    "    df = pd.DataFrame(scaler.fit_transform(df), index=df.index, columns=df.columns)\n",
    "    return df, scaler\n",
    "\n",
    "expData = getExperimentData(data, \"5s\", \"mean\", [\"transpiration\"], 8, 2)"
   ]
  },
  {
   "cell_type": "code",
   "execution_count": 15,
   "metadata": {},
   "outputs": [],
   "source": [
    "data = expData.data_resampled.iloc[expData.valid_windows]\n",
    "data = data.set_index(\"timestamp\")"
   ]
  },
  {
   "cell_type": "code",
   "execution_count": 16,
   "metadata": {},
   "outputs": [
    {
     "data": {
      "text/plain": [
       "[<matplotlib.lines.Line2D at 0x1f00169b650>]"
      ]
     },
     "execution_count": 16,
     "metadata": {},
     "output_type": "execute_result"
    },
    {
     "data": {
      "image/png": "[encoded data removed]",
      "text/plain": [
       "<Figure size 640x480 with 1 Axes>"
      ]
     },
     "metadata": {},
     "output_type": "display_data"
    }
   ],
   "source": [
    "import matplotlib.pyplot as plt\n",
    "\n",
    "plt.plot(data)"
   ]
  },
  {
   "cell_type": "code",
   "execution_count": 17,
   "metadata": {},
   "outputs": [],
   "source": [
    "data.to_csv(\"../data/preprocessed/timeseries.csv\")"
   ]
  },
  {
   "cell_type": "code",
   "execution_count": null,
   "metadata": {},
   "outputs": [],
   "source": []
  }
 ],
 "metadata": {
  "kernelspec": {
   "display_name": "venv",
   "language": "python",
   "name": "python3"
  },
  "language_info": {
   "codemirror_mode": {
    "name": "ipython",
    "version": 3
   },
   "file_extension": ".py",
   "mimetype": "text/x-python",
   "name": "python",
   "nbconvert_exporter": "python",
   "pygments_lexer": "ipython3",
   "version": "3.11.3"
  },
  "orig_nbformat": 4
 },
 "nbformat": 4,
 "nbformat_minor": 2
}
