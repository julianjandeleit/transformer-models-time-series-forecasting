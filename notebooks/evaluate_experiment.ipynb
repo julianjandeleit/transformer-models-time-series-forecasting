{
 "cells": [
  {
   "cell_type": "code",
   "execution_count": 24,
   "metadata": {},
   "outputs": [],
   "source": [
    "import sys\n",
    "import pathlib as pl\n",
    "sys.path.insert(0,str(pl.Path(\"../\").absolute()))"
   ]
  },
  {
   "cell_type": "code",
   "execution_count": 25,
   "metadata": {},
   "outputs": [],
   "source": [
    "import numpy as np\n",
    "import pandas as pd\n",
    "import torch\n",
    "import matplotlib.pyplot as plt"
   ]
  },
  {
   "cell_type": "code",
   "execution_count": 26,
   "metadata": {},
   "outputs": [],
   "source": [
    "from ipynb.fs.defs.transformer_experimentation import TimeSeriesTransformer"
   ]
  },
  {
   "cell_type": "code",
   "execution_count": 27,
   "metadata": {},
   "outputs": [
    {
     "data": {
      "text/plain": [
       "0.06818692765668426"
      ]
     },
     "execution_count": 27,
     "metadata": {},
     "output_type": "execute_result"
    }
   ],
   "source": [
    "losses = np.load(\"../data/experiment/losses.npy\")\n",
    "losses = np.nan_to_num(losses)\n",
    "losses = losses[losses < 1.0]\n",
    "losses.var()"
   ]
  },
  {
   "cell_type": "code",
   "execution_count": 28,
   "metadata": {},
   "outputs": [
    {
     "data": {
      "image/png": "[encoded data removed]",
      "text/plain": [
       "<Figure size 640x480 with 1 Axes>"
      ]
     },
     "metadata": {},
     "output_type": "display_data"
    }
   ],
   "source": [
    "plt.figure()\n",
    "plt.scatter(list(range(losses.shape[0])),losses\t)\n",
    "plt.show()"
   ]
  },
  {
   "cell_type": "code",
   "execution_count": 29,
   "metadata": {},
   "outputs": [
    {
     "name": "stdout",
     "output_type": "stream",
     "text": [
      "using device: cuda\n"
     ]
    },
    {
     "data": {
      "text/plain": [
       "TimeSeriesTransformer(\n",
       "  (encoder): Encoder(\n",
       "    (input_layer): Linear(in_features=3, out_features=2, bias=True)\n",
       "    (pos_encoding_layer): PositionalEncoding(\n",
       "      (dropout): Dropout(p=0.2, inplace=False)\n",
       "    )\n",
       "    (encoder_layers): TransformerEncoder(\n",
       "      (layers): ModuleList(\n",
       "        (0-3): 4 x TransformerEncoderLayer(\n",
       "          (self_attn): MultiheadAttention(\n",
       "            (out_proj): NonDynamicallyQuantizableLinear(in_features=2, out_features=2, bias=True)\n",
       "          )\n",
       "          (linear1): Linear(in_features=2, out_features=2048, bias=True)\n",
       "          (dropout): Dropout(p=0.2, inplace=False)\n",
       "          (linear2): Linear(in_features=2048, out_features=2, bias=True)\n",
       "          (norm1): LayerNorm((2,), eps=1e-05, elementwise_affine=True)\n",
       "          (norm2): LayerNorm((2,), eps=1e-05, elementwise_affine=True)\n",
       "          (dropout1): Dropout(p=0.2, inplace=False)\n",
       "          (dropout2): Dropout(p=0.2, inplace=False)\n",
       "        )\n",
       "      )\n",
       "    )\n",
       "  )\n",
       "  (decoder): Decoder(\n",
       "    (input_layer): Linear(in_features=3, out_features=2, bias=True)\n",
       "    (decoder_layers): TransformerDecoder(\n",
       "      (layers): ModuleList(\n",
       "        (0-3): 4 x TransformerDecoderLayer(\n",
       "          (self_attn): MultiheadAttention(\n",
       "            (out_proj): NonDynamicallyQuantizableLinear(in_features=2, out_features=2, bias=True)\n",
       "          )\n",
       "          (multihead_attn): MultiheadAttention(\n",
       "            (out_proj): NonDynamicallyQuantizableLinear(in_features=2, out_features=2, bias=True)\n",
       "          )\n",
       "          (linear1): Linear(in_features=2, out_features=2048, bias=True)\n",
       "          (dropout): Dropout(p=0.2, inplace=False)\n",
       "          (linear2): Linear(in_features=2048, out_features=2, bias=True)\n",
       "          (norm1): LayerNorm((2,), eps=1e-05, elementwise_affine=True)\n",
       "          (norm2): LayerNorm((2,), eps=1e-05, elementwise_affine=True)\n",
       "          (norm3): LayerNorm((2,), eps=1e-05, elementwise_affine=True)\n",
       "          (dropout1): Dropout(p=0.2, inplace=False)\n",
       "          (dropout2): Dropout(p=0.2, inplace=False)\n",
       "          (dropout3): Dropout(p=0.2, inplace=False)\n",
       "        )\n",
       "      )\n",
       "    )\n",
       "    (linear_mapping): Linear(in_features=2, out_features=3, bias=True)\n",
       "  )\n",
       ")"
      ]
     },
     "execution_count": 29,
     "metadata": {},
     "output_type": "execute_result"
    }
   ],
   "source": [
    "\n",
    "device = torch.device(\"cuda\" if torch.cuda.is_available() else \"cpu\")\n",
    "print(f\"using device: {device}\")\n",
    "params = torch.load(\"../data/experiment/model_params.pt\")\n",
    "weighs = torch.load(\"../data/experiment/model_weights.pt\")\n",
    "model = TimeSeriesTransformer(d_input=params[\"d_input\"], d_model=params[\"d_model\"])\n",
    "model.to(device)\n",
    "model.eval()\n",
    "#model"
   ]
  },
  {
   "cell_type": "code",
   "execution_count": 30,
   "metadata": {},
   "outputs": [
    {
     "data": {
      "text/plain": [
       "(413124, 15, 4)"
      ]
     },
     "execution_count": 30,
     "metadata": {},
     "output_type": "execute_result"
    }
   ],
   "source": [
    "windows = np.load(\"../data/preprocessed/window_data.npy\",allow_pickle=True)\n",
    "windows.shape"
   ]
  },
  {
   "cell_type": "code",
   "execution_count": 31,
   "metadata": {},
   "outputs": [
    {
     "data": {
      "text/plain": [
       "array([[0.8363533269071048, 0.5364075146871605, 0.7187686443486907],\n",
       "       [0.8386994559942362, 0.5195984536142677, 0.7269638713954258],\n",
       "       [0.8390029785232791, 0.5201056424391788, 0.7219008949287371],\n",
       "       [0.842335055517939, 0.5181078382134809, 0.7147828969174677],\n",
       "       [0.8437459349661278, 0.5172085051215274, 0.7097696387139543],\n",
       "       [0.9124087347780101, 0.5126928602296226, 0.7098110705999336],\n",
       "       [0.8741382128193216, 0.5138652051530621, 0.7155286708650977],\n",
       "       [0.870078348837442, 0.5150407619804018, 0.7091233012926748],\n",
       "       [0.8737813236917678, 0.5157777479297816, 0.7116340735830294],\n",
       "       [0.8703425135000806, 0.5155061960546141, 0.7168130593304607],\n",
       "       [0.8665568204180598, 0.5145528445788901, 0.7180974477958236],\n",
       "       [0.8660718514540715, 0.5204577839031059, 0.7140951276102088],\n",
       "       [0.8595257710639626, 0.5203663906375922, 0.7212462711302619],\n",
       "       [0.8164522552390974, 0.5272646842406474, 0.7186774941995359],\n",
       "       [0.8344801592992948, 0.5265376259942305, 0.7237736161750082]],\n",
       "      dtype=object)"
      ]
     },
     "execution_count": 31,
     "metadata": {},
     "output_type": "execute_result"
    }
   ],
   "source": [
    "window = windows[0][:,1:]\n",
    "window"
   ]
  },
  {
   "cell_type": "code",
   "execution_count": 32,
   "metadata": {},
   "outputs": [
    {
     "data": {
      "text/plain": [
       "(array([[0.83635333, 0.53640751, 0.71876864],\n",
       "        [0.83869946, 0.51959845, 0.72696387],\n",
       "        [0.83900298, 0.52010564, 0.72190089],\n",
       "        [0.84233506, 0.51810784, 0.7147829 ]]),\n",
       " array([[0.84374593, 0.51720851, 0.70976964],\n",
       "        [0.91240873, 0.51269286, 0.70981107],\n",
       "        [0.87413821, 0.51386521, 0.71552867],\n",
       "        [0.87007835, 0.51504076, 0.7091233 ],\n",
       "        [0.87378132, 0.51577775, 0.71163407],\n",
       "        [0.87034251, 0.5155062 , 0.71681306],\n",
       "        [0.86655682, 0.51455284, 0.71809745],\n",
       "        [0.86607185, 0.52045778, 0.71409513],\n",
       "        [0.85952577, 0.52036639, 0.72124627],\n",
       "        [0.81645226, 0.52726468, 0.71867749],\n",
       "        [0.83448016, 0.52653763, 0.72377362]]))"
      ]
     },
     "execution_count": 32,
     "metadata": {},
     "output_type": "execute_result"
    }
   ],
   "source": [
    "feature, label = window[:4,:].astype(float), window[4:,:].astype(float)\n",
    "feature, label"
   ]
  },
  {
   "cell_type": "code",
   "execution_count": 33,
   "metadata": {},
   "outputs": [
    {
     "name": "stdout",
     "output_type": "stream",
     "text": [
      "torch.Size([4, 3]) torch.Size([1, 3])\n"
     ]
    },
    {
     "data": {
      "text/plain": [
       "tensor([[ 0.7966, -1.1503, -0.8398]], device='cuda:0',\n",
       "       grad_fn=<AddmmBackward0>)"
      ]
     },
     "execution_count": 33,
     "metadata": {},
     "output_type": "execute_result"
    }
   ],
   "source": [
    "def callModel(model, feature):\n",
    "    feature = torch.Tensor(feature).to(device)\n",
    "    target = feature[-1:, :]\n",
    "    print(feature.shape, target.shape)\n",
    "    res = model(feature,target=target,mask=None)\n",
    "    return res\n",
    "callModel(model, feature)"
   ]
  },
  {
   "cell_type": "code",
   "execution_count": null,
   "metadata": {},
   "outputs": [],
   "source": []
  }
 ],
 "metadata": {
  "kernelspec": {
   "display_name": "venv",
   "language": "python",
   "name": "python3"
  },
  "language_info": {
   "codemirror_mode": {
    "name": "ipython",
    "version": 3
   },
   "file_extension": ".py",
   "mimetype": "text/x-python",
   "name": "python",
   "nbconvert_exporter": "python",
   "pygments_lexer": "ipython3",
   "version": "3.11.3"
  },
  "orig_nbformat": 4
 },
 "nbformat": 4,
 "nbformat_minor": 2
}
