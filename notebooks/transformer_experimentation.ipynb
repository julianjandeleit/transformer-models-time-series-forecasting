{
 "cells": [
  {
   "attachments": {},
   "cell_type": "markdown",
   "metadata": {},
   "source": [
    "# Prelude"
   ]
  },
  {
   "cell_type": "code",
   "execution_count": 2,
   "metadata": {},
   "outputs": [],
   "source": [
    "import sys\n",
    "import pathlib as pl\n",
    "sys.path.insert(0,str(pl.Path(\"../\").absolute()))"
   ]
  },
  {
   "cell_type": "code",
   "execution_count": 3,
   "metadata": {},
   "outputs": [],
   "source": [
    "\n",
    "import numpy as np\n",
    "import pandas as pd\n",
    "import torch\n",
    "import torch.nn as nn # neuronal layers, function objects\n",
    "import torch.nn.functional as F # contains activation functions\n",
    "from torch.autograd import Variable # wrapper for tensor\n",
    "import torch.optim as opt\n",
    "import numpy as np\n",
    "import sklearn.preprocessing as skp\n",
    "from utils.data_loader import load_data\n",
    "from tqdm import tqdm\n",
    "import matplotlib.pyplot as plt\n",
    "import math"
   ]
  },
  {
   "cell_type": "code",
   "execution_count": 4,
   "metadata": {},
   "outputs": [
    {
     "name": "stdout",
     "output_type": "stream",
     "text": [
      "using device: cpu\n"
     ]
    }
   ],
   "source": [
    "device = torch.device(\"cuda\" if torch.cuda.is_available() else \"cpu\")\n",
    "print(f\"using device: {device}\")"
   ]
  },
  {
   "cell_type": "code",
   "execution_count": 5,
   "metadata": {},
   "outputs": [
    {
     "data": {
      "text/html": [
       "<div>\n",
       "<style scoped>\n",
       "    .dataframe tbody tr th:only-of-type {\n",
       "        vertical-align: middle;\n",
       "    }\n",
       "\n",
       "    .dataframe tbody tr th {\n",
       "        vertical-align: top;\n",
       "    }\n",
       "\n",
       "    .dataframe thead th {\n",
       "        text-align: right;\n",
       "    }\n",
       "</style>\n",
       "<table border=\"1\" class=\"dataframe\">\n",
       "  <thead>\n",
       "    <tr style=\"text-align: right;\">\n",
       "      <th></th>\n",
       "      <th>timestamp</th>\n",
       "      <th>differential_potential_CH1</th>\n",
       "      <th>differential_potential_CH2</th>\n",
       "      <th>transpiration</th>\n",
       "    </tr>\n",
       "  </thead>\n",
       "  <tbody>\n",
       "    <tr>\n",
       "      <th>0</th>\n",
       "      <td>2022-01-22 13:53:42</td>\n",
       "      <td>526487</td>\n",
       "      <td>467544</td>\n",
       "      <td>442</td>\n",
       "    </tr>\n",
       "    <tr>\n",
       "      <th>1</th>\n",
       "      <td>2022-01-22 13:53:44</td>\n",
       "      <td>526542</td>\n",
       "      <td>467315</td>\n",
       "      <td>461</td>\n",
       "    </tr>\n",
       "    <tr>\n",
       "      <th>2</th>\n",
       "      <td>2022-01-22 13:53:45</td>\n",
       "      <td>526532</td>\n",
       "      <td>466868</td>\n",
       "      <td>466</td>\n",
       "    </tr>\n",
       "  </tbody>\n",
       "</table>\n",
       "</div>"
      ],
      "text/plain": [
       "            timestamp  differential_potential_CH1  differential_potential_CH2   \n",
       "0 2022-01-22 13:53:42                      526487                      467544  \\\n",
       "1 2022-01-22 13:53:44                      526542                      467315   \n",
       "2 2022-01-22 13:53:45                      526532                      466868   \n",
       "\n",
       "   transpiration  \n",
       "0            442  \n",
       "1            461  \n",
       "2            466  "
      ]
     },
     "metadata": {},
     "output_type": "display_data"
    },
    {
     "data": {
      "text/html": [
       "<div>\n",
       "<style scoped>\n",
       "    .dataframe tbody tr th:only-of-type {\n",
       "        vertical-align: middle;\n",
       "    }\n",
       "\n",
       "    .dataframe tbody tr th {\n",
       "        vertical-align: top;\n",
       "    }\n",
       "\n",
       "    .dataframe thead th {\n",
       "        text-align: right;\n",
       "    }\n",
       "</style>\n",
       "<table border=\"1\" class=\"dataframe\">\n",
       "  <thead>\n",
       "    <tr style=\"text-align: right;\">\n",
       "      <th></th>\n",
       "      <th>timestamp</th>\n",
       "      <th>differential_potential_CH1</th>\n",
       "      <th>differential_potential_CH2</th>\n",
       "      <th>transpiration</th>\n",
       "    </tr>\n",
       "  </thead>\n",
       "  <tbody>\n",
       "    <tr>\n",
       "      <th>0</th>\n",
       "      <td>2022-01-22 13:53:37</td>\n",
       "      <td>505940</td>\n",
       "      <td>507749</td>\n",
       "      <td>621</td>\n",
       "    </tr>\n",
       "    <tr>\n",
       "      <th>1</th>\n",
       "      <td>2022-01-22 13:53:38</td>\n",
       "      <td>505846</td>\n",
       "      <td>507807</td>\n",
       "      <td>632</td>\n",
       "    </tr>\n",
       "    <tr>\n",
       "      <th>2</th>\n",
       "      <td>2022-01-22 13:53:40</td>\n",
       "      <td>505990</td>\n",
       "      <td>507764</td>\n",
       "      <td>629</td>\n",
       "    </tr>\n",
       "  </tbody>\n",
       "</table>\n",
       "</div>"
      ],
      "text/plain": [
       "            timestamp  differential_potential_CH1  differential_potential_CH2   \n",
       "0 2022-01-22 13:53:37                      505940                      507749  \\\n",
       "1 2022-01-22 13:53:38                      505846                      507807   \n",
       "2 2022-01-22 13:53:40                      505990                      507764   \n",
       "\n",
       "   transpiration  \n",
       "0            621  \n",
       "1            632  \n",
       "2            629  "
      ]
     },
     "metadata": {},
     "output_type": "display_data"
    }
   ],
   "source": [
    "data_temp, data_wind = load_data()\n",
    "display(data_temp.head(3))\n",
    "display(data_wind.head(3))"
   ]
  },
  {
   "attachments": {},
   "cell_type": "markdown",
   "metadata": {},
   "source": [
    "# Experimentation"
   ]
  },
  {
   "attachments": {},
   "cell_type": "markdown",
   "metadata": {},
   "source": [
    "## Data Preprocessing"
   ]
  },
  {
   "attachments": {},
   "cell_type": "markdown",
   "metadata": {},
   "source": [
    "convert data to sample with same time interval spacing"
   ]
  },
  {
   "cell_type": "code",
   "execution_count": 6,
   "metadata": {},
   "outputs": [
    {
     "data": {
      "text/html": [
       "<div>\n",
       "<style scoped>\n",
       "    .dataframe tbody tr th:only-of-type {\n",
       "        vertical-align: middle;\n",
       "    }\n",
       "\n",
       "    .dataframe tbody tr th {\n",
       "        vertical-align: top;\n",
       "    }\n",
       "\n",
       "    .dataframe thead th {\n",
       "        text-align: right;\n",
       "    }\n",
       "</style>\n",
       "<table border=\"1\" class=\"dataframe\">\n",
       "  <thead>\n",
       "    <tr style=\"text-align: right;\">\n",
       "      <th></th>\n",
       "      <th>differential_potential_CH1</th>\n",
       "      <th>differential_potential_CH2</th>\n",
       "      <th>transpiration</th>\n",
       "    </tr>\n",
       "    <tr>\n",
       "      <th>timestamp</th>\n",
       "      <th></th>\n",
       "      <th></th>\n",
       "      <th></th>\n",
       "    </tr>\n",
       "  </thead>\n",
       "  <tbody>\n",
       "    <tr>\n",
       "      <th>2022-01-22 13:53:40</th>\n",
       "      <td>0.836353</td>\n",
       "      <td>0.536408</td>\n",
       "      <td>0.718769</td>\n",
       "    </tr>\n",
       "    <tr>\n",
       "      <th>2022-01-22 13:53:50</th>\n",
       "      <td>0.838699</td>\n",
       "      <td>0.519598</td>\n",
       "      <td>0.726964</td>\n",
       "    </tr>\n",
       "    <tr>\n",
       "      <th>2022-01-22 13:54:00</th>\n",
       "      <td>0.839003</td>\n",
       "      <td>0.520106</td>\n",
       "      <td>0.721901</td>\n",
       "    </tr>\n",
       "  </tbody>\n",
       "</table>\n",
       "</div>"
      ],
      "text/plain": [
       "                     differential_potential_CH1  differential_potential_CH2   \n",
       "timestamp                                                                     \n",
       "2022-01-22 13:53:40                    0.836353                    0.536408  \\\n",
       "2022-01-22 13:53:50                    0.838699                    0.519598   \n",
       "2022-01-22 13:54:00                    0.839003                    0.520106   \n",
       "\n",
       "                     transpiration  \n",
       "timestamp                           \n",
       "2022-01-22 13:53:40       0.718769  \n",
       "2022-01-22 13:53:50       0.726964  \n",
       "2022-01-22 13:54:00       0.721901  "
      ]
     },
     "execution_count": 6,
     "metadata": {},
     "output_type": "execute_result"
    }
   ],
   "source": [
    "def scale_and_resample_timeindex(df: pd.DataFrame, timefreq=\"10s\", aggregator=\"mean\"):\n",
    "    df = df.set_index(\"timestamp\")\n",
    "    df = df[~df.index.duplicated(keep=\"first\")]\n",
    "    df = df.resample(timefreq).aggregate(aggregator)\n",
    "    scaler = skp.MinMaxScaler()\n",
    "    df = pd.DataFrame(scaler.fit_transform(df), index=df.index, columns=df.columns)\n",
    "    return df, scaler\n",
    "\n",
    "data_resampled, scaler = scale_and_resample_timeindex(data_temp, timefreq=\"10s\", aggregator=\"mean\")\n",
    "data_resampled.head(3)"
   ]
  },
  {
   "attachments": {},
   "cell_type": "markdown",
   "metadata": {},
   "source": [
    "Save resampled data for further use and analysis"
   ]
  },
  {
   "cell_type": "code",
   "execution_count": 7,
   "metadata": {},
   "outputs": [],
   "source": [
    "dir = pl.Path(\"../data/preprocessed/\")\n",
    "dir.mkdir(exist_ok=True)\n",
    "data_resampled.to_csv(dir / \"resampled.csv\")"
   ]
  },
  {
   "attachments": {},
   "cell_type": "markdown",
   "metadata": {},
   "source": [
    "\n",
    "Visualize resampled data"
   ]
  },
  {
   "cell_type": "code",
   "execution_count": 8,
   "metadata": {},
   "outputs": [
    {
     "data": {
      "image/png": "[encoded data removed]",
      "text/plain": [
       "<Figure size 640x480 with 1 Axes>"
      ]
     },
     "metadata": {},
     "output_type": "display_data"
    }
   ],
   "source": [
    "fig, ax = plt.subplots()\n",
    "ax.plot(data_resampled.index.to_numpy(), data_resampled[\"differential_potential_CH1\"].to_numpy())\n",
    "plt.show()"
   ]
  },
  {
   "attachments": {},
   "cell_type": "markdown",
   "metadata": {},
   "source": [
    "apply sliding window to extract labeled data set"
   ]
  },
  {
   "cell_type": "code",
   "execution_count": 9,
   "metadata": {},
   "outputs": [
    {
     "name": "stderr",
     "output_type": "stream",
     "text": [
      "100%|██████████| 413134/413134 [01:17<00:00, 5351.52it/s]\n"
     ]
    },
    {
     "data": {
      "text/plain": [
       "413134"
      ]
     },
     "metadata": {},
     "output_type": "display_data"
    },
    {
     "data": {
      "text/plain": [
       "'window example:'"
      ]
     },
     "metadata": {},
     "output_type": "display_data"
    },
    {
     "data": {
      "text/html": [
       "<div>\n",
       "<style scoped>\n",
       "    .dataframe tbody tr th:only-of-type {\n",
       "        vertical-align: middle;\n",
       "    }\n",
       "\n",
       "    .dataframe tbody tr th {\n",
       "        vertical-align: top;\n",
       "    }\n",
       "\n",
       "    .dataframe thead th {\n",
       "        text-align: right;\n",
       "    }\n",
       "</style>\n",
       "<table border=\"1\" class=\"dataframe\">\n",
       "  <thead>\n",
       "    <tr style=\"text-align: right;\">\n",
       "      <th></th>\n",
       "      <th>timestamp</th>\n",
       "      <th>differential_potential_CH1</th>\n",
       "      <th>differential_potential_CH2</th>\n",
       "      <th>transpiration</th>\n",
       "    </tr>\n",
       "  </thead>\n",
       "  <tbody>\n",
       "    <tr>\n",
       "      <th>0</th>\n",
       "      <td>2022-01-22 13:53:40</td>\n",
       "      <td>0.836353</td>\n",
       "      <td>0.536408</td>\n",
       "      <td>0.718769</td>\n",
       "    </tr>\n",
       "    <tr>\n",
       "      <th>1</th>\n",
       "      <td>2022-01-22 13:53:50</td>\n",
       "      <td>0.838699</td>\n",
       "      <td>0.519598</td>\n",
       "      <td>0.726964</td>\n",
       "    </tr>\n",
       "    <tr>\n",
       "      <th>2</th>\n",
       "      <td>2022-01-22 13:54:00</td>\n",
       "      <td>0.839003</td>\n",
       "      <td>0.520106</td>\n",
       "      <td>0.721901</td>\n",
       "    </tr>\n",
       "    <tr>\n",
       "      <th>3</th>\n",
       "      <td>2022-01-22 13:54:10</td>\n",
       "      <td>0.842335</td>\n",
       "      <td>0.518108</td>\n",
       "      <td>0.714783</td>\n",
       "    </tr>\n",
       "    <tr>\n",
       "      <th>4</th>\n",
       "      <td>2022-01-22 13:54:20</td>\n",
       "      <td>0.843746</td>\n",
       "      <td>0.517209</td>\n",
       "      <td>0.70977</td>\n",
       "    </tr>\n",
       "  </tbody>\n",
       "</table>\n",
       "</div>"
      ],
      "text/plain": [
       "            timestamp differential_potential_CH1 differential_potential_CH2   \n",
       "0 2022-01-22 13:53:40                   0.836353                   0.536408  \\\n",
       "1 2022-01-22 13:53:50                   0.838699                   0.519598   \n",
       "2 2022-01-22 13:54:00                   0.839003                   0.520106   \n",
       "3 2022-01-22 13:54:10                   0.842335                   0.518108   \n",
       "4 2022-01-22 13:54:20                   0.843746                   0.517209   \n",
       "\n",
       "  transpiration  \n",
       "0      0.718769  \n",
       "1      0.726964  \n",
       "2      0.721901  \n",
       "3      0.714783  \n",
       "4       0.70977  "
      ]
     },
     "metadata": {},
     "output_type": "display_data"
    }
   ],
   "source": [
    "def time_indexed_data_to_sliding_window(df: pd.DataFrame, window_size=5):\n",
    "    n_rows = df.shape[0]\n",
    "    df = df.reset_index()\n",
    "    windows = []\n",
    "    for i in tqdm(range(n_rows-window_size)):\n",
    "        window = df.loc[i:i+window_size-1,:]\n",
    "        windows.append(np.array(window))\n",
    "\n",
    "\n",
    "    return windows, [\"batch\", *df.columns]\n",
    "\n",
    "\n",
    "data, column_names = time_indexed_data_to_sliding_window(data_resampled, window_size=5)\n",
    "display(len(data), \"window example:\", pd.DataFrame(data[0], columns=column_names[1:]))"
   ]
  },
  {
   "attachments": {},
   "cell_type": "markdown",
   "metadata": {},
   "source": [
    "convert windows to X, Y  data points and reject datapoints that contain nan"
   ]
  },
  {
   "cell_type": "code",
   "execution_count": 10,
   "metadata": {},
   "outputs": [
    {
     "data": {
      "text/plain": [
       "(277925, 4, 3)"
      ]
     },
     "metadata": {},
     "output_type": "display_data"
    },
    {
     "data": {
      "text/plain": [
       "(277925, 1, 3)"
      ]
     },
     "metadata": {},
     "output_type": "display_data"
    },
    {
     "data": {
      "text/plain": [
       "(array([[0.83635333, 0.53640751, 0.71876864],\n",
       "        [0.83869946, 0.51959845, 0.72696387],\n",
       "        [0.83900298, 0.52010564, 0.72190089],\n",
       "        [0.84233506, 0.51810784, 0.7147829 ]]),\n",
       " array([[0.84374593, 0.51720851, 0.70976964]]))"
      ]
     },
     "execution_count": 10,
     "metadata": {},
     "output_type": "execute_result"
    }
   ],
   "source": [
    "# returns format batch, len_x observations, label is next window_size-len_x observations\n",
    "def convert_to_feature_labels(windows: list[np.ndarray], len_x = 4): # len_x < window_size, discards timestamp\n",
    "    windows = [w[:,1:].astype(float) for w in windows] # reject timestamp (at col 0)\n",
    "    valid_windows = [w for w in windows if not np.isnan(w).any()]\n",
    "    features = [w[:len_x,:] for w in valid_windows]\n",
    "    labels = [w[len_x:] for w in valid_windows]\n",
    "    return np.array(features), np.array(labels)\n",
    "\n",
    "features, labels = convert_to_feature_labels(data, len_x=4)   \n",
    "display(features.shape, labels.shape)\n",
    "features[0], labels[0]"
   ]
  },
  {
   "attachments": {},
   "cell_type": "markdown",
   "metadata": {},
   "source": [
    "## Demo Simple Network\n",
    "For experimentation with pytorch, define a simple network and train data on it"
   ]
  },
  {
   "attachments": {},
   "cell_type": "markdown",
   "metadata": {},
   "source": [
    "define encoder"
   ]
  },
  {
   "cell_type": "code",
   "execution_count": 13,
   "metadata": {},
   "outputs": [
    {
     "data": {
      "text/plain": [
       "tensor([[0.8364, 0.5364, 0.7188]])"
      ]
     },
     "metadata": {},
     "output_type": "display_data"
    },
    {
     "data": {
      "text/plain": [
       "tensor([[[ 1.0000, -1.0000]]], grad_fn=<NativeLayerNormBackward0>)"
      ]
     },
     "execution_count": 13,
     "metadata": {},
     "output_type": "execute_result"
    }
   ],
   "source": [
    "# adapted from https://pytorch.org/tutorials/beginner/transformer_tutorial.html\n",
    "class PositionalEncoding(nn.Module):\n",
    "    def __init__(self, d_model: int, dropout: float = 0.1, max_len: int = 5000):\n",
    "        super().__init__()\n",
    "        self.dropout = nn.Dropout(p=dropout)\n",
    "\n",
    "        position = torch.arange(max_len).unsqueeze(1)\n",
    "        div_term = torch.exp(torch.arange(0, d_model, 2) * (-math.log(10000.0) / d_model))\n",
    "        pe = torch.zeros(max_len, 1, d_model)\n",
    "        pe[:, 0, 0::2] = torch.sin(position * div_term)\n",
    "        pe[:, 0, 1::2] = torch.cos(position * div_term) # TODO: why does this crash when d_model = 3?\n",
    "        self.register_buffer('pe', pe)\n",
    "\n",
    "    def forward(self, x: torch.Tensor) -> torch.Tensor:\n",
    "        \"\"\"\n",
    "        Arguments:\n",
    "            x: Tensor, shape ``[seq_len, batch_size, embedding_dim]``\n",
    "        \"\"\"\n",
    "        x = x + self.pe[:x.size(0)]\n",
    "        return self.dropout(x)\n",
    "\n",
    "class Encoder(nn.Module):\n",
    "    def __init__(self, d_input, d_model):\n",
    "        super(Encoder, self).__init__()\n",
    "        # dummy parameter to store device\n",
    "        self.device = device\n",
    "\n",
    "        # define layers (layers are functions)\n",
    "        self.input_layer = nn.Linear(d_input, d_model) # input layer, 10 features in, 10 features out (== keras dense)\n",
    "        self.pos_encoding_layer = PositionalEncoding(d_model,dropout=0.2)\n",
    "        self.encoder_layers = nn.TransformerEncoder(nn.TransformerEncoderLayer(d_model=d_model, nhead=1, dropout=0.2), num_layers=4) # stacks multiple encoder layers, contains self attention and feed forward with normalization in between, TODO: how many heads?\n",
    "\n",
    "    # forward pass data x through network\n",
    "    def forward(self, x: torch.Tensor):\n",
    "        x = self.input_layer(x)\n",
    "        x = self.pos_encoding_layer(x)\n",
    "        x = self.encoder_layers(x)\n",
    "        return x\n",
    "\n",
    "demo_data = torch.Tensor(features[0][:1,:]).to(device)\n",
    "d_input = demo_data.shape[1] # columns as input dimension\n",
    "d_model = 2\n",
    "model = Encoder(d_input=d_input, d_model=d_model)\n",
    "model.to(device)\n",
    "display(demo_data)\n",
    "\n",
    "\n",
    "model(demo_data)\n"
   ]
  },
  {
   "attachments": {},
   "cell_type": "markdown",
   "metadata": {},
   "source": [
    "define decoder"
   ]
  },
  {
   "cell_type": "code",
   "execution_count": 18,
   "metadata": {},
   "outputs": [
    {
     "data": {
      "text/plain": [
       "tensor([[0.8364, 0.5364, 0.7188]])"
      ]
     },
     "metadata": {},
     "output_type": "display_data"
    },
    {
     "data": {
      "text/plain": [
       "tensor([[ 0.8869, -0.6424,  0.2984]], grad_fn=<AddmmBackward0>)"
      ]
     },
     "execution_count": 18,
     "metadata": {},
     "output_type": "execute_result"
    }
   ],
   "source": [
    "        \n",
    "class Decoder(nn.Module):\n",
    "    def __init__(self, d_input, d_model):\n",
    "        super(Decoder, self).__init__()\n",
    "        # dummy parameter to store device\n",
    "        self.device = device\n",
    "\n",
    "        # define layers (layers are functions)\n",
    "        self.input_layer = nn.Linear(d_input, d_model) # input layer, 10 features in, 10 features out (== keras dense)\n",
    "        self.decoder_layers = nn.TransformerDecoder(nn.TransformerDecoderLayer(d_model=d_model, nhead=1, dropout=0.2), num_layers=4)\n",
    "        self.linear_mapping = nn.Linear(\n",
    "            in_features=d_model, \n",
    "            out_features=d_input\n",
    "            )\n",
    "\n",
    "\n",
    "    # forward pass data x through network\n",
    "    def forward(self, x: torch.Tensor, memory: torch.Tensor): #NOTE: TODO: implement Masking\n",
    "        x = self.input_layer(x)\n",
    "        x = self.decoder_layers(x,memory=memory)\n",
    "        x = self.linear_mapping(x)\n",
    "        return x\n",
    "    \n",
    "demo_data_target = torch.Tensor(features[0][:1,:]).to(device)\n",
    "demo_data_memory = torch.Tensor(features[0][2:3,:]).to(device)\n",
    "d_input = demo_data_target.shape[1] # columns as input dimension\n",
    "d_model = d_input # needs to be equal?\n",
    "model = Decoder(d_input=d_input, d_model=d_model)\n",
    "model.to(device)\n",
    "display(demo_data)\n",
    "\n",
    "\n",
    "model(demo_data_target, demo_data_memory)"
   ]
  },
  {
   "cell_type": "code",
   "execution_count": null,
   "metadata": {},
   "outputs": [
    {
     "data": {
      "text/plain": [
       "3"
      ]
     },
     "execution_count": 11,
     "metadata": {},
     "output_type": "execute_result"
    }
   ],
   "source": [
    "d_input"
   ]
  },
  {
   "attachments": {},
   "cell_type": "markdown",
   "metadata": {},
   "source": [
    "Network Training"
   ]
  },
  {
   "cell_type": "code",
   "execution_count": null,
   "metadata": {},
   "outputs": [
    {
     "ename": "NameError",
     "evalue": "name 'SimpleNet' is not defined",
     "output_type": "error",
     "traceback": [
      "\u001b[0;31m---------------------------------------------------------------------------\u001b[0m",
      "\u001b[0;31mNameError\u001b[0m                                 Traceback (most recent call last)",
      "Cell \u001b[0;32mIn[12], line 2\u001b[0m\n\u001b[1;32m      1\u001b[0m \u001b[39m#%%\u001b[39;00m\n\u001b[0;32m----> 2\u001b[0m net \u001b[39m=\u001b[39m SimpleNet()\n\u001b[1;32m      3\u001b[0m net\u001b[39m.\u001b[39mto(device)\n\u001b[1;32m      4\u001b[0m \u001b[39mprint\u001b[39m(net)\n",
      "\u001b[0;31mNameError\u001b[0m: name 'SimpleNet' is not defined"
     ]
    }
   ],
   "source": [
    "#%%\n",
    "net = SimpleNet()\n",
    "net.to(device)\n",
    "print(net)\n",
    "#%%\n",
    "for i in range (100):\n",
    "    # main training loop / pipeline\n",
    "    #data = torch.randn(10,10) # 10 data points (directly create batch of 10)\n",
    "    # define mockup data\n",
    "    data_x = [1,0,0,0,1,0,0,0,1,1]\n",
    "    data_y = [0,1,1,1,0,1,1,1,0,0]\n",
    "    input_layer = Variable(torch.Tensor([data_x for _ in range(10)])).to(net.device) # create as batch (duplicate for demonstration)\n",
    "    target = Variable(torch.Tensor([data_y for _ in range(10)])).to(net.device) # s.o.\n",
    "    \n",
    "    # forward pass\n",
    "    out = net(input_layer)\n",
    "    loss = F.mse_loss(out, target)\n",
    "    net.zero_grad() # net accumulates errors and needs to be reset manually each step\n",
    "\n",
    "    # backpropagation\n",
    "    loss.backward()\n",
    "    learning_rate = 0.1\n",
    "    optimizer = opt.SGD(net.parameters(), lr=learning_rate) # default stochastic gradient descent\n",
    "    optimizer.step()\n",
    "    \n",
    "    print(loss)\n",
    "#%%\n",
    "# example result of trained net and conversion to numpy\n",
    "x_numpy = np.array([1,0,0,0,1,0,0,0,1,1])\n",
    "x = torch.Tensor(x_numpy).to(net.device)\n",
    "y = net(x)\n",
    "y_numpy = y.detach().cpu().numpy()\n",
    "print(\"in  \", x_numpy.astype(np.int8))\n",
    "print(\"out \", np.abs(np.rint(y_numpy)).astype(np.int8)) # as nearest (positive) int\n",
    "# %%"
   ]
  }
 ],
 "metadata": {
  "kernelspec": {
   "display_name": "venv",
   "language": "python",
   "name": "python3"
  },
  "language_info": {
   "codemirror_mode": {
    "name": "ipython",
    "version": 3
   },
   "file_extension": ".py",
   "mimetype": "text/x-python",
   "name": "python",
   "nbconvert_exporter": "python",
   "pygments_lexer": "ipython3",
   "version": "3.11.3"
  },
  "orig_nbformat": 4
 },
 "nbformat": 4,
 "nbformat_minor": 2
}
