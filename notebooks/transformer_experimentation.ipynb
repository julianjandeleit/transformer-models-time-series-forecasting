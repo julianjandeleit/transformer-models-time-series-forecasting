{
 "cells": [
  {
   "attachments": {},
   "cell_type": "markdown",
   "metadata": {},
   "source": [
    "# Prelude"
   ]
  },
  {
   "cell_type": "code",
   "execution_count": 1,
   "metadata": {},
   "outputs": [],
   "source": [
    "import sys\n",
    "import pathlib as pl\n",
    "sys.path.insert(0,str(pl.Path(\"../\").absolute()))"
   ]
  },
  {
   "cell_type": "code",
   "execution_count": 2,
   "metadata": {},
   "outputs": [],
   "source": [
    "\n",
    "import numpy as np\n",
    "import pandas as pd\n",
    "import torch\n",
    "import torch.nn as nn # neuronal layers, function objects\n",
    "import torch.nn.functional as F # contains activation functions\n",
    "from torch.autograd import Variable # wrapper for tensor\n",
    "import torch.optim as opt\n",
    "import numpy as np\n",
    "import sklearn.preprocessing as skp\n",
    "from utils.data_loader import load_data\n",
    "from tqdm import tqdm\n",
    "import matplotlib.pyplot as plt\n",
    "import math\n",
    "from dataclasses import dataclass, asdict\n",
    "from typing import *"
   ]
  },
  {
   "cell_type": "code",
   "execution_count": 3,
   "metadata": {},
   "outputs": [
    {
     "name": "stdout",
     "output_type": "stream",
     "text": [
      "using device: cuda\n"
     ]
    }
   ],
   "source": [
    "device = torch.device(\"cuda\" if torch.cuda.is_available() else \"cpu\")\n",
    "print(f\"using device: {device}\")"
   ]
  },
  {
   "cell_type": "code",
   "execution_count": 4,
   "metadata": {},
   "outputs": [
    {
     "data": {
      "text/html": [
       "<div>\n",
       "<style scoped>\n",
       "    .dataframe tbody tr th:only-of-type {\n",
       "        vertical-align: middle;\n",
       "    }\n",
       "\n",
       "    .dataframe tbody tr th {\n",
       "        vertical-align: top;\n",
       "    }\n",
       "\n",
       "    .dataframe thead th {\n",
       "        text-align: right;\n",
       "    }\n",
       "</style>\n",
       "<table border=\"1\" class=\"dataframe\">\n",
       "  <thead>\n",
       "    <tr style=\"text-align: right;\">\n",
       "      <th></th>\n",
       "      <th>timestamp</th>\n",
       "      <th>differential_potential_CH1</th>\n",
       "      <th>differential_potential_CH2</th>\n",
       "      <th>transpiration</th>\n",
       "    </tr>\n",
       "  </thead>\n",
       "  <tbody>\n",
       "    <tr>\n",
       "      <th>0</th>\n",
       "      <td>2022-01-22 13:53:42</td>\n",
       "      <td>526487</td>\n",
       "      <td>467544</td>\n",
       "      <td>442</td>\n",
       "    </tr>\n",
       "    <tr>\n",
       "      <th>1</th>\n",
       "      <td>2022-01-22 13:53:44</td>\n",
       "      <td>526542</td>\n",
       "      <td>467315</td>\n",
       "      <td>461</td>\n",
       "    </tr>\n",
       "    <tr>\n",
       "      <th>2</th>\n",
       "      <td>2022-01-22 13:53:45</td>\n",
       "      <td>526532</td>\n",
       "      <td>466868</td>\n",
       "      <td>466</td>\n",
       "    </tr>\n",
       "  </tbody>\n",
       "</table>\n",
       "</div>"
      ],
      "text/plain": [
       "            timestamp  differential_potential_CH1  differential_potential_CH2  \\\n",
       "0 2022-01-22 13:53:42                      526487                      467544   \n",
       "1 2022-01-22 13:53:44                      526542                      467315   \n",
       "2 2022-01-22 13:53:45                      526532                      466868   \n",
       "\n",
       "   transpiration  \n",
       "0            442  \n",
       "1            461  \n",
       "2            466  "
      ]
     },
     "metadata": {},
     "output_type": "display_data"
    },
    {
     "data": {
      "text/html": [
       "<div>\n",
       "<style scoped>\n",
       "    .dataframe tbody tr th:only-of-type {\n",
       "        vertical-align: middle;\n",
       "    }\n",
       "\n",
       "    .dataframe tbody tr th {\n",
       "        vertical-align: top;\n",
       "    }\n",
       "\n",
       "    .dataframe thead th {\n",
       "        text-align: right;\n",
       "    }\n",
       "</style>\n",
       "<table border=\"1\" class=\"dataframe\">\n",
       "  <thead>\n",
       "    <tr style=\"text-align: right;\">\n",
       "      <th></th>\n",
       "      <th>timestamp</th>\n",
       "      <th>differential_potential_CH1</th>\n",
       "      <th>differential_potential_CH2</th>\n",
       "      <th>transpiration</th>\n",
       "    </tr>\n",
       "  </thead>\n",
       "  <tbody>\n",
       "    <tr>\n",
       "      <th>0</th>\n",
       "      <td>2022-01-22 13:53:37</td>\n",
       "      <td>505940</td>\n",
       "      <td>507749</td>\n",
       "      <td>621</td>\n",
       "    </tr>\n",
       "    <tr>\n",
       "      <th>1</th>\n",
       "      <td>2022-01-22 13:53:38</td>\n",
       "      <td>505846</td>\n",
       "      <td>507807</td>\n",
       "      <td>632</td>\n",
       "    </tr>\n",
       "    <tr>\n",
       "      <th>2</th>\n",
       "      <td>2022-01-22 13:53:40</td>\n",
       "      <td>505990</td>\n",
       "      <td>507764</td>\n",
       "      <td>629</td>\n",
       "    </tr>\n",
       "  </tbody>\n",
       "</table>\n",
       "</div>"
      ],
      "text/plain": [
       "            timestamp  differential_potential_CH1  differential_potential_CH2  \\\n",
       "0 2022-01-22 13:53:37                      505940                      507749   \n",
       "1 2022-01-22 13:53:38                      505846                      507807   \n",
       "2 2022-01-22 13:53:40                      505990                      507764   \n",
       "\n",
       "   transpiration  \n",
       "0            621  \n",
       "1            632  \n",
       "2            629  "
      ]
     },
     "metadata": {},
     "output_type": "display_data"
    }
   ],
   "source": [
    "data_temp, data_wind = load_data()\n",
    "display(data_temp.head(3))\n",
    "display(data_wind.head(3))"
   ]
  },
  {
   "attachments": {},
   "cell_type": "markdown",
   "metadata": {},
   "source": [
    "Functions for Preprocessing"
   ]
  },
  {
   "cell_type": "code",
   "execution_count": 5,
   "metadata": {},
   "outputs": [],
   "source": [
    "def scale_and_resample_timeindex(df: pd.DataFrame, timefreq=\"10s\", aggregator=\"mean\"):\n",
    "    df = df.set_index(\"timestamp\")\n",
    "    df = df[~df.index.duplicated(keep=\"first\")]\n",
    "    df = df.resample(timefreq).aggregate(aggregator)\n",
    "    scaler = skp.MinMaxScaler()\n",
    "    df = pd.DataFrame(scaler.fit_transform(df), index=df.index, columns=df.columns)\n",
    "    return df, scaler\n",
    "\n",
    "def time_indexed_data_to_sliding_window(df: pd.DataFrame, window_size=5):\n",
    "    n_rows = df.shape[0]\n",
    "    df = df.reset_index()\n",
    "    windows = []\n",
    "    for i in tqdm(range(n_rows-window_size)):\n",
    "        window = df.loc[i:i+window_size-1,:]\n",
    "        windows.append(np.array(window))\n",
    "\n",
    "\n",
    "    return windows, [\"batch\", *df.columns]\n",
    "\n",
    "# returns format batch, len_x observations, label is next window_size-len_x observations\n",
    "def convert_to_feature_labels(windows: list[np.ndarray], len_x = 10): # len_x < window_size, discards timestamp\n",
    "    windows = [w[:,1:].astype(float) for w in windows] # reject timestamp (at col 0)\n",
    "    valid_windows = [w for w in windows if not np.isnan(w).any()]\n",
    "    features = [w[:len_x,:] for w in valid_windows]\n",
    "    labels = [w[len_x:] for w in valid_windows]\n",
    "    return np.array(features), np.array(labels)"
   ]
  },
  {
   "attachments": {},
   "cell_type": "markdown",
   "metadata": {},
   "source": [
    "# Experimentation"
   ]
  },
  {
   "attachments": {},
   "cell_type": "markdown",
   "metadata": {},
   "source": [
    "## Data Preprocessing"
   ]
  },
  {
   "attachments": {},
   "cell_type": "markdown",
   "metadata": {},
   "source": [
    "convert data to sample with same time interval spacing"
   ]
  },
  {
   "cell_type": "code",
   "execution_count": 6,
   "metadata": {},
   "outputs": [
    {
     "data": {
      "text/html": [
       "<div>\n",
       "<style scoped>\n",
       "    .dataframe tbody tr th:only-of-type {\n",
       "        vertical-align: middle;\n",
       "    }\n",
       "\n",
       "    .dataframe tbody tr th {\n",
       "        vertical-align: top;\n",
       "    }\n",
       "\n",
       "    .dataframe thead th {\n",
       "        text-align: right;\n",
       "    }\n",
       "</style>\n",
       "<table border=\"1\" class=\"dataframe\">\n",
       "  <thead>\n",
       "    <tr style=\"text-align: right;\">\n",
       "      <th></th>\n",
       "      <th>differential_potential_CH1</th>\n",
       "      <th>differential_potential_CH2</th>\n",
       "      <th>transpiration</th>\n",
       "    </tr>\n",
       "    <tr>\n",
       "      <th>timestamp</th>\n",
       "      <th></th>\n",
       "      <th></th>\n",
       "      <th></th>\n",
       "    </tr>\n",
       "  </thead>\n",
       "  <tbody>\n",
       "    <tr>\n",
       "      <th>2022-01-22 13:53:40</th>\n",
       "      <td>0.836353</td>\n",
       "      <td>0.536408</td>\n",
       "      <td>0.718769</td>\n",
       "    </tr>\n",
       "    <tr>\n",
       "      <th>2022-01-22 13:53:50</th>\n",
       "      <td>0.838699</td>\n",
       "      <td>0.519598</td>\n",
       "      <td>0.726964</td>\n",
       "    </tr>\n",
       "    <tr>\n",
       "      <th>2022-01-22 13:54:00</th>\n",
       "      <td>0.839003</td>\n",
       "      <td>0.520106</td>\n",
       "      <td>0.721901</td>\n",
       "    </tr>\n",
       "  </tbody>\n",
       "</table>\n",
       "</div>"
      ],
      "text/plain": [
       "                     differential_potential_CH1  differential_potential_CH2  \\\n",
       "timestamp                                                                     \n",
       "2022-01-22 13:53:40                    0.836353                    0.536408   \n",
       "2022-01-22 13:53:50                    0.838699                    0.519598   \n",
       "2022-01-22 13:54:00                    0.839003                    0.520106   \n",
       "\n",
       "                     transpiration  \n",
       "timestamp                           \n",
       "2022-01-22 13:53:40       0.718769  \n",
       "2022-01-22 13:53:50       0.726964  \n",
       "2022-01-22 13:54:00       0.721901  "
      ]
     },
     "execution_count": 6,
     "metadata": {},
     "output_type": "execute_result"
    }
   ],
   "source": [
    "data_resampled, scaler = scale_and_resample_timeindex(data_temp, timefreq=\"10s\", aggregator=\"mean\")\n",
    "data_resampled.head(3)"
   ]
  },
  {
   "attachments": {},
   "cell_type": "markdown",
   "metadata": {},
   "source": [
    "Save resampled data for further use and analysis"
   ]
  },
  {
   "cell_type": "code",
   "execution_count": 7,
   "metadata": {},
   "outputs": [],
   "source": [
    "dir = pl.Path(\"../data/preprocessed/\")\n",
    "dir.mkdir(exist_ok=True)\n",
    "data_resampled.to_csv(dir / \"resampled.csv\")"
   ]
  },
  {
   "attachments": {},
   "cell_type": "markdown",
   "metadata": {},
   "source": [
    "\n",
    "Visualize resampled data"
   ]
  },
  {
   "cell_type": "code",
   "execution_count": 8,
   "metadata": {},
   "outputs": [
    {
     "data": {
      "image/png": "[encoded data removed]",
      "text/plain": [
       "<Figure size 640x480 with 1 Axes>"
      ]
     },
     "metadata": {},
     "output_type": "display_data"
    }
   ],
   "source": [
    "fig, ax = plt.subplots()\n",
    "ax.plot(data_resampled.index.to_numpy(), data_resampled[\"differential_potential_CH1\"].to_numpy())\n",
    "plt.show()"
   ]
  },
  {
   "attachments": {},
   "cell_type": "markdown",
   "metadata": {},
   "source": [
    "apply sliding window to extract labeled data set"
   ]
  },
  {
   "cell_type": "code",
   "execution_count": 9,
   "metadata": {},
   "outputs": [
    {
     "name": "stderr",
     "output_type": "stream",
     "text": [
      "100%|██████████| 413124/413124 [00:53<00:00, 7673.53it/s]\n"
     ]
    },
    {
     "data": {
      "text/plain": [
       "413124"
      ]
     },
     "metadata": {},
     "output_type": "display_data"
    },
    {
     "data": {
      "text/plain": [
       "'window example:'"
      ]
     },
     "metadata": {},
     "output_type": "display_data"
    },
    {
     "data": {
      "text/html": [
       "<div>\n",
       "<style scoped>\n",
       "    .dataframe tbody tr th:only-of-type {\n",
       "        vertical-align: middle;\n",
       "    }\n",
       "\n",
       "    .dataframe tbody tr th {\n",
       "        vertical-align: top;\n",
       "    }\n",
       "\n",
       "    .dataframe thead th {\n",
       "        text-align: right;\n",
       "    }\n",
       "</style>\n",
       "<table border=\"1\" class=\"dataframe\">\n",
       "  <thead>\n",
       "    <tr style=\"text-align: right;\">\n",
       "      <th></th>\n",
       "      <th>timestamp</th>\n",
       "      <th>differential_potential_CH1</th>\n",
       "      <th>differential_potential_CH2</th>\n",
       "      <th>transpiration</th>\n",
       "    </tr>\n",
       "  </thead>\n",
       "  <tbody>\n",
       "    <tr>\n",
       "      <th>0</th>\n",
       "      <td>2022-01-22 13:53:40</td>\n",
       "      <td>0.836353</td>\n",
       "      <td>0.536408</td>\n",
       "      <td>0.718769</td>\n",
       "    </tr>\n",
       "    <tr>\n",
       "      <th>1</th>\n",
       "      <td>2022-01-22 13:53:50</td>\n",
       "      <td>0.838699</td>\n",
       "      <td>0.519598</td>\n",
       "      <td>0.726964</td>\n",
       "    </tr>\n",
       "    <tr>\n",
       "      <th>2</th>\n",
       "      <td>2022-01-22 13:54:00</td>\n",
       "      <td>0.839003</td>\n",
       "      <td>0.520106</td>\n",
       "      <td>0.721901</td>\n",
       "    </tr>\n",
       "    <tr>\n",
       "      <th>3</th>\n",
       "      <td>2022-01-22 13:54:10</td>\n",
       "      <td>0.842335</td>\n",
       "      <td>0.518108</td>\n",
       "      <td>0.714783</td>\n",
       "    </tr>\n",
       "    <tr>\n",
       "      <th>4</th>\n",
       "      <td>2022-01-22 13:54:20</td>\n",
       "      <td>0.843746</td>\n",
       "      <td>0.517209</td>\n",
       "      <td>0.70977</td>\n",
       "    </tr>\n",
       "    <tr>\n",
       "      <th>5</th>\n",
       "      <td>2022-01-22 13:54:30</td>\n",
       "      <td>0.912409</td>\n",
       "      <td>0.512693</td>\n",
       "      <td>0.709811</td>\n",
       "    </tr>\n",
       "    <tr>\n",
       "      <th>6</th>\n",
       "      <td>2022-01-22 13:54:40</td>\n",
       "      <td>0.874138</td>\n",
       "      <td>0.513865</td>\n",
       "      <td>0.715529</td>\n",
       "    </tr>\n",
       "    <tr>\n",
       "      <th>7</th>\n",
       "      <td>2022-01-22 13:54:50</td>\n",
       "      <td>0.870078</td>\n",
       "      <td>0.515041</td>\n",
       "      <td>0.709123</td>\n",
       "    </tr>\n",
       "    <tr>\n",
       "      <th>8</th>\n",
       "      <td>2022-01-22 13:55:00</td>\n",
       "      <td>0.873781</td>\n",
       "      <td>0.515778</td>\n",
       "      <td>0.711634</td>\n",
       "    </tr>\n",
       "    <tr>\n",
       "      <th>9</th>\n",
       "      <td>2022-01-22 13:55:10</td>\n",
       "      <td>0.870343</td>\n",
       "      <td>0.515506</td>\n",
       "      <td>0.716813</td>\n",
       "    </tr>\n",
       "    <tr>\n",
       "      <th>10</th>\n",
       "      <td>2022-01-22 13:55:20</td>\n",
       "      <td>0.866557</td>\n",
       "      <td>0.514553</td>\n",
       "      <td>0.718097</td>\n",
       "    </tr>\n",
       "    <tr>\n",
       "      <th>11</th>\n",
       "      <td>2022-01-22 13:55:30</td>\n",
       "      <td>0.866072</td>\n",
       "      <td>0.520458</td>\n",
       "      <td>0.714095</td>\n",
       "    </tr>\n",
       "    <tr>\n",
       "      <th>12</th>\n",
       "      <td>2022-01-22 13:55:40</td>\n",
       "      <td>0.859526</td>\n",
       "      <td>0.520366</td>\n",
       "      <td>0.721246</td>\n",
       "    </tr>\n",
       "    <tr>\n",
       "      <th>13</th>\n",
       "      <td>2022-01-22 13:55:50</td>\n",
       "      <td>0.816452</td>\n",
       "      <td>0.527265</td>\n",
       "      <td>0.718677</td>\n",
       "    </tr>\n",
       "    <tr>\n",
       "      <th>14</th>\n",
       "      <td>2022-01-22 13:56:00</td>\n",
       "      <td>0.83448</td>\n",
       "      <td>0.526538</td>\n",
       "      <td>0.723774</td>\n",
       "    </tr>\n",
       "  </tbody>\n",
       "</table>\n",
       "</div>"
      ],
      "text/plain": [
       "             timestamp differential_potential_CH1 differential_potential_CH2  \\\n",
       "0  2022-01-22 13:53:40                   0.836353                   0.536408   \n",
       "1  2022-01-22 13:53:50                   0.838699                   0.519598   \n",
       "2  2022-01-22 13:54:00                   0.839003                   0.520106   \n",
       "3  2022-01-22 13:54:10                   0.842335                   0.518108   \n",
       "4  2022-01-22 13:54:20                   0.843746                   0.517209   \n",
       "5  2022-01-22 13:54:30                   0.912409                   0.512693   \n",
       "6  2022-01-22 13:54:40                   0.874138                   0.513865   \n",
       "7  2022-01-22 13:54:50                   0.870078                   0.515041   \n",
       "8  2022-01-22 13:55:00                   0.873781                   0.515778   \n",
       "9  2022-01-22 13:55:10                   0.870343                   0.515506   \n",
       "10 2022-01-22 13:55:20                   0.866557                   0.514553   \n",
       "11 2022-01-22 13:55:30                   0.866072                   0.520458   \n",
       "12 2022-01-22 13:55:40                   0.859526                   0.520366   \n",
       "13 2022-01-22 13:55:50                   0.816452                   0.527265   \n",
       "14 2022-01-22 13:56:00                    0.83448                   0.526538   \n",
       "\n",
       "   transpiration  \n",
       "0       0.718769  \n",
       "1       0.726964  \n",
       "2       0.721901  \n",
       "3       0.714783  \n",
       "4        0.70977  \n",
       "5       0.709811  \n",
       "6       0.715529  \n",
       "7       0.709123  \n",
       "8       0.711634  \n",
       "9       0.716813  \n",
       "10      0.718097  \n",
       "11      0.714095  \n",
       "12      0.721246  \n",
       "13      0.718677  \n",
       "14      0.723774  "
      ]
     },
     "metadata": {},
     "output_type": "display_data"
    }
   ],
   "source": [
    "\n",
    "data, column_names = time_indexed_data_to_sliding_window(data_resampled, window_size=15)\n",
    "display(len(data), \"window example:\", pd.DataFrame(data[0], columns=column_names[1:]))"
   ]
  },
  {
   "attachments": {},
   "cell_type": "markdown",
   "metadata": {},
   "source": [
    "save window for later use"
   ]
  },
  {
   "cell_type": "code",
   "execution_count": 10,
   "metadata": {},
   "outputs": [],
   "source": [
    "dir = pl.Path(\"../data/preprocessed/\")\n",
    "dir.mkdir(exist_ok=True)\n",
    "np.save(dir / \"window_data\",data)\n",
    "pd.DataFrame(column_names).T.to_csv(dir / \"window_columns.csv\", index=False,header=False)"
   ]
  },
  {
   "attachments": {},
   "cell_type": "markdown",
   "metadata": {},
   "source": [
    "convert windows to X, Y  data points and reject datapoints that contain nan"
   ]
  },
  {
   "cell_type": "code",
   "execution_count": 11,
   "metadata": {},
   "outputs": [
    {
     "data": {
      "text/plain": [
       "(277885, 4, 3)"
      ]
     },
     "metadata": {},
     "output_type": "display_data"
    },
    {
     "data": {
      "text/plain": [
       "(277885, 11, 3)"
      ]
     },
     "metadata": {},
     "output_type": "display_data"
    },
    {
     "data": {
      "text/plain": [
       "(array([[0.83635333, 0.53640751, 0.71876864],\n",
       "        [0.83869946, 0.51959845, 0.72696387],\n",
       "        [0.83900298, 0.52010564, 0.72190089],\n",
       "        [0.84233506, 0.51810784, 0.7147829 ]]),\n",
       " array([[0.84374593, 0.51720851, 0.70976964],\n",
       "        [0.91240873, 0.51269286, 0.70981107],\n",
       "        [0.87413821, 0.51386521, 0.71552867],\n",
       "        [0.87007835, 0.51504076, 0.7091233 ],\n",
       "        [0.87378132, 0.51577775, 0.71163407],\n",
       "        [0.87034251, 0.5155062 , 0.71681306],\n",
       "        [0.86655682, 0.51455284, 0.71809745],\n",
       "        [0.86607185, 0.52045778, 0.71409513],\n",
       "        [0.85952577, 0.52036639, 0.72124627],\n",
       "        [0.81645226, 0.52726468, 0.71867749],\n",
       "        [0.83448016, 0.52653763, 0.72377362]]))"
      ]
     },
     "execution_count": 11,
     "metadata": {},
     "output_type": "execute_result"
    }
   ],
   "source": [
    "features, labels = convert_to_feature_labels(data, len_x=4)   \n",
    "display(features.shape, labels.shape)\n",
    "features[0], labels[0]"
   ]
  },
  {
   "attachments": {},
   "cell_type": "markdown",
   "metadata": {},
   "source": [
    "## Demo Simple Network\n",
    "For experimentation with pytorch, define a simple network and train data on it"
   ]
  },
  {
   "attachments": {},
   "cell_type": "markdown",
   "metadata": {},
   "source": [
    "define encoder"
   ]
  },
  {
   "cell_type": "code",
   "execution_count": 12,
   "metadata": {},
   "outputs": [
    {
     "name": "stdout",
     "output_type": "stream",
     "text": [
      "src shape is [pos in sequence][dimension] torch.Size([4, 3])\n",
      "memory shape is torch.Size([4, 2]) [pos in seq][dim]\n"
     ]
    }
   ],
   "source": [
    "# adapted from https://pytorch.org/tutorials/beginner/transformer_tutorial.html\n",
    "class PositionalEncoding(nn.Module):\n",
    "    def __init__(self, d_model: int, dropout: float = 0.1, max_len: int = 5000):\n",
    "        super().__init__()\n",
    "        self.dropout = nn.Dropout(p=dropout)\n",
    "\n",
    "        position = torch.arange(max_len).unsqueeze(1)\n",
    "        div_term = torch.exp(torch.arange(0, d_model, 2) * (-math.log(10000.0) / d_model))\n",
    "        pe = torch.zeros(max_len, 1, d_model)\n",
    "        pe[:, 0, 0::2] = torch.sin(position * div_term)\n",
    "        pe[:, 0, 1::2] = torch.cos(position * div_term) # TODO: why does this crash when d_model = 3?\n",
    "        self.register_buffer('pe', pe)\n",
    "\n",
    "    def forward(self, x: torch.Tensor) -> torch.Tensor:\n",
    "        \"\"\"\n",
    "        Arguments:\n",
    "            x: Tensor, shape ``[seq_len, batch_size, embedding_dim]``\n",
    "        \"\"\"\n",
    "        x = x + self.pe[:x.size(0)]\n",
    "        return self.dropout(x)\n",
    "\n",
    "class Encoder(nn.Module):\n",
    "    def __init__(self, d_input, d_model):\n",
    "        super(Encoder, self).__init__()\n",
    "\n",
    "        # define layers (layers are functions)\n",
    "        self.input_layer = nn.Linear(d_input, d_model) # input layer, 10 features in, 10 features out (== keras dense)\n",
    "        self.pos_encoding_layer = PositionalEncoding(d_model,dropout=0.2)\n",
    "        self.encoder_layers = nn.TransformerEncoder(nn.TransformerEncoderLayer(d_model=d_model, nhead=1, dropout=0.2), num_layers=4) # stacks multiple encoder layers, contains self attention and feed forward with normalization in between, TODO: how many heads?\n",
    "\n",
    "    # forward pass data x through network\n",
    "    def forward(self, x: torch.Tensor):\n",
    "        x = self.input_layer(x)\n",
    "        x = self.pos_encoding_layer(x)\n",
    "        x = self.encoder_layers(x)\n",
    "        return x[0] # we ignore batching here, expected shape of x: [batch][pos in seq][dim]\n",
    "\n",
    "demo_data_input = torch.Tensor(features[0][:5,:]).to(device)\n",
    "print(\"src shape is [pos in sequence][dimension]\",demo_data_input.shape)\n",
    "d_input = demo_data_input.shape[1] # columns as input dimension\n",
    "d_model = 2 #TODO: why only even numbers?\n",
    "model = Encoder(d_input=d_input, d_model=d_model)\n",
    "model.to(device)\n",
    "\n",
    "\n",
    "memory = model(demo_data_input)\n",
    "print(f\"memory shape is {memory.shape} [pos in seq][dim]\")\n"
   ]
  },
  {
   "cell_type": "code",
   "execution_count": 13,
   "metadata": {},
   "outputs": [
    {
     "data": {
      "text/plain": [
       "tensor([[0.8364, 0.5364, 0.7188],\n",
       "        [0.8387, 0.5196, 0.7270],\n",
       "        [0.8390, 0.5201, 0.7219],\n",
       "        [0.8423, 0.5181, 0.7148]], device='cuda:0')"
      ]
     },
     "metadata": {},
     "output_type": "display_data"
    },
    {
     "data": {
      "text/plain": [
       "(torch.Size([4, 3]), torch.Size([4, 2]))"
      ]
     },
     "execution_count": 13,
     "metadata": {},
     "output_type": "execute_result"
    }
   ],
   "source": [
    "display(demo_data_input)\n",
    "demo_data_input.shape, memory.shape"
   ]
  },
  {
   "attachments": {},
   "cell_type": "markdown",
   "metadata": {},
   "source": [
    "define decoder"
   ]
  },
  {
   "cell_type": "code",
   "execution_count": 14,
   "metadata": {},
   "outputs": [
    {
     "name": "stdout",
     "output_type": "stream",
     "text": [
      "tensor([[ 0.1180,  0.0826, -1.1873]], device='cuda:0',\n",
      "       grad_fn=<AddmmBackward0>)\n"
     ]
    }
   ],
   "source": [
    "def get_mask(dim1: int, dim2: int) -> torch.Tensor:\n",
    "    \"\"\"\n",
    "    Generates an upper-triangular matrix of -inf, with zeros on diag.\n",
    "    Modified from: \n",
    "    https://pytorch.org/tutorials/beginner/transformer_tutorial.html\n",
    "\n",
    "    Args:\n",
    "\n",
    "        dim1: int, for both src and tgt masking, this must be target sequence\n",
    "              length\n",
    "\n",
    "        dim2: int, for src masking this must be encoder sequence length (i.e. \n",
    "              the length of the input sequence to the model), \n",
    "              and for tgt masking, this must be target sequence length \n",
    "\n",
    "\n",
    "    Return:\n",
    "\n",
    "        A Tensor of shape [dim1, dim2]\n",
    "    \"\"\"\n",
    "    return torch.triu(torch.ones(dim1, dim2) * float('-inf'), diagonal=1)\n",
    "\n",
    "class Decoder(nn.Module):\n",
    "    def __init__(self, d_input, d_model):\n",
    "        super(Decoder, self).__init__()\n",
    "\n",
    "        # define layers (layers are functions)\n",
    "        self.input_layer = nn.Linear(d_input, d_model) # input layer, 10 features in, 10 features out (== keras dense)\n",
    "        self.decoder_layers = nn.TransformerDecoder(nn.TransformerDecoderLayer(d_model=d_model, nhead=1, dropout=0.2), num_layers=4)\n",
    "        self.linear_mapping = nn.Linear(\n",
    "            in_features=d_model, \n",
    "            out_features=d_input\n",
    "            )\n",
    "\n",
    "\n",
    "    # forward pass data x through network\n",
    "    def forward(self, x: torch.Tensor, memory: torch.Tensor, mask: torch.Tensor): #NOTE: TODO: implement Masking\n",
    "        x = self.input_layer(x)\n",
    "        x = self.decoder_layers(x,memory=memory,tgt_mask=mask)\n",
    "        x = self.linear_mapping(x)\n",
    "        return x\n",
    "    \n",
    "#demo_data_target = torch.Tensor(features[0][2:3,:]).to(device)\n",
    "#demo_data_target = torch.Tensor(np.empty((0,3))).to(device)\n",
    "demo_data_target = demo_data_input[-1:,:] # use last input as first input (this would be done in inference?)\n",
    "#demo_data_memory = torch.Tensor(features[0][2:3,:]).to(device)\n",
    "mask = get_mask(demo_data_target.shape[0], demo_data_target.shape[0]).to(device)\n",
    "d_input = demo_data_target.shape[1] # columns as input dimension\n",
    "d_model = memory.shape[1] # needs to be equal?\n",
    "model = Decoder(d_input=d_input, d_model=d_model)\n",
    "model.to(device)\n",
    "\n",
    "\n",
    "out = model(demo_data_target, memory, None)\n",
    "print(out)"
   ]
  },
  {
   "cell_type": "code",
   "execution_count": 15,
   "metadata": {},
   "outputs": [
    {
     "data": {
      "text/plain": [
       "(torch.Size([1, 3]), torch.Size([4, 2]))"
      ]
     },
     "execution_count": 15,
     "metadata": {},
     "output_type": "execute_result"
    }
   ],
   "source": [
    "demo_data_target.shape, memory.shape"
   ]
  },
  {
   "cell_type": "code",
   "execution_count": 16,
   "metadata": {},
   "outputs": [
    {
     "name": "stdout",
     "output_type": "stream",
     "text": [
      "input\t\t\ttensor([[0.8364, 0.5364, 0.7188],\n",
      "        [0.8387, 0.5196, 0.7270],\n",
      "        [0.8390, 0.5201, 0.7219],\n",
      "        [0.8423, 0.5181, 0.7148]], device='cuda:0')\n",
      "target\t\t\ttensor([[0.8423, 0.5181, 0.7148]], device='cuda:0')\n",
      "mask\t\t\ttensor([[0.]], device='cuda:0')\n",
      "prediction\t\ttensor([[ 0.5884,  0.5479, -1.0371]], device='cuda:0',\n",
      "       grad_fn=<AddmmBackward0>)\n"
     ]
    }
   ],
   "source": [
    "class TimeSeriesTransformer(nn.Module):\n",
    "    def __init__(self, d_input, d_model):\n",
    "        super(TimeSeriesTransformer, self).__init__()\n",
    "\n",
    "        # define layers\n",
    "        self.encoder = Encoder(d_input, d_model)\n",
    "        self.decoder = Decoder(d_input, d_model)\n",
    "\n",
    "    def forward(self, src: torch.Tensor, target: torch.Tensor, mask: torch.Tensor):\n",
    "        src = self.encoder(src)\n",
    "        out = self.decoder(x=target,memory=src, mask=mask)\n",
    "        return out\n",
    "    \n",
    "#demo_data_input = torch.Tensor(features[0][:1,:]).to(device)\n",
    "#demo_data_target = torch.Tensor(features[0][2:3,:]).to(device)\n",
    "#d_input = demo_data_input.shape[1] # columns as input dimension\n",
    "#d_model = d_input\n",
    "model = TimeSeriesTransformer(d_input=d_input, d_model=d_model)\n",
    "model.to(device)\n",
    "\n",
    "mask = get_mask(demo_data_target.shape[0],demo_data_target.shape[0]).to(device)\n",
    "prediction = model(demo_data_input, demo_data_target, mask)\n",
    "print(f\"input\\t\\t\\t{demo_data_input}\")\n",
    "print(f\"target\\t\\t\\t{demo_data_target}\")\n",
    "print(f\"mask\\t\\t\\t{mask}\")\n",
    "print(f\"prediction\\t\\t{prediction}\")"
   ]
  },
  {
   "cell_type": "code",
   "execution_count": 17,
   "metadata": {},
   "outputs": [
    {
     "data": {
      "text/plain": [
       "(torch.Size([4, 3]), torch.Size([1, 3]), tensor([[0.]], device='cuda:0'))"
      ]
     },
     "execution_count": 17,
     "metadata": {},
     "output_type": "execute_result"
    }
   ],
   "source": [
    "demo_data_input.shape, demo_data_target.shape, mask"
   ]
  },
  {
   "attachments": {},
   "cell_type": "markdown",
   "metadata": {},
   "source": [
    "Network Training"
   ]
  },
  {
   "cell_type": "code",
   "execution_count": 18,
   "metadata": {},
   "outputs": [
    {
     "name": "stdout",
     "output_type": "stream",
     "text": [
      "we have 277885 individual windows to train from\n",
      "each window has shape (4, 3)\n",
      "structure of data [window_nr][point_in_seq][feature]: (277885, 4, 3)\n",
      "structure of labels [window_nr][point_in_seq][feature]: (277885, 11, 3)\n"
     ]
    }
   ],
   "source": [
    "print(f\"we have {features.shape[0]} individual windows to train from\")\n",
    "print(f\"each window has shape {features.shape[1:]}\")\n",
    "print(f\"structure of data [window_nr][point_in_seq][feature]: {features.shape}\")\n",
    "print(f\"structure of labels [window_nr][point_in_seq][feature]: {labels.shape}\")"
   ]
  },
  {
   "cell_type": "code",
   "execution_count": 20,
   "metadata": {},
   "outputs": [
    {
     "name": "stderr",
     "output_type": "stream",
     "text": [
      "  0%|          | 0/100 [00:00<?, ?it/s]C:\\Users\\Julian\\AppData\\Local\\Temp\\ipykernel_18852\\2883315415.py:32: UserWarning: Using a target size (torch.Size([3])) that is different to the input size (torch.Size([1, 3])). This will likely lead to incorrect results due to broadcasting. Please ensure they have the same size.\n",
      "  loss = F.mse_loss(out, Y[0,:]) # should predict next step\n",
      "100%|██████████| 100/100 [00:21<00:00,  4.74it/s]"
     ]
    },
    {
     "name": "stdout",
     "output_type": "stream",
     "text": [
      "input\t\t\ttensor([[0.8364, 0.5364, 0.7188],\n",
      "        [0.8387, 0.5196, 0.7270],\n",
      "        [0.8390, 0.5201, 0.7219],\n",
      "        [0.8423, 0.5181, 0.7148]], device='cuda:0')\n",
      "target\t\t\ttensor([[0.8423, 0.5181, 0.7148]], device='cuda:0')\n",
      "prediction\t\ttensor([[ 0.7378, -1.0145, -0.3277]], device='cuda:0',\n",
      "       grad_fn=<AddmmBackward0>)\n",
      "torch.Size([4, 3]) torch.Size([1, 3]) torch.Size([1, 3])\n"
     ]
    },
    {
     "name": "stderr",
     "output_type": "stream",
     "text": [
      "\n"
     ]
    }
   ],
   "source": [
    "#%%\n",
    "net = TimeSeriesTransformer(d_input, d_model)\n",
    "net.to(device)\n",
    "#print(net)\n",
    "learning_rate = 0.0001\n",
    "optimizer = opt.SGD(net.parameters(), lr=learning_rate) # default stochastic gradient descent\n",
    "#%%\n",
    "losses = []\n",
    "# go through every datapoint (1)\n",
    "for i in tqdm(range(100)):\n",
    "#for i in tqdm(range(features.shape[0]), file=sys.stdout):\n",
    "    # main training loop / pipeline\n",
    "    # get window\n",
    "    wFeatures = features[i] # [step in sequence][feature]\n",
    "    wLabels = labels[i] # [step in sequence][feature]\n",
    "    window = np.concatenate((wFeatures,wLabels), axis=0)\n",
    "    fLen = wFeatures.shape[0]\n",
    "    lLen = wLabels.shape[0]\n",
    "    # train every step in window individually\n",
    "    for sp in range(lLen):\n",
    "        #input, target, mask:\n",
    "        X = window[:fLen+sp,:]\n",
    "        X = torch.Tensor(X).to(device)\n",
    "        target = X[-1:,:] # start with latest entry\n",
    "        target = torch.Tensor(target).to(device)\n",
    "        Y = window[fLen+sp:,:]\n",
    "        Y = torch.Tensor(Y).to(device)\n",
    "        mask = get_mask(target.shape[0],target.shape[0]).to(device)\n",
    "        # forward pass  \n",
    "        #print(X.shape, target.shape, mask.shape, Y.shape)\n",
    "        out = net(X,target,mask)\n",
    "        loss = F.mse_loss(out, Y[0,:]) # should predict next step  \n",
    "\n",
    "        # backpropagation\n",
    "        loss.backward()\n",
    "        optimizer.step()\n",
    "        losses.append(float(loss))\n",
    "#%%\n",
    "# example result of trained net and conversion to numpy\n",
    "#x_numpy = np.array([1,0,0,0,1,0,0,0,1,1])\n",
    "#x = torch.Tensor(x_numpy).to(net.device)\n",
    "#y = net(x)\n",
    "#y_numpy = y.detach().cpu().numpy()\n",
    "#print(\"in  \", x_numpy.astype(np.int8))\n",
    "#print(\"out \", np.abs(np.rint(y_numpy)).astype(np.int8)) # as nearest (positive) int\n",
    "# %%\n",
    "prediction = model(demo_data_input, demo_data_target, mask=None)\n",
    "print(f\"input\\t\\t\\t{demo_data_input}\")\n",
    "print(f\"target\\t\\t\\t{demo_data_target}\")\n",
    "print(f\"prediction\\t\\t{prediction}\")\n",
    "print(demo_data_input.shape, demo_data_target.shape, prediction.shape)"
   ]
  },
  {
   "cell_type": "code",
   "execution_count": 21,
   "metadata": {},
   "outputs": [],
   "source": [
    "dir = pl.Path(\"../data/experiment/\")\n",
    "dir.mkdir(exist_ok=True)\n",
    "torch.save(net.state_dict(), dir / 'model_weights.pt')\n",
    "losses = np.array(losses)\n",
    "np.save(dir / \"losses\",losses)\n",
    "torch.save({\"d_input\":d_input, \"d_model\": d_model}, dir / \"model_params.pt\")"
   ]
  },
  {
   "attachments": {},
   "cell_type": "markdown",
   "metadata": {},
   "source": [
    "# Some Playaround with Dataset to Feature Functions"
   ]
  },
  {
   "attachments": {},
   "cell_type": "markdown",
   "metadata": {},
   "source": [
    "Findings:\n",
    " - timefreq=\"1d\", window_size=14, len_x = 4 seems interesting"
   ]
  },
  {
   "cell_type": "code",
   "execution_count": 22,
   "metadata": {},
   "outputs": [
    {
     "name": "stdout",
     "output_type": "stream",
     "text": [
      "resampling\n",
      "sliding window\n"
     ]
    },
    {
     "name": "stderr",
     "output_type": "stream",
     "text": [
      "100%|██████████| 68848/68848 [00:08<00:00, 7936.35it/s]\n"
     ]
    },
    {
     "name": "stdout",
     "output_type": "stream",
     "text": [
      "window to labels\n"
     ]
    },
    {
     "data": {
      "text/plain": [
       "(46291, 8, 3)"
      ]
     },
     "metadata": {},
     "output_type": "display_data"
    },
    {
     "data": {
      "text/plain": [
       "(46291, 2, 3)"
      ]
     },
     "metadata": {},
     "output_type": "display_data"
    }
   ],
   "source": [
    "def prepare_dataset(data:pd.DataFrame, timefreq=\"1min\", aggregator=\"mean\", window_size=15, len_x=4):\n",
    "    print(\"resampling\")\n",
    "    data_resampled, scaler = scale_and_resample_timeindex(data, timefreq=timefreq, aggregator=aggregator)\n",
    "    print(\"sliding window\")\n",
    "    data, column_names = time_indexed_data_to_sliding_window(data_resampled, window_size=window_size)\n",
    "    print(\"window to labels\")\n",
    "    features, labels = convert_to_feature_labels(data, len_x=len_x) \n",
    "    return features, labels, column_names[2:], scaler\n",
    "\n",
    "features, labels, column_names, scaler = prepare_dataset(data_temp, timefreq=\"1min\", aggregator=\"mean\", window_size=10, len_x = 8)\n",
    "display(features.shape, labels.shape)"
   ]
  },
  {
   "cell_type": "code",
   "execution_count": 23,
   "metadata": {},
   "outputs": [
    {
     "data": {
      "image/png": "[encoded data removed]",
      "text/plain": [
       "<Figure size 2000x400 with 6 Axes>"
      ]
     },
     "metadata": {},
     "output_type": "display_data"
    },
    {
     "data": {
      "image/png": "[encoded data removed]",
      "text/plain": [
       "<Figure size 640x480 with 2 Axes>"
      ]
     },
     "metadata": {},
     "output_type": "display_data"
    }
   ],
   "source": [
    "def visualize_dataset(features, labels, column_names):\n",
    "    fig, ax = plt.subplots(2,features.shape[2], sharey=True, sharex=True)\n",
    "    fig.set_figwidth(20)\n",
    "    fig.set_figheight(4)\n",
    "    ax[0,0].set_ylabel(\"feature\")\n",
    "    ax[1,0].set_ylabel(\"label\")\n",
    "    for i in range(features.shape[2]):\n",
    "        axi :plt.Axes = ax[0,i]\n",
    "        axi.set_title(column_names[i])\n",
    "        ax[0,i].plot(list(range(features.shape[0])), features[:, :,i]) # TODO: not sure what actually gets displayed here\n",
    "\n",
    "        ax[1,i].plot(list(range(labels.shape[0])), labels[:, :,i])\n",
    "\n",
    "    plt.show()\n",
    "\n",
    "def visualize_feature(feature, label, column_names):\n",
    "    fig, ax = plt.subplots(1,2, sharey=True)\n",
    "    for i in range(feature.shape[1]):\n",
    "        ax[0].plot(list(range(feature.shape[0])), feature[:, i], label=column_names[i])\n",
    "        ax[1].plot(feature.shape[0]+np.array(range(label.shape[0])), label[:, i], label=column_names[i])\n",
    "    plt.legend(loc=\"lower left\")\n",
    "    plt.show()\n",
    "\n",
    "\n",
    "\n",
    "visualize_dataset(features, labels, column_names)\n",
    "visualize_feature(features[0], labels[0],column_names)"
   ]
  },
  {
   "cell_type": "code",
   "execution_count": 24,
   "metadata": {},
   "outputs": [
    {
     "data": {
      "text/plain": [
       "['differential_potential_CH1', 'differential_potential_CH2', 'transpiration']"
      ]
     },
     "execution_count": 24,
     "metadata": {},
     "output_type": "execute_result"
    }
   ],
   "source": [
    "column_names"
   ]
  },
  {
   "cell_type": "code",
   "execution_count": 26,
   "metadata": {},
   "outputs": [
    {
     "name": "stdout",
     "output_type": "stream",
     "text": [
      "computing valid windows\n"
     ]
    },
    {
     "name": "stderr",
     "output_type": "stream",
     "text": [
      "100%|██████████| 348/348 [00:00<00:00, 5271.59it/s]"
     ]
    },
    {
     "name": "stdout",
     "output_type": "stream",
     "text": [
      "found 337 valid window(s)\n"
     ]
    },
    {
     "name": "stderr",
     "output_type": "stream",
     "text": [
      "\n"
     ]
    }
   ],
   "source": [
    "data = data_temp.copy().iloc[:1000,:]\n",
    "timefreq=\"5s\"\n",
    "aggregator=\"mean\"\n",
    "window_size=12\n",
    "feature_size=10\n",
    "\n",
    "def get_window(data, i, wsize):\n",
    "    window = data.iloc[i:i+wsize, 1:].to_numpy()\n",
    "    timestamps = data.iloc[i:i+wsize, 0].to_numpy()\n",
    "    isvalid = not np.any(np.isnan(window))\n",
    "    if window.shape[0] != wsize:\n",
    "        isvalid = False\n",
    "    return window, timestamps, isvalid\n",
    "\n",
    "def get_datapoint(data, i, wsize, fsize):\n",
    "    window, timestamps, isvalid = get_window(data, i, wsize)\n",
    "    feature, label = window[0:fsize,:], window[fsize:,:]\n",
    "    return feature, label, timestamps, isvalid\n",
    "\n",
    "def get_valid_windows(data, wsize):\n",
    "    valid_indexes = []\n",
    "    print(\"computing valid windows\")\n",
    "    for i in tqdm(range(data.shape[0])):\n",
    "        _,_, isvalid = get_window(data,i,wsize)\n",
    "        if isvalid:\n",
    "            valid_indexes.append(i)\n",
    "    print(f\"found {len(valid_indexes)} valid window(s)\")\n",
    "    return valid_indexes\n",
    "\n",
    "data_resampled, scaler = scale_and_resample_timeindex(data, timefreq=timefreq, aggregator=aggregator)\n",
    "data_resampled = data_resampled[[\"differential_potential_CH1\"]]\n",
    "data_resampled = data_resampled.reset_index()\n",
    "valid_windows = get_valid_windows(data_resampled, window_size)\n",
    "window, timestamps, isvalid = get_window(data_resampled, valid_windows[0],window_size)\n",
    "feature, label, timestamps, isvalid = get_datapoint(data_resampled, valid_windows[0], window_size, feature_size)\n",
    "\n",
    "\n"
   ]
  },
  {
   "cell_type": "code",
   "execution_count": 27,
   "metadata": {},
   "outputs": [
    {
     "name": "stdout",
     "output_type": "stream",
     "text": [
      "computing valid windows\n"
     ]
    },
    {
     "name": "stderr",
     "output_type": "stream",
     "text": [
      "100%|██████████| 348/348 [00:00<00:00, 5522.66it/s]\n"
     ]
    },
    {
     "name": "stdout",
     "output_type": "stream",
     "text": [
      "found 337 valid window(s)\n"
     ]
    },
    {
     "name": "stderr",
     "output_type": "stream",
     "text": [
      "100%|██████████| 1000/1000 [00:20<00:00, 49.40it/s]"
     ]
    },
    {
     "name": "stdout",
     "output_type": "stream",
     "text": [
      "input\t\t\ttensor([[0.8364, 0.5364, 0.7188],\n",
      "        [0.8387, 0.5196, 0.7270],\n",
      "        [0.8390, 0.5201, 0.7219],\n",
      "        [0.8423, 0.5181, 0.7148]], device='cuda:0')\n",
      "target\t\t\ttensor([[0.8423, 0.5181, 0.7148]], device='cuda:0')\n",
      "prediction\t\ttensor([[ 0.5884,  0.5479, -1.0371]], device='cuda:0',\n",
      "       grad_fn=<AddmmBackward0>)\n",
      "torch.Size([4, 3]) torch.Size([1, 3]) torch.Size([1, 3])\n",
      "data saved\n"
     ]
    },
    {
     "name": "stderr",
     "output_type": "stream",
     "text": [
      "\n"
     ]
    }
   ],
   "source": [
    "@dataclass(frozen=True,slots=True)\n",
    "class ExperimentData:\n",
    "    data_resampled: pd.DataFrame\n",
    "    scaler: skp.MinMaxScaler\n",
    "    timefreq: str\n",
    "    aggregator: str|Callable\n",
    "    columns: list[str]\n",
    "    window_size: int\n",
    "    feature_size: int\n",
    "    valid_windows: list[int]\n",
    "\n",
    "@dataclass(frozen=True, slots=True)\n",
    "class TrainingData:\n",
    "    net: TimeSeriesTransformer\n",
    "    d_input: int\n",
    "    d_model: int\n",
    "    seed: int|None\n",
    "    learning_rate: float\n",
    "    epoch_size: float\n",
    "    losses: list[float]\n",
    "\n",
    "\n",
    "def getExperimentData(data, timefreq, aggregator, columns, window_size, feature_size):\n",
    "    data_resampled, scaler = scale_and_resample_timeindex(data, timefreq=timefreq, aggregator=aggregator)\n",
    "    data_resampled = data_resampled[columns]\n",
    "    data_resampled = data_resampled.reset_index()\n",
    "    valid_windows = get_valid_windows(data_resampled, window_size)\n",
    "    #feature, label, timestamps, isvalid = get_datapoint(data_resampled, valid_windows[0], window_size, feature_size) \n",
    "    return ExperimentData(data_resampled, scaler, timefreq, aggregator, columns, window_size, feature_size, valid_windows)\n",
    "\n",
    "def trainExperiment(data: ExperimentData, d_model, learning_rate, epoch_size, seed):\n",
    "    if seed is not None:\n",
    "        np.random.seed(seed)\n",
    "        torch.manual_seed(seed)\n",
    "    #%%\n",
    "    d_input = len(data.columns)\n",
    "    net = TimeSeriesTransformer(d_input, d_model)\n",
    "    net.to(device)\n",
    "    #print(net)\n",
    "    optimizer = opt.SGD(net.parameters(), lr=learning_rate) # default stochastic gradient descent\n",
    "    #%%\n",
    "    losses = []\n",
    "    print(\"start training\")\n",
    "    # go through every datapoint (1)\n",
    "    for i in tqdm(range(epoch_size)):\n",
    "    #for i in tqdm(range(features.shape[0]), file=sys.stdout):\n",
    "        # main training loop / pipeline\n",
    "        net.zero_grad() # net accumulates errors and needs to be reset manually each step\n",
    "        # get window\n",
    "        X = torch.Tensor(feature).to(device)\n",
    "        Y = torch.Tensor(label).to(device)\n",
    "        mask = get_mask(Y.shape[0],Y.shape[0]).to(device)\n",
    "        # forward pass  \n",
    "        #print(X.shape, target.shape, mask.shape, Y.shape)\n",
    "        out = net(X,Y,mask)\n",
    "        loss = F.mse_loss(out, Y) # should predict next step  \n",
    "\n",
    "        # backpropagation\n",
    "        loss.backward()\n",
    "        optimizer.step()\n",
    "        losses.append(float(loss))\n",
    "    #%%\n",
    "    # example result of trained net and conversion to numpy\n",
    "    #x_numpy = np.array([1,0,0,0,1,0,0,0,1,1])\n",
    "    #x = torch.Tensor(x_numpy).to(net.device)\n",
    "    #y = net(x)\n",
    "    #y_numpy = y.detach().cpu().numpy()\n",
    "    #print(\"in  \", x_numpy.astype(np.int8))\n",
    "    #print(\"out \", np.abs(np.rint(y_numpy)).astype(np.int8)) # as nearest (positive) int\n",
    "    # %%\n",
    "    prediction = model(demo_data_input, demo_data_target, mask=None)\n",
    "    print(f\"input\\t\\t\\t{demo_data_input}\")\n",
    "    print(f\"target\\t\\t\\t{demo_data_target}\")\n",
    "    print(f\"prediction\\t\\t{prediction}\")\n",
    "    print(demo_data_input.shape, demo_data_target.shape, prediction.shape)\n",
    "    return TrainingData(net, d_input, d_model, seed, learning_rate, epoch_size, losses)\n",
    "\n",
    "def saveData(dir: pl.Path, expData: ExperimentData, trainData: TrainingData):\n",
    "    dir.mkdir(exist_ok=True)\n",
    "    torch.save(trainData.net.state_dict(), dir / 'model_weights.pt')\n",
    "    losses = np.array(trainData.losses)\n",
    "    np.save(dir / \"losses\",losses)\n",
    "    torch.save({\"d_input\":trainData.d_input, \"d_model\": trainData.d_model}, dir / \"model_params.pt\")\n",
    "    dc = asdict(expData)\n",
    "    dc[\"data_resampled\"] = None\n",
    "    torch.save(dc, dir / \"exp_data.pt\")\n",
    "    print(\"data saved\")\n",
    "\n",
    "# expData = getExperimentData(\n",
    "#     data_temp.copy().iloc[:1000,:],\n",
    "#     timefreq=\"5s\",\n",
    "#     aggregator=\"mean\",\n",
    "#     columns=[\"transpiration\"],\n",
    "#     window_size=12,\n",
    "#     feature_size=10)\n",
    "\n",
    "#trainData = trainExperiment(expData, 6, 0.0001, 1000, 0)\n",
    "#saveData(pl.Path(\"../data/experiment/\"), expData, trainData)\n",
    "\n"
   ]
  },
  {
   "cell_type": "code",
   "execution_count": 28,
   "metadata": {},
   "outputs": [
    {
     "data": {
      "text/plain": [
       "(array([[0.12015694],\n",
       "        [0.06768024],\n",
       "        [0.07994115],\n",
       "        [0.088769  ],\n",
       "        [0.05934282],\n",
       "        [0.16429622],\n",
       "        [0.28298185],\n",
       "        [0.212359  ],\n",
       "        [0.25159392],\n",
       "        [0.18538499]]),\n",
       " array([[0.17410495],\n",
       "        [0.17312408]]))"
      ]
     },
     "execution_count": 28,
     "metadata": {},
     "output_type": "execute_result"
    }
   ],
   "source": [
    "# data = expData\n",
    "# window_index = data.valid_windows[int(np.random.uniform(0,len(data.valid_windows)))]\n",
    "# feature, label, _timestamps, _isvalid = get_datapoint(data.data_resampled, window_index,data.window_size,data.feature_size)\n",
    "# feature, label"
   ]
  },
  {
   "cell_type": "code",
   "execution_count": 30,
   "metadata": {},
   "outputs": [],
   "source": [
    "# #input, target, mask:\n",
    "# d_input = len(data.columns)\n",
    "# d_model = 6\n",
    "# net = TimeSeriesTransformer(d_input, d_model)\n",
    "# net.to(device)\n",
    "# X = torch.Tensor(feature).to(device)\n",
    "# Y = torch.Tensor(label).to(device)\n",
    "# mask = get_mask(Y.shape[0],Y.shape[0]).to(device)\n",
    "# # forward pass  \n",
    "# #print(X.shape, target.shape, mask.shape, Y.shape)\n",
    "# out = net(X,Y,mask)\n",
    "# loss = F.mse_loss(out, Y) # should predict next step  \n",
    "\n",
    "# # backpropagation\n",
    "# loss.backward()\n",
    "# optimizer.step()"
   ]
  },
  {
   "cell_type": "code",
   "execution_count": 31,
   "metadata": {},
   "outputs": [
    {
     "data": {
      "text/plain": [
       "(tensor([[-0.3678],\n",
       "         [-0.0292]], device='cuda:0', grad_fn=<AddmmBackward0>),\n",
       " array([[0.17410495],\n",
       "        [0.17312408]]))"
      ]
     },
     "execution_count": 31,
     "metadata": {},
     "output_type": "execute_result"
    }
   ],
   "source": [
    "# out, label"
   ]
  },
  {
   "cell_type": "code",
   "execution_count": null,
   "metadata": {},
   "outputs": [],
   "source": []
  }
 ],
 "metadata": {
  "kernelspec": {
   "display_name": "venv",
   "language": "python",
   "name": "python3"
  },
  "language_info": {
   "codemirror_mode": {
    "name": "ipython",
    "version": 3
   },
   "file_extension": ".py",
   "mimetype": "text/x-python",
   "name": "python",
   "nbconvert_exporter": "python",
   "pygments_lexer": "ipython3",
   "version": "3.11.3"
  },
  "orig_nbformat": 4
 },
 "nbformat": 4,
 "nbformat_minor": 2
}
