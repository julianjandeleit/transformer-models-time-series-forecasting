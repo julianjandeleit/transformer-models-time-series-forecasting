{
 "cells": [
  {
   "attachments": {},
   "cell_type": "markdown",
   "metadata": {},
   "source": [
    "# Prelude\n",
    "Importing Modules and loading Data"
   ]
  },
  {
   "cell_type": "code",
   "execution_count": 1,
   "metadata": {},
   "outputs": [],
   "source": [
    "import numpy as np\n",
    "import pandas as pd\n",
    "import pathlib as pl"
   ]
  },
  {
   "cell_type": "code",
   "execution_count": 2,
   "metadata": {},
   "outputs": [],
   "source": [
    "# matplotlib setup\n",
    "import matplotlib.pyplot as plt\n",
    "%matplotlib widget\n",
    "plt.style.use('bmh')"
   ]
  },
  {
   "cell_type": "code",
   "execution_count": 3,
   "metadata": {},
   "outputs": [],
   "source": [
    "DATA_PATH = \"../data/\"\n",
    "def read_data(subdir: str):\n",
    "    data = [x for x in (pl.Path(DATA_PATH)/subdir).iterdir() if x.suffix == \".csv\"]\n",
    "    data = [pd.read_csv(d) for d in data]\n",
    "    data = pd.concat(data)\n",
    "    return data[[\"timestamp\", \"differential_potential_CH1\", \"differential_potential_CH2\", \"transpiration\"]]\n",
    "\n",
    "data_temp = read_data(\"exp_Temperature\")\n",
    "data_wind = read_data(\"exp_Wind\")"
   ]
  },
  {
   "cell_type": "code",
   "execution_count": 18,
   "metadata": {},
   "outputs": [
    {
     "data": {
      "text/html": [
       "<div>\n",
       "<style scoped>\n",
       "    .dataframe tbody tr th:only-of-type {\n",
       "        vertical-align: middle;\n",
       "    }\n",
       "\n",
       "    .dataframe tbody tr th {\n",
       "        vertical-align: top;\n",
       "    }\n",
       "\n",
       "    .dataframe thead th {\n",
       "        text-align: right;\n",
       "    }\n",
       "</style>\n",
       "<table border=\"1\" class=\"dataframe\">\n",
       "  <thead>\n",
       "    <tr style=\"text-align: right;\">\n",
       "      <th></th>\n",
       "      <th>timestamp</th>\n",
       "      <th>differential_potential_CH1</th>\n",
       "      <th>differential_potential_CH2</th>\n",
       "      <th>transpiration</th>\n",
       "    </tr>\n",
       "  </thead>\n",
       "  <tbody>\n",
       "    <tr>\n",
       "      <th>0</th>\n",
       "      <td>2022-01-22 13:53:42</td>\n",
       "      <td>526487</td>\n",
       "      <td>467544</td>\n",
       "      <td>442</td>\n",
       "    </tr>\n",
       "    <tr>\n",
       "      <th>1</th>\n",
       "      <td>2022-01-22 13:53:44</td>\n",
       "      <td>526542</td>\n",
       "      <td>467315</td>\n",
       "      <td>461</td>\n",
       "    </tr>\n",
       "    <tr>\n",
       "      <th>2</th>\n",
       "      <td>2022-01-22 13:53:45</td>\n",
       "      <td>526532</td>\n",
       "      <td>466868</td>\n",
       "      <td>466</td>\n",
       "    </tr>\n",
       "  </tbody>\n",
       "</table>\n",
       "</div>"
      ],
      "text/plain": [
       "             timestamp  differential_potential_CH1   \n",
       "0  2022-01-22 13:53:42                      526487  \\\n",
       "1  2022-01-22 13:53:44                      526542   \n",
       "2  2022-01-22 13:53:45                      526532   \n",
       "\n",
       "   differential_potential_CH2  transpiration  \n",
       "0                      467544            442  \n",
       "1                      467315            461  \n",
       "2                      466868            466  "
      ]
     },
     "metadata": {},
     "output_type": "display_data"
    },
    {
     "data": {
      "text/html": [
       "<div>\n",
       "<style scoped>\n",
       "    .dataframe tbody tr th:only-of-type {\n",
       "        vertical-align: middle;\n",
       "    }\n",
       "\n",
       "    .dataframe tbody tr th {\n",
       "        vertical-align: top;\n",
       "    }\n",
       "\n",
       "    .dataframe thead th {\n",
       "        text-align: right;\n",
       "    }\n",
       "</style>\n",
       "<table border=\"1\" class=\"dataframe\">\n",
       "  <thead>\n",
       "    <tr style=\"text-align: right;\">\n",
       "      <th></th>\n",
       "      <th>timestamp</th>\n",
       "      <th>differential_potential_CH1</th>\n",
       "      <th>differential_potential_CH2</th>\n",
       "      <th>transpiration</th>\n",
       "    </tr>\n",
       "  </thead>\n",
       "  <tbody>\n",
       "    <tr>\n",
       "      <th>0</th>\n",
       "      <td>2022-01-22 13:53:37</td>\n",
       "      <td>505940</td>\n",
       "      <td>507749</td>\n",
       "      <td>621</td>\n",
       "    </tr>\n",
       "    <tr>\n",
       "      <th>1</th>\n",
       "      <td>2022-01-22 13:53:38</td>\n",
       "      <td>505846</td>\n",
       "      <td>507807</td>\n",
       "      <td>632</td>\n",
       "    </tr>\n",
       "    <tr>\n",
       "      <th>2</th>\n",
       "      <td>2022-01-22 13:53:40</td>\n",
       "      <td>505990</td>\n",
       "      <td>507764</td>\n",
       "      <td>629</td>\n",
       "    </tr>\n",
       "  </tbody>\n",
       "</table>\n",
       "</div>"
      ],
      "text/plain": [
       "             timestamp  differential_potential_CH1   \n",
       "0  2022-01-22 13:53:37                      505940  \\\n",
       "1  2022-01-22 13:53:38                      505846   \n",
       "2  2022-01-22 13:53:40                      505990   \n",
       "\n",
       "   differential_potential_CH2  transpiration  \n",
       "0                      507749            621  \n",
       "1                      507807            632  \n",
       "2                      507764            629  "
      ]
     },
     "metadata": {},
     "output_type": "display_data"
    },
    {
     "name": "stdout",
     "output_type": "stream",
     "text": [
      "data types:\n",
      "\n",
      "Temperature:\n",
      "\n",
      "timestamp                     object\n",
      "differential_potential_CH1     int64\n",
      "differential_potential_CH2     int64\n",
      "transpiration                  int64\n",
      "dtype: object\n",
      "\n",
      "Wind:\n",
      "timestamp                     object\n",
      "differential_potential_CH1     int64\n",
      "differential_potential_CH2     int64\n",
      "transpiration                  int64\n",
      "dtype: object\n"
     ]
    }
   ],
   "source": [
    "display(data_temp.head(3))\n",
    "display(data_wind.head(3))\n",
    "print(f\"data types:\\n\\nTemperature:\\n\\n{data_temp.dtypes}\\n\\nWind:\\n{data_wind.dtypes}\")"
   ]
  },
  {
   "attachments": {},
   "cell_type": "markdown",
   "metadata": {},
   "source": [
    "# Direct Visualization"
   ]
  },
  {
   "cell_type": "code",
   "execution_count": 12,
   "metadata": {},
   "outputs": [],
   "source": [
    "def plot_differential_potential(df: pd.DataFrame):\n",
    "    fig, ax = plt.subplots()\n",
    "    ax.scatter(df.loc[:, \"timestamp\"].tolist(), df[:, \"differential_potential_CH1\"].tolist())\n",
    "    plt.show()"
   ]
  },
  {
   "cell_type": "code",
   "execution_count": 13,
   "metadata": {},
   "outputs": [],
   "source": [
    "data_temp.loc[:,\"differential_potential_CH1\"].tolist();"
   ]
  },
  {
   "cell_type": "code",
   "execution_count": 14,
   "metadata": {},
   "outputs": [
    {
     "ename": "InvalidIndexError",
     "evalue": "(slice(None, None, None), 'differential_potential_CH1')",
     "output_type": "error",
     "traceback": [
      "\u001b[1;31m---------------------------------------------------------------------------\u001b[0m",
      "\u001b[1;31mTypeError\u001b[0m                                 Traceback (most recent call last)",
      "File \u001b[1;32mc:\\Users\\Julian\\code\\uni\\seminar\\venv\\Lib\\site-packages\\pandas\\core\\indexes\\base.py:3652\u001b[0m, in \u001b[0;36mIndex.get_loc\u001b[1;34m(self, key)\u001b[0m\n\u001b[0;32m   3651\u001b[0m \u001b[39mtry\u001b[39;00m:\n\u001b[1;32m-> 3652\u001b[0m     \u001b[39mreturn\u001b[39;00m \u001b[39mself\u001b[39;49m\u001b[39m.\u001b[39;49m_engine\u001b[39m.\u001b[39;49mget_loc(casted_key)\n\u001b[0;32m   3653\u001b[0m \u001b[39mexcept\u001b[39;00m \u001b[39mKeyError\u001b[39;00m \u001b[39mas\u001b[39;00m err:\n",
      "File \u001b[1;32mc:\\Users\\Julian\\code\\uni\\seminar\\venv\\Lib\\site-packages\\pandas\\_libs\\index.pyx:147\u001b[0m, in \u001b[0;36mpandas._libs.index.IndexEngine.get_loc\u001b[1;34m()\u001b[0m\n",
      "File \u001b[1;32mc:\\Users\\Julian\\code\\uni\\seminar\\venv\\Lib\\site-packages\\pandas\\_libs\\index.pyx:153\u001b[0m, in \u001b[0;36mpandas._libs.index.IndexEngine.get_loc\u001b[1;34m()\u001b[0m\n",
      "\u001b[1;31mTypeError\u001b[0m: '(slice(None, None, None), 'differential_potential_CH1')' is an invalid key",
      "\nDuring handling of the above exception, another exception occurred:\n",
      "\u001b[1;31mInvalidIndexError\u001b[0m                         Traceback (most recent call last)",
      "Cell \u001b[1;32mIn[14], line 1\u001b[0m\n\u001b[1;32m----> 1\u001b[0m plot_differential_potential(data_temp)\n",
      "Cell \u001b[1;32mIn[12], line 3\u001b[0m, in \u001b[0;36mplot_differential_potential\u001b[1;34m(df)\u001b[0m\n\u001b[0;32m      1\u001b[0m \u001b[39mdef\u001b[39;00m \u001b[39mplot_differential_potential\u001b[39m(df: pd\u001b[39m.\u001b[39mDataFrame):\n\u001b[0;32m      2\u001b[0m     fig, ax \u001b[39m=\u001b[39m plt\u001b[39m.\u001b[39msubplots()\n\u001b[1;32m----> 3\u001b[0m     ax\u001b[39m.\u001b[39mscatter(df\u001b[39m.\u001b[39mloc[:, \u001b[39m\"\u001b[39m\u001b[39mtimestamp\u001b[39m\u001b[39m\"\u001b[39m]\u001b[39m.\u001b[39mtolist(), df[:, \u001b[39m\"\u001b[39;49m\u001b[39mdifferential_potential_CH1\u001b[39;49m\u001b[39m\"\u001b[39;49m]\u001b[39m.\u001b[39mtolist())\n\u001b[0;32m      4\u001b[0m     plt\u001b[39m.\u001b[39mshow()\n",
      "File \u001b[1;32mc:\\Users\\Julian\\code\\uni\\seminar\\venv\\Lib\\site-packages\\pandas\\core\\frame.py:3761\u001b[0m, in \u001b[0;36mDataFrame.__getitem__\u001b[1;34m(self, key)\u001b[0m\n\u001b[0;32m   3759\u001b[0m \u001b[39mif\u001b[39;00m \u001b[39mself\u001b[39m\u001b[39m.\u001b[39mcolumns\u001b[39m.\u001b[39mnlevels \u001b[39m>\u001b[39m \u001b[39m1\u001b[39m:\n\u001b[0;32m   3760\u001b[0m     \u001b[39mreturn\u001b[39;00m \u001b[39mself\u001b[39m\u001b[39m.\u001b[39m_getitem_multilevel(key)\n\u001b[1;32m-> 3761\u001b[0m indexer \u001b[39m=\u001b[39m \u001b[39mself\u001b[39;49m\u001b[39m.\u001b[39;49mcolumns\u001b[39m.\u001b[39;49mget_loc(key)\n\u001b[0;32m   3762\u001b[0m \u001b[39mif\u001b[39;00m is_integer(indexer):\n\u001b[0;32m   3763\u001b[0m     indexer \u001b[39m=\u001b[39m [indexer]\n",
      "File \u001b[1;32mc:\\Users\\Julian\\code\\uni\\seminar\\venv\\Lib\\site-packages\\pandas\\core\\indexes\\base.py:3659\u001b[0m, in \u001b[0;36mIndex.get_loc\u001b[1;34m(self, key)\u001b[0m\n\u001b[0;32m   3654\u001b[0m     \u001b[39mraise\u001b[39;00m \u001b[39mKeyError\u001b[39;00m(key) \u001b[39mfrom\u001b[39;00m \u001b[39merr\u001b[39;00m\n\u001b[0;32m   3655\u001b[0m \u001b[39mexcept\u001b[39;00m \u001b[39mTypeError\u001b[39;00m:\n\u001b[0;32m   3656\u001b[0m     \u001b[39m# If we have a listlike key, _check_indexing_error will raise\u001b[39;00m\n\u001b[0;32m   3657\u001b[0m     \u001b[39m#  InvalidIndexError. Otherwise we fall through and re-raise\u001b[39;00m\n\u001b[0;32m   3658\u001b[0m     \u001b[39m#  the TypeError.\u001b[39;00m\n\u001b[1;32m-> 3659\u001b[0m     \u001b[39mself\u001b[39;49m\u001b[39m.\u001b[39;49m_check_indexing_error(key)\n\u001b[0;32m   3660\u001b[0m     \u001b[39mraise\u001b[39;00m\n",
      "File \u001b[1;32mc:\\Users\\Julian\\code\\uni\\seminar\\venv\\Lib\\site-packages\\pandas\\core\\indexes\\base.py:5736\u001b[0m, in \u001b[0;36mIndex._check_indexing_error\u001b[1;34m(self, key)\u001b[0m\n\u001b[0;32m   5732\u001b[0m \u001b[39mdef\u001b[39;00m \u001b[39m_check_indexing_error\u001b[39m(\u001b[39mself\u001b[39m, key):\n\u001b[0;32m   5733\u001b[0m     \u001b[39mif\u001b[39;00m \u001b[39mnot\u001b[39;00m is_scalar(key):\n\u001b[0;32m   5734\u001b[0m         \u001b[39m# if key is not a scalar, directly raise an error (the code below\u001b[39;00m\n\u001b[0;32m   5735\u001b[0m         \u001b[39m# would convert to numpy arrays and raise later any way) - GH29926\u001b[39;00m\n\u001b[1;32m-> 5736\u001b[0m         \u001b[39mraise\u001b[39;00m InvalidIndexError(key)\n",
      "\u001b[1;31mInvalidIndexError\u001b[0m: (slice(None, None, None), 'differential_potential_CH1')"
     ]
    },
    {
     "data": {
      "application/vnd.jupyter.widget-view+json": {
       "model_id": "4efe9fbec936490996c1e8e238344929",
       "version_major": 2,
       "version_minor": 0
      },
      "image/png": "[encoded data removed]",
      "text/html": [
       "\n",
       "            <div style=\"display: inline-block;\">\n",
       "                <div class=\"jupyter-widgets widget-label\" style=\"text-align: center;\">\n",
       "                    Figure\n",
       "                </div>\n",
       "                <img src='data:image/png;base64,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' width=640.0/>\n",
       "            </div>\n",
       "        "
      ],
      "text/plain": [
       "Canvas(toolbar=Toolbar(toolitems=[('Home', 'Reset original view', 'home', 'home'), ('Back', 'Back to previous …"
      ]
     },
     "metadata": {},
     "output_type": "display_data"
    }
   ],
   "source": [
    "plot_differential_potential(data_temp)"
   ]
  },
  {
   "cell_type": "code",
   "execution_count": null,
   "metadata": {},
   "outputs": [],
   "source": [
    "1+1"
   ]
  },
  {
   "cell_type": "code",
   "execution_count": null,
   "metadata": {},
   "outputs": [],
   "source": []
  }
 ],
 "metadata": {
  "kernelspec": {
   "display_name": "venv",
   "language": "python",
   "name": "python3"
  },
  "language_info": {
   "codemirror_mode": {
    "name": "ipython",
    "version": 3
   },
   "file_extension": ".py",
   "mimetype": "text/x-python",
   "name": "python",
   "nbconvert_exporter": "python",
   "pygments_lexer": "ipython3",
   "version": "3.11.3"
  },
  "orig_nbformat": 4
 },
 "nbformat": 4,
 "nbformat_minor": 2
}
