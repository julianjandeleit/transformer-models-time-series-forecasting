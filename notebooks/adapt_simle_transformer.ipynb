{
 "cells": [
  {
   "attachments": {},
   "cell_type": "markdown",
   "metadata": {},
   "source": [
    "`transformer_experimentation.ipynb` did not succeed in learning even a linear function.\n",
    "This is why here a simple general transformer example is adapted to work on time-series data as in Wu et. al."
   ]
  },
  {
   "attachments": {},
   "cell_type": "markdown",
   "metadata": {},
   "source": [
    "# Prelude"
   ]
  },
  {
   "cell_type": "code",
   "execution_count": 1,
   "metadata": {},
   "outputs": [],
   "source": [
    "import sys\n",
    "import pathlib as pl\n",
    "sys.path.insert(0,str(pl.Path(\"../\").absolute()))"
   ]
  },
  {
   "cell_type": "code",
   "execution_count": 33,
   "metadata": {},
   "outputs": [],
   "source": [
    "\n",
    "import numpy as np\n",
    "import pandas as pd\n",
    "import torch\n",
    "import torch.nn as nn # neuronal layers, function objects\n",
    "import torch.nn.functional as F # contains activation functions\n",
    "from torch.autograd import Variable # wrapper for tensor\n",
    "import torch.optim as opt\n",
    "import numpy as np\n",
    "import sklearn.preprocessing as skp\n",
    "from utils.data_loader import load_data\n",
    "from tqdm import tqdm\n",
    "import matplotlib.pyplot as plt\n",
    "import math\n",
    "from dataclasses import dataclass, asdict\n",
    "from typing import *\n",
    "import datetime\n",
    "import copy"
   ]
  },
  {
   "cell_type": "code",
   "execution_count": 3,
   "metadata": {},
   "outputs": [
    {
     "name": "stdout",
     "output_type": "stream",
     "text": [
      "using device: cuda\n"
     ]
    }
   ],
   "source": [
    "device = torch.device(\"cuda\" if torch.cuda.is_available() else \"cpu\")\n",
    "print(f\"using device: {device}\")"
   ]
  },
  {
   "attachments": {},
   "cell_type": "markdown",
   "metadata": {},
   "source": [
    "## helpers\n"
   ]
  },
  {
   "cell_type": "code",
   "execution_count": 78,
   "metadata": {},
   "outputs": [],
   "source": [
    "\n",
    "def wrapBatch(data):\n",
    "    data = data\n",
    "    shape = list(data.shape)\n",
    "    shape.insert(1,1)\n",
    "    return np.reshape(data, shape)\n",
    "\n",
    "def get_mask(dim1: int, dim2: int) -> torch.Tensor:\n",
    "    \"\"\"\n",
    "    Generates an upper-triangular matrix of -inf, with zeros on diag.\n",
    "    Modified from: \n",
    "    https://pytorch.org/tutorials/beginner/transformer_tutorial.html\n",
    "\n",
    "    Args:\n",
    "\n",
    "        dim1: int, for both src and tgt masking, this must be target sequence\n",
    "              length\n",
    "\n",
    "        dim2: int, for src masking this must be encoder sequence length (i.e. \n",
    "              the length of the input sequence to the model), \n",
    "              and for tgt masking, this must be target sequence length \n",
    "\n",
    "\n",
    "    Return:\n",
    "\n",
    "        A Tensor of shape [dim1, dim2]\n",
    "    \"\"\"\n",
    "    return torch.triu(torch.ones(dim1, dim2) * float('-inf'), diagonal=1).to(device)\n"
   ]
  },
  {
   "attachments": {},
   "cell_type": "markdown",
   "metadata": {},
   "source": [
    "## Define Transformer"
   ]
  },
  {
   "attachments": {},
   "cell_type": "markdown",
   "metadata": {},
   "source": [
    "define encoder"
   ]
  },
  {
   "cell_type": "code",
   "execution_count": 6,
   "metadata": {},
   "outputs": [],
   "source": [
    "# adapted from https://pytorch.org/tutorials/beginner/transformer_tutorial.html\n",
    "class PositionalEncoding(nn.Module):\n",
    "    def __init__(self, d_model: int, dropout: float = 0.1, max_len: int = 5000):\n",
    "        super().__init__()\n",
    "        self.dropout = nn.Dropout(p=dropout)\n",
    "\n",
    "        position = torch.arange(max_len).unsqueeze(1)\n",
    "        div_term = torch.exp(torch.arange(0, d_model, 2) * (-math.log(10000.0) / d_model))\n",
    "        pe = torch.zeros(max_len, 1, d_model)\n",
    "        pe[:, 0, 0::2] = torch.sin(position * div_term)\n",
    "        pe[:, 0, 1::2] = torch.cos(position * div_term) # TODO: why does this crash when d_model = 3?\n",
    "        self.register_buffer('pe', pe)\n",
    "\n",
    "    def forward(self, x: torch.Tensor) -> torch.Tensor:\n",
    "        \"\"\"\n",
    "        Arguments:\n",
    "            x: Tensor, shape ``[seq_len, batch_size, embedding_dim]``\n",
    "        \"\"\"\n",
    "        x = x + self.pe[:x.size(0)]\n",
    "        return self.dropout(x)\n",
    "\n",
    "class Encoder(nn.Module):\n",
    "    def __init__(self, d_input, d_model, nhead=1):\n",
    "        super(Encoder, self).__init__()\n",
    "\n",
    "        # define layers (layers are functions)\n",
    "        self.input_layer = nn.Linear(d_input, d_model) # input layer, 10 features in, 10 features out (== keras dense)\n",
    "        self.pos_encoding_layer = PositionalEncoding(d_model,dropout=0.2)\n",
    "        self.encoder_layers = nn.TransformerEncoder(nn.TransformerEncoderLayer(d_model=d_model, nhead=nhead, dropout=0.2), num_layers=4) # stacks multiple encoder layers, contains self attention and feed forward with normalization in between, TODO: how many heads?\n",
    "\n",
    "    # forward pass data x through network\n",
    "    def forward(self, x: torch.Tensor):\n",
    "        x = self.input_layer(x)\n",
    "        x = self.pos_encoding_layer(x)\n",
    "        x = self.encoder_layers(x)\n",
    "        return x[0] # we ignore batching here, expected shape of x: [batch][pos in seq][dim]"
   ]
  },
  {
   "attachments": {},
   "cell_type": "markdown",
   "metadata": {},
   "source": [
    "define decoder"
   ]
  },
  {
   "cell_type": "code",
   "execution_count": 7,
   "metadata": {},
   "outputs": [],
   "source": [
    "\n",
    "class Decoder(nn.Module):\n",
    "    def __init__(self, d_input, d_model, nhead=1):\n",
    "        super(Decoder, self).__init__()\n",
    "\n",
    "        # define layers (layers are functions)\n",
    "        self.input_layer = nn.Linear(d_input, d_model) # input layer, 10 features in, 10 features out (== keras dense)\n",
    "        self.decoder_layers = nn.TransformerDecoder(nn.TransformerDecoderLayer(d_model=d_model, nhead=nhead, dropout=0.2), num_layers=4)\n",
    "        self.linear_mapping = nn.Linear(\n",
    "            in_features=d_model, \n",
    "            out_features=d_input\n",
    "            )\n",
    "\n",
    "\n",
    "    # forward pass data x through network\n",
    "    def forward(self, x: torch.Tensor, memory: torch.Tensor, mask: torch.Tensor): #NOTE: TODO: implement Masking\n",
    "        x = self.input_layer(x)\n",
    "        x = self.decoder_layers(x,memory=memory,tgt_mask=mask)\n",
    "        x = self.linear_mapping(x)\n",
    "        return x\n",
    "    "
   ]
  },
  {
   "cell_type": "code",
   "execution_count": 8,
   "metadata": {},
   "outputs": [],
   "source": [
    "class TimeSeriesTransformer(nn.Module):\n",
    "    def __init__(self, d_input, d_model,nhead=8):\n",
    "        super(TimeSeriesTransformer, self).__init__()\n",
    "\n",
    "        # define layers\n",
    "        self.encoder = Encoder(d_input, d_model,nhead=nhead)\n",
    "        self.decoder = Decoder(d_input, d_model,nhead=nhead)\n",
    "\n",
    "        self.memory = None\n",
    "\n",
    "    def encode(self, src: torch.Tensor):\n",
    "        encoding = self.encoder(src)\n",
    "        self.memory = encoding\n",
    "\n",
    "    def forward(self, target: torch.Tensor, mask: torch.Tensor):\n",
    "        if self.memory == None:\n",
    "            raise ValueError(\"you need to call encode() first\")\n",
    "        out = self.decoder(x=target,memory=self.memory, mask=mask)\n",
    "        return out"
   ]
  },
  {
   "attachments": {},
   "cell_type": "markdown",
   "metadata": {},
   "source": [
    "generate fake data (linear)"
   ]
  },
  {
   "cell_type": "code",
   "execution_count": 9,
   "metadata": {},
   "outputs": [
    {
     "data": {
      "text/plain": [
       "<matplotlib.legend.Legend at 0x18227e88fd0>"
      ]
     },
     "execution_count": 9,
     "metadata": {},
     "output_type": "execute_result"
    },
    {
     "data": {
      "image/png": "[encoded data removed]",
      "text/plain": [
       "<Figure size 640x480 with 1 Axes>"
      ]
     },
     "metadata": {},
     "output_type": "display_data"
    }
   ],
   "source": [
    "a = 0.1\n",
    "b = 0.5\n",
    "data_x = np.arange(0,1,0.01)\n",
    "data_y = [a*y+b for y in data_x]\n",
    "\n",
    "# split \"window\" into feature and label as in Wu et al\n",
    "rel = 0.8\n",
    "feature = data_y[:int(rel*len(data_y))]\n",
    "label = data_y[int(rel*len(data_y)):]\n",
    "plt.plot(data_x[:int(rel*len(data_y))],feature, label=\"feature\")\n",
    "plt.plot(data_x[int(rel*len(data_y)):],label, label=\"label\")\n",
    "plt.legend()"
   ]
  },
  {
   "cell_type": "code",
   "execution_count": 10,
   "metadata": {},
   "outputs": [],
   "source": [
    "feature = torch.Tensor(feature).to(device)\n",
    "label = torch.Tensor(label).to(device)"
   ]
  },
  {
   "attachments": {},
   "cell_type": "markdown",
   "metadata": {},
   "source": [
    "Network Training"
   ]
  },
  {
   "cell_type": "code",
   "execution_count": 11,
   "metadata": {},
   "outputs": [
    {
     "name": "stdout",
     "output_type": "stream",
     "text": [
      "learning rate 0.01\n",
      "0: loss=0.03986319899559021\n",
      "10: loss=0.006263058166950941\n",
      "20: loss=0.0006907698116265237\n",
      "30: loss=3.3615764550631866e-05\n",
      "40: loss=0.00016705517191439867\n",
      "50: loss=3.37504425260704e-05\n",
      "60: loss=3.327232843730599e-05\n",
      "70: loss=3.329186074552126e-05\n",
      "80: loss=3.331017796881497e-05\n",
      "90: loss=3.3251541026402265e-05\n",
      "100: loss=3.3257834729738533e-05\n",
      "110: loss=3.325003126519732e-05\n",
      "120: loss=3.325064244563691e-05\n",
      "130: loss=3.325060606584884e-05\n",
      "140: loss=3.3250016713282093e-05\n",
      "150: loss=3.325015495647676e-05\n",
      "160: loss=3.3250114938709885e-05\n",
      "170: loss=3.324997305753641e-05\n",
      "180: loss=3.3250165870413184e-05\n",
      "190: loss=3.325006764498539e-05\n",
      "200: loss=3.325005673104897e-05\n",
      "210: loss=3.325009674881585e-05\n",
      "220: loss=3.324984209029935e-05\n",
      "230: loss=3.3250216802116483e-05\n",
      "240: loss=3.324983481434174e-05\n",
      "250: loss=3.3250125852646306e-05\n",
      "new learning rate 1e-07\n",
      "260: loss=3.324990757391788e-05\n",
      "270: loss=3.3249925763811916e-05\n",
      "280: loss=3.3250002161366865e-05\n",
      "290: loss=3.324993667774834e-05\n",
      "300: loss=3.324994395370595e-05\n",
      "310: loss=3.3250300475629047e-05\n",
      "320: loss=3.325006036902778e-05\n",
      "330: loss=3.325012949062511e-05\n",
      "340: loss=3.325006036902778e-05\n",
      "350: loss=3.324984209029935e-05\n",
      "360: loss=3.324982026242651e-05\n",
      "370: loss=3.325006036902778e-05\n",
      "380: loss=3.324989665998146e-05\n",
      "390: loss=3.324993303976953e-05\n",
      "400: loss=3.3249914849875495e-05\n",
      "410: loss=3.324988210806623e-05\n",
      "420: loss=3.325011857668869e-05\n",
      "430: loss=3.325007492094301e-05\n",
      "440: loss=3.325012949062511e-05\n",
      "450: loss=3.324995850562118e-05\n",
      "460: loss=3.324995850562118e-05\n",
      "470: loss=3.324998397147283e-05\n",
      "480: loss=3.324992212583311e-05\n",
      "490: loss=3.32499184878543e-05\n"
     ]
    }
   ],
   "source": [
    "#%%\n",
    "d_input = 1\n",
    "d_model = 2\n",
    "nhead = 2\n",
    "net = TimeSeriesTransformer(d_input, d_model,nhead=nhead)\n",
    "net.to(device)\n",
    "net.train(True)\n",
    "#learning_rate = 2.8*(10**(-6)) # TODO: how is learning schedule implemented by Wu et al?\n",
    "learning_rate = 0.01\n",
    "print(f\"learning rate {learning_rate}\")\n",
    "optimizer = opt.Adam(net.parameters(), lr=learning_rate,betas=[0.9,0.98], eps=10**(-9))\n",
    "criterion = nn.MSELoss()\n",
    "num_epochs = 500\n",
    "\n",
    "#%%\n",
    "losses = []\n",
    "lr_updated = False\n",
    "# go through every datapoint (1)\n",
    "for i in range(num_epochs):\n",
    "    # apply gradient to each epoch\n",
    "    net.zero_grad()\n",
    "    optimizer.zero_grad()\n",
    "    \n",
    "    net.encode(torch.unsqueeze(feature,0).T)\n",
    "\n",
    "    predicted_labels = []\n",
    "    # we start with last feature label as input(do not use in loss)\n",
    "    # last label does not get used for input only for error lost\n",
    "    target_labels = [feature[-1]] + list(label) \n",
    "    # train every step in window individually\n",
    "    for sp in range(len(target_labels)-1):\n",
    "        decoder_input = target_labels[:sp+1]\n",
    "        decoder_input = torch.Tensor(decoder_input).to(device)\n",
    "        decoder_input = torch.unsqueeze(decoder_input,0)\n",
    "        #decoder_input = torch.unsqueeze(decoder_input,0)\n",
    "        decoder_input = decoder_input.T\n",
    "        out = net.forward(decoder_input,None) #TODO: add Masking\n",
    "        newly_predicted = out[-1] # always only one new because of shifted label prediction\n",
    "        predicted_labels.append(newly_predicted) \n",
    "        \n",
    "    # first label was only to feed input\n",
    "    y_label = torch.tensor(target_labels[1:]).to(device)\n",
    "    y_predicted = torch.squeeze(torch.stack(predicted_labels))\n",
    "    #print(y_label.shape, y_predicted)\n",
    "    loss = criterion(y_label, y_predicted)\n",
    "    loss.backward()\n",
    "    optimizer.step()\n",
    "    if i > 250 and lr_updated == False:\n",
    "        optimizer.param_groups[0]['lr'] = 0.0000001 #1e-7\n",
    "        lr_updated = True\n",
    "        print(f\"new learning rate {optimizer.param_groups[0]['lr']}\")\n",
    "    if i % 10 == 0: print(f\"{i}: loss={loss}\")\n",
    "\n",
    "#%%\n",
    "# example result of trained net and conversion to numpy\n",
    "#x_numpy = np.array([1,0,0,0,1,0,0,0,1,1])\n",
    "#x = torch.Tensor(x_numpy).to(net.device)\n",
    "#y = net(x)\n",
    "#y_numpy = y.detach().cpu().numpy()\n",
    "#print(\"in  \", x_numpy.astype(np.int8))\n",
    "#print(\"out \", np.abs(np.rint(y_numpy)).astype(np.int8)) # as nearest (positive) int\n",
    "# %% "
   ]
  },
  {
   "cell_type": "code",
   "execution_count": 16,
   "metadata": {},
   "outputs": [
    {
     "data": {
      "text/plain": [
       "tensor([[0.5895],\n",
       "        [0.5895],\n",
       "        [0.5895],\n",
       "        [0.5895],\n",
       "        [0.5895],\n",
       "        [0.5895],\n",
       "        [0.5895],\n",
       "        [0.5895],\n",
       "        [0.5895],\n",
       "        [0.5895],\n",
       "        [0.5895],\n",
       "        [0.5895],\n",
       "        [0.5895],\n",
       "        [0.5895],\n",
       "        [0.5895],\n",
       "        [0.5895],\n",
       "        [0.5895],\n",
       "        [0.5895],\n",
       "        [0.5895],\n",
       "        [0.5895]], device='cuda:0', grad_fn=<AddmmBackward0>)"
      ]
     },
     "execution_count": 16,
     "metadata": {},
     "output_type": "execute_result"
    }
   ],
   "source": [
    "net.encode(torch.unsqueeze(feature,0).T)\n",
    "res = torch.Tensor(torch.unsqueeze(label,0).T).to(device)\n",
    "out = net(res,None)\n",
    "out"
   ]
  },
  {
   "attachments": {},
   "cell_type": "markdown",
   "metadata": {},
   "source": [
    "it seems that at least something is learned here"
   ]
  },
  {
   "cell_type": "code",
   "execution_count": 13,
   "metadata": {},
   "outputs": [
    {
     "data": {
      "text/plain": [
       "tensor([0.5800, 0.5810, 0.5820, 0.5830, 0.5840, 0.5850, 0.5860, 0.5870, 0.5880,\n",
       "        0.5890, 0.5900, 0.5910, 0.5920, 0.5930, 0.5940, 0.5950, 0.5960, 0.5970,\n",
       "        0.5980, 0.5990], device='cuda:0')"
      ]
     },
     "execution_count": 13,
     "metadata": {},
     "output_type": "execute_result"
    }
   ],
   "source": [
    "label"
   ]
  },
  {
   "cell_type": "code",
   "execution_count": 14,
   "metadata": {},
   "outputs": [
    {
     "data": {
      "text/plain": [
       "3.325002e-05"
      ]
     },
     "execution_count": 14,
     "metadata": {},
     "output_type": "execute_result"
    }
   ],
   "source": [
    "np.var(label.cpu().detach().numpy())"
   ]
  },
  {
   "cell_type": "code",
   "execution_count": 15,
   "metadata": {},
   "outputs": [
    {
     "data": {
      "text/plain": [
       "1.6342483e-14"
      ]
     },
     "execution_count": 15,
     "metadata": {},
     "output_type": "execute_result"
    }
   ],
   "source": [
    "np.var(out.cpu().detach().numpy())"
   ]
  },
  {
   "attachments": {},
   "cell_type": "markdown",
   "metadata": {},
   "source": [
    "# Try with real data"
   ]
  },
  {
   "cell_type": "code",
   "execution_count": 17,
   "metadata": {},
   "outputs": [
    {
     "data": {
      "text/html": [
       "<div>\n",
       "<style scoped>\n",
       "    .dataframe tbody tr th:only-of-type {\n",
       "        vertical-align: middle;\n",
       "    }\n",
       "\n",
       "    .dataframe tbody tr th {\n",
       "        vertical-align: top;\n",
       "    }\n",
       "\n",
       "    .dataframe thead th {\n",
       "        text-align: right;\n",
       "    }\n",
       "</style>\n",
       "<table border=\"1\" class=\"dataframe\">\n",
       "  <thead>\n",
       "    <tr style=\"text-align: right;\">\n",
       "      <th></th>\n",
       "      <th>timestamp</th>\n",
       "      <th>differential_potential_CH1</th>\n",
       "      <th>differential_potential_CH2</th>\n",
       "      <th>transpiration</th>\n",
       "    </tr>\n",
       "  </thead>\n",
       "  <tbody>\n",
       "    <tr>\n",
       "      <th>0</th>\n",
       "      <td>2022-01-22 13:53:42</td>\n",
       "      <td>526487</td>\n",
       "      <td>467544</td>\n",
       "      <td>442</td>\n",
       "    </tr>\n",
       "    <tr>\n",
       "      <th>1</th>\n",
       "      <td>2022-01-22 13:53:44</td>\n",
       "      <td>526542</td>\n",
       "      <td>467315</td>\n",
       "      <td>461</td>\n",
       "    </tr>\n",
       "    <tr>\n",
       "      <th>2</th>\n",
       "      <td>2022-01-22 13:53:45</td>\n",
       "      <td>526532</td>\n",
       "      <td>466868</td>\n",
       "      <td>466</td>\n",
       "    </tr>\n",
       "  </tbody>\n",
       "</table>\n",
       "</div>"
      ],
      "text/plain": [
       "            timestamp  differential_potential_CH1  differential_potential_CH2  \\\n",
       "0 2022-01-22 13:53:42                      526487                      467544   \n",
       "1 2022-01-22 13:53:44                      526542                      467315   \n",
       "2 2022-01-22 13:53:45                      526532                      466868   \n",
       "\n",
       "   transpiration  \n",
       "0            442  \n",
       "1            461  \n",
       "2            466  "
      ]
     },
     "metadata": {},
     "output_type": "display_data"
    },
    {
     "data": {
      "text/html": [
       "<div>\n",
       "<style scoped>\n",
       "    .dataframe tbody tr th:only-of-type {\n",
       "        vertical-align: middle;\n",
       "    }\n",
       "\n",
       "    .dataframe tbody tr th {\n",
       "        vertical-align: top;\n",
       "    }\n",
       "\n",
       "    .dataframe thead th {\n",
       "        text-align: right;\n",
       "    }\n",
       "</style>\n",
       "<table border=\"1\" class=\"dataframe\">\n",
       "  <thead>\n",
       "    <tr style=\"text-align: right;\">\n",
       "      <th></th>\n",
       "      <th>timestamp</th>\n",
       "      <th>differential_potential_CH1</th>\n",
       "      <th>differential_potential_CH2</th>\n",
       "      <th>transpiration</th>\n",
       "    </tr>\n",
       "  </thead>\n",
       "  <tbody>\n",
       "    <tr>\n",
       "      <th>0</th>\n",
       "      <td>2022-01-22 13:53:37</td>\n",
       "      <td>505940</td>\n",
       "      <td>507749</td>\n",
       "      <td>621</td>\n",
       "    </tr>\n",
       "    <tr>\n",
       "      <th>1</th>\n",
       "      <td>2022-01-22 13:53:38</td>\n",
       "      <td>505846</td>\n",
       "      <td>507807</td>\n",
       "      <td>632</td>\n",
       "    </tr>\n",
       "    <tr>\n",
       "      <th>2</th>\n",
       "      <td>2022-01-22 13:53:40</td>\n",
       "      <td>505990</td>\n",
       "      <td>507764</td>\n",
       "      <td>629</td>\n",
       "    </tr>\n",
       "  </tbody>\n",
       "</table>\n",
       "</div>"
      ],
      "text/plain": [
       "            timestamp  differential_potential_CH1  differential_potential_CH2  \\\n",
       "0 2022-01-22 13:53:37                      505940                      507749   \n",
       "1 2022-01-22 13:53:38                      505846                      507807   \n",
       "2 2022-01-22 13:53:40                      505990                      507764   \n",
       "\n",
       "   transpiration  \n",
       "0            621  \n",
       "1            632  \n",
       "2            629  "
      ]
     },
     "metadata": {},
     "output_type": "display_data"
    }
   ],
   "source": [
    "data_temp, data_wind = load_data()\n",
    "display(data_temp.head(3))\n",
    "display(data_wind.head(3))"
   ]
  },
  {
   "cell_type": "code",
   "execution_count": 23,
   "metadata": {},
   "outputs": [],
   "source": [
    "def scale_and_resample_timeindex(df: pd.DataFrame, timefreq=\"10s\", aggregator=\"mean\"):\n",
    "    df = df.set_index(\"timestamp\")\n",
    "    df = df[~df.index.duplicated(keep=\"first\")]\n",
    "    df = df.resample(timefreq).aggregate(aggregator)\n",
    "    scaler = skp.MinMaxScaler()\n",
    "    df = pd.DataFrame(scaler.fit_transform(df), index=df.index, columns=df.columns)\n",
    "    return df, scaler"
   ]
  },
  {
   "cell_type": "code",
   "execution_count": 27,
   "metadata": {},
   "outputs": [
    {
     "name": "stdout",
     "output_type": "stream",
     "text": [
      "computing valid windows\n"
     ]
    },
    {
     "name": "stderr",
     "output_type": "stream",
     "text": [
      "100%|██████████| 348/348 [00:00<00:00, 4970.33it/s]"
     ]
    },
    {
     "name": "stdout",
     "output_type": "stream",
     "text": [
      "found 337 valid window(s)\n"
     ]
    },
    {
     "name": "stderr",
     "output_type": "stream",
     "text": [
      "\n"
     ]
    }
   ],
   "source": [
    "data = data_temp.copy().iloc[:1000,:]\n",
    "timefreq=\"5s\"\n",
    "aggregator=\"mean\"\n",
    "window_size=12\n",
    "feature_size=10\n",
    "\n",
    "def get_window(data, i, wsize):\n",
    "    \"\"\"i is starting index of window\"\"\"\n",
    "    window = data.iloc[i:i+wsize, 1:].to_numpy()\n",
    "    timestamps = data.iloc[i:i+wsize, 0].to_numpy()\n",
    "    isvalid = not np.any(np.isnan(window))\n",
    "    if window.shape[0] != wsize:\n",
    "        isvalid = False\n",
    "    return window, timestamps, isvalid\n",
    "\n",
    "def get_datapoint(data, i, wsize, fsize):\n",
    "    window, timestamps, isvalid = get_window(data, i, wsize)\n",
    "    feature, label = window[0:fsize,:], window[fsize:,:]\n",
    "    return feature, label, timestamps, isvalid\n",
    "\n",
    "def get_valid_windows(data, wsize):\n",
    "    valid_indexes = []\n",
    "    print(\"computing valid windows\")\n",
    "    for i in tqdm(range(data.shape[0])):\n",
    "        _,_, isvalid = get_window(data,i,wsize)\n",
    "        if isvalid:\n",
    "            valid_indexes.append(i)\n",
    "    print(f\"found {len(valid_indexes)} valid window(s)\")\n",
    "    return valid_indexes\n",
    "\n",
    "data_resampled, scaler = scale_and_resample_timeindex(data, timefreq=timefreq, aggregator=aggregator)\n",
    "data_resampled = data_resampled[[\"differential_potential_CH1\"]]\n",
    "data_resampled = data_resampled.reset_index()\n",
    "valid_windows = get_valid_windows(data_resampled, window_size)\n",
    "window, timestamps, isvalid = get_window(data_resampled, valid_windows[0],window_size)\n",
    "feature, label, timestamps, isvalid = get_datapoint(data_resampled, valid_windows[0], window_size, feature_size)"
   ]
  },
  {
   "cell_type": "code",
   "execution_count": 79,
   "metadata": {},
   "outputs": [
    {
     "name": "stdout",
     "output_type": "stream",
     "text": [
      "computing valid windows\n"
     ]
    },
    {
     "name": "stderr",
     "output_type": "stream",
     "text": [
      "100%|██████████| 348/348 [00:00<00:00, 5437.55it/s]"
     ]
    },
    {
     "name": "stdout",
     "output_type": "stream",
     "text": [
      "found 337 valid window(s)\n",
      "using learning rate 0.0001\n",
      "0: loss=0.1176532432436943\n"
     ]
    },
    {
     "name": "stderr",
     "output_type": "stream",
     "text": [
      "\n"
     ]
    },
    {
     "name": "stdout",
     "output_type": "stream",
     "text": [
      "100: loss=0.003992353565990925\n",
      "200: loss=0.11094772070646286\n",
      "300: loss=0.008678494021296501\n",
      "400: loss=0.021544525399804115\n",
      "500: loss=0.008774396032094955\n",
      "600: loss=0.09015243500471115\n",
      "700: loss=0.018066437914967537\n",
      "800: loss=0.02497927099466324\n",
      "900: loss=0.0001602868433110416\n",
      "1000: loss=0.020441392436623573\n",
      "1100: loss=0.04285673424601555\n",
      "1200: loss=0.015176264569163322\n",
      "1300: loss=0.0684320405125618\n",
      "1400: loss=0.019809585064649582\n",
      "1500: loss=0.003225088817998767\n",
      "1600: loss=0.013287200592458248\n",
      "1700: loss=0.005008825566619635\n",
      "1800: loss=0.002205678727477789\n",
      "1900: loss=0.004036694765090942\n",
      "2000: loss=0.011947107501327991\n",
      "2100: loss=0.0019543753005564213\n",
      "2200: loss=0.0018416640814393759\n",
      "2300: loss=0.0032817290630191565\n",
      "2400: loss=0.023562604561448097\n",
      "2500: loss=0.009176129475235939\n",
      "new learning rate 1e-07\n",
      "2600: loss=0.00219483720138669\n",
      "2700: loss=0.00035522785037755966\n",
      "2800: loss=0.0016114194877445698\n",
      "2900: loss=0.05891571193933487\n",
      "3000: loss=0.023439325392246246\n",
      "3100: loss=0.021353550255298615\n",
      "3200: loss=0.0019242232665419579\n",
      "3300: loss=2.1977561118546873e-05\n",
      "3400: loss=0.03569652885198593\n",
      "3500: loss=0.008812091313302517\n",
      "3600: loss=0.004018563777208328\n",
      "3700: loss=0.0023195433896034956\n",
      "3800: loss=0.0010528811253607273\n",
      "3900: loss=0.003168341238051653\n",
      "4000: loss=0.00397839117795229\n",
      "4100: loss=0.03428775817155838\n",
      "4200: loss=0.000979065429419279\n",
      "4300: loss=0.03652393817901611\n",
      "4400: loss=0.0005532680079340935\n",
      "4500: loss=2.17994647755404e-06\n",
      "4600: loss=0.005322319455444813\n",
      "4700: loss=0.00784280989319086\n",
      "4800: loss=0.01392408087849617\n",
      "4900: loss=0.00848085805773735\n",
      "5000: loss=0.004504067357629538\n",
      "new learning rate 1e-10\n",
      "5100: loss=0.03052516095340252\n",
      "5200: loss=0.0013634664937853813\n",
      "5300: loss=0.027754666283726692\n",
      "5400: loss=0.023286476731300354\n",
      "5500: loss=0.005443849600851536\n",
      "5600: loss=0.0031447969377040863\n",
      "5700: loss=0.023319313302636147\n",
      "5800: loss=0.012568866834044456\n",
      "5900: loss=0.0027981309685856104\n",
      "6000: loss=0.012704484164714813\n",
      "6100: loss=0.007861144840717316\n",
      "6200: loss=0.011179997585713863\n",
      "6300: loss=0.03175155445933342\n",
      "6400: loss=0.02088015154004097\n",
      "6500: loss=0.014625202864408493\n",
      "6600: loss=0.01676151528954506\n",
      "6700: loss=0.00687441835179925\n",
      "6800: loss=0.009394667111337185\n",
      "6900: loss=0.022073283791542053\n",
      "7000: loss=0.010575609281659126\n",
      "7100: loss=0.0034708192106336355\n",
      "7200: loss=0.0007724293973296881\n",
      "7300: loss=0.014581149443984032\n",
      "7400: loss=5.870764653082006e-05\n",
      "7500: loss=0.005120651330798864\n",
      "7600: loss=0.00040299378451891243\n",
      "7700: loss=0.0018927257042378187\n",
      "7800: loss=4.76529885418131e-06\n",
      "7900: loss=0.0010627334704622626\n",
      "8000: loss=0.0018915277905762196\n",
      "8100: loss=0.0016216806834563613\n",
      "8200: loss=0.009894619695842266\n",
      "8300: loss=0.010302212089300156\n",
      "8400: loss=0.00621209479868412\n",
      "8500: loss=0.024901654571294785\n",
      "8600: loss=0.008941835723817348\n",
      "8700: loss=0.004300873260945082\n",
      "8800: loss=0.036356136202812195\n",
      "8900: loss=0.001513029681518674\n",
      "9000: loss=0.004870471078902483\n",
      "9100: loss=0.0068525890819728374\n",
      "9200: loss=0.020547404885292053\n",
      "9300: loss=0.004125150851905346\n",
      "9400: loss=0.00203930726274848\n",
      "9500: loss=0.0009605818777345121\n",
      "9600: loss=0.007663879543542862\n",
      "9700: loss=0.0048735542222857475\n",
      "9800: loss=0.00010734009993029758\n",
      "9900: loss=0.007779911160469055\n"
     ]
    }
   ],
   "source": [
    "@dataclass(frozen=True,slots=True)\n",
    "class ExperimentData:\n",
    "    data_resampled: pd.DataFrame\n",
    "    scaler: skp.MinMaxScaler\n",
    "    timefreq: str\n",
    "    aggregator: str|Callable\n",
    "    columns: list[str]\n",
    "    window_size: int\n",
    "    feature_size: int\n",
    "    valid_windows: list[int]\n",
    "\n",
    "@dataclass(frozen=True, slots=True)\n",
    "class TrainingData:\n",
    "    net: TimeSeriesTransformer\n",
    "    d_input: int\n",
    "    d_model: int\n",
    "    n_head: int\n",
    "    seed: int|None\n",
    "    learning_rate: float\n",
    "    epochs: float\n",
    "    losses: list[float]\n",
    "    best_loss: float|None\n",
    "    best_net: None|TimeSeriesTransformer\n",
    "\n",
    "\n",
    "def getExperimentData(data, timefreq, aggregator, columns, window_size, feature_size):\n",
    "    data_resampled, scaler = scale_and_resample_timeindex(data, timefreq=timefreq, aggregator=aggregator)\n",
    "    data_resampled = data_resampled[columns]\n",
    "    data_resampled = data_resampled.reset_index()\n",
    "    valid_windows = get_valid_windows(data_resampled, window_size)\n",
    "    #feature, label, timestamps, isvalid = get_datapoint(data_resampled, valid_windows[0], window_size, feature_size) \n",
    "    return ExperimentData(data_resampled, scaler, timefreq, aggregator, columns, window_size, feature_size, valid_windows)\n",
    "\n",
    "def trainExperiment(data: ExperimentData, d_model, nhead, learning_rate, num_epochs, seed):\n",
    "    if seed is not None:\n",
    "        np.random.seed(seed)\n",
    "        torch.manual_seed(seed)\n",
    "    #%%\n",
    "    d_input = len(data.columns)\n",
    "    net = TimeSeriesTransformer(d_input, d_model,nhead=nhead)\n",
    "    net.to(device)\n",
    "    net.train(True)\n",
    "    #learning_rate = 2.8*(10**(-6)) # TODO: how is learning schedule implemented by Wu et al?\n",
    "    learning_rate = 0.0001\n",
    "    print(f\"using learning rate {learning_rate}\")\n",
    "    optimizer = opt.Adam(net.parameters(), lr=learning_rate,betas=[0.9,0.98], eps=10**(-9))\n",
    "    criterion = nn.MSELoss()\n",
    "\n",
    "    #%%\n",
    "    losses = []\n",
    "    lr_updated = False\n",
    "    lr_updated_2 = False\n",
    "    best_loss = float('inf')\n",
    "    best_net = None\n",
    "    # go through every datapoint (1)\n",
    "    for i in range(num_epochs):\n",
    "        # apply gradient to each epoch\n",
    "        net.zero_grad()\n",
    "        optimizer.zero_grad()\n",
    "\n",
    "        window_index = data.valid_windows[int(np.random.uniform(0,len(data.valid_windows)))]\n",
    "        feature, label, _timestamps, _isvalid = get_datapoint(data.data_resampled, window_index,data.window_size,data.feature_size) \n",
    "        feature = torch.Tensor(feature).to(device)\n",
    "        label = torch.Tensor(label).to(device)\n",
    "        #print(feature.shape, label.shape)\n",
    "                \n",
    "        net.encode(torch.unsqueeze(feature,0).T)\n",
    "        \n",
    "        predicted_labels = []\n",
    "        # we start with last feature label as input(do not use in loss)\n",
    "        # last label does not get used for input only for error lost\n",
    "        target_labels = [feature[-1]] + list(label) \n",
    "        # train every step in window individually\n",
    "        for sp in range(len(target_labels)-1):\n",
    "            decoder_input = target_labels[:sp+1]\n",
    "            decoder_input = torch.Tensor(decoder_input).to(device)\n",
    "            decoder_input = torch.unsqueeze(decoder_input,0)\n",
    "            #decoder_input = torch.unsqueeze(decoder_input,0)\n",
    "            decoder_input = decoder_input.T\n",
    "            out = net.forward(decoder_input,get_mask(decoder_input.shape[0],decoder_input.shape[0])) #TODO: add masking\n",
    "            newly_predicted = out[-1] # always only one new because of shifted label prediction\n",
    "            predicted_labels.append(newly_predicted) \n",
    "            \n",
    "        # first label was only to feed input\n",
    "        y_label = torch.tensor(target_labels[1:]).to(device)\n",
    "        y_predicted = torch.squeeze(torch.stack(predicted_labels))\n",
    "        #print(y_label.shape, y_predicted)\n",
    "        loss = criterion(y_label, y_predicted)\n",
    "        loss.backward()\n",
    "        optimizer.step()\n",
    "        losses.append(loss.cpu().detach().numpy())\n",
    "        if i > 2500 and lr_updated == False:\n",
    "            optimizer.param_groups[0]['lr'] = 0.0000001 #1e-7\n",
    "            lr_updated = True\n",
    "            print(f\"new learning rate {optimizer.param_groups[0]['lr']}\")\n",
    "        if i > 5000 and lr_updated_2 == False:\n",
    "            optimizer.param_groups[0]['lr'] = 0.0000000001 #1e-10\n",
    "            lr_updated_2 = True\n",
    "            print(f\"new learning rate {optimizer.param_groups[0]['lr']}\")\n",
    "        if i % 100 == 0: print(f\"{i}: avg_loss={np.mean(loss)}\")\n",
    "        if loss < best_loss:\n",
    "            best_loss = loss\n",
    "            model_clone = TimeSeriesTransformer(d_input, d_model,nhead)\n",
    "            model_clone.load_state_dict(copy.deepcopy(net.state_dict()))\n",
    "            best_net = copy.deepcopy(model_clone) # deepcopy should retain weights\n",
    "    return TrainingData(net, d_input, d_model,nhead, seed, learning_rate, num_epochs, losses, best_loss.cpu().detach().numpy(), best_net)\n",
    "\n",
    "expData = getExperimentData(\n",
    "    data_temp.copy().iloc[:1000,:],\n",
    "    timefreq=\"5s\",\n",
    "    aggregator=\"mean\",\n",
    "    columns=[\"transpiration\"],\n",
    "    window_size=12,\n",
    "    feature_size=10)\n",
    "\n",
    "trainData = trainExperiment(expData, 16,16, 0.001, 10000, 0)\n"
   ]
  },
  {
   "cell_type": "code",
   "execution_count": 97,
   "metadata": {},
   "outputs": [
    {
     "data": {
      "text/plain": [
       "<matplotlib.legend.Legend at 0x1830af1f3d0>"
      ]
     },
     "execution_count": 97,
     "metadata": {},
     "output_type": "execute_result"
    },
    {
     "data": {
      "image/png": "[encoded data removed]",
      "text/plain": [
       "<Figure size 640x480 with 1 Axes>"
      ]
     },
     "metadata": {},
     "output_type": "display_data"
    }
   ],
   "source": [
    "plt.plot(trainData.losses, label=\"loss\")\n",
    "plt.plot([np.mean(trainData.losses[:i]) for i in range(len(trainData.losses))], label=\"avg_losses\")\n",
    "def medfilt (x, k): # https://gist.github.com/bhawkins/3535131\n",
    "    \"\"\"Apply a length-k median filter to a 1D array x.\n",
    "    Boundaries are extended by repeating endpoints.\n",
    "    \"\"\"\n",
    "    assert k % 2 == 1, \"Median filter length must be odd.\"\n",
    "    assert x.ndim == 1, \"Input must be one-dimensional.\"\n",
    "    k2 = (k - 1) // 2\n",
    "    y = np.zeros ((len (x), k), dtype=x.dtype)\n",
    "    y[:,k2] = x\n",
    "    for i in range (k2):\n",
    "        j = k2 - i\n",
    "        y[j:,i] = x[:-j]\n",
    "        y[:j,i] = x[0]\n",
    "        y[:-j,-(i+1)] = x[j:]\n",
    "        y[-j:,-(i+1)] = x[-1]\n",
    "    return np.median (y, axis=1)\n",
    "plt.plot(medfilt(np.array(trainData.losses), 99), label=\"medfilt-99 losses\")\n",
    "plt.legend()"
   ]
  },
  {
   "cell_type": "code",
   "execution_count": 93,
   "metadata": {},
   "outputs": [
    {
     "data": {
      "text/plain": [
       "array([0.11765324, 0.11765324, 0.11765324, ..., 0.00028814, 0.00028814,\n",
       "       0.00028814], dtype=float32)"
      ]
     },
     "execution_count": 93,
     "metadata": {},
     "output_type": "execute_result"
    }
   ],
   "source": []
  },
  {
   "cell_type": "code",
   "execution_count": 82,
   "metadata": {},
   "outputs": [
    {
     "data": {
      "text/plain": [
       "tensor([[0.7867],\n",
       "        [0.7915]], device='cuda:0', grad_fn=<AddmmBackward0>)"
      ]
     },
     "execution_count": 82,
     "metadata": {},
     "output_type": "execute_result"
    }
   ],
   "source": [
    "#window_index = data.valid_windows[int(np.random.uniform(0,len(data.valid_windows)))]\n",
    "window_index = expData.valid_windows[100] # any\n",
    "feature, label, _timestamps, _isvalid = get_datapoint(expData.data_resampled, window_index,expData.window_size,expData.feature_size) \n",
    "feature = torch.Tensor(feature).to(device)\n",
    "label = torch.Tensor(label).to(device)\n",
    "decoder_input = feature[-2:]\n",
    "net = trainData.best_net\n",
    "net.to(device)\n",
    "net.encode(torch.unsqueeze(feature,0).T)\n",
    "out = net(decoder_input,mask=None)\n",
    "out"
   ]
  },
  {
   "cell_type": "code",
   "execution_count": 84,
   "metadata": {},
   "outputs": [
    {
     "data": {
      "text/plain": [
       "tensor([[0.8107],\n",
       "        [0.7945],\n",
       "        [0.7950],\n",
       "        [0.7930],\n",
       "        [0.7361],\n",
       "        [0.7616],\n",
       "        [0.7666],\n",
       "        [0.7381],\n",
       "        [0.7097],\n",
       "        [0.7430]], device='cuda:0')"
      ]
     },
     "execution_count": 84,
     "metadata": {},
     "output_type": "execute_result"
    }
   ],
   "source": [
    "feature"
   ]
  },
  {
   "cell_type": "code",
   "execution_count": 85,
   "metadata": {},
   "outputs": [
    {
     "data": {
      "text/plain": [
       "tensor([[0.7293],\n",
       "        [0.7057]], device='cuda:0')"
      ]
     },
     "execution_count": 85,
     "metadata": {},
     "output_type": "execute_result"
    }
   ],
   "source": [
    "label"
   ]
  },
  {
   "cell_type": "code",
   "execution_count": 88,
   "metadata": {},
   "outputs": [
    {
     "data": {
      "text/plain": [
       "(tensor(0.0053, device='cuda:0', grad_fn=<MseLossBackward0>),\n",
       " array(4.7820848e-08, dtype=float32))"
      ]
     },
     "execution_count": 88,
     "metadata": {},
     "output_type": "execute_result"
    }
   ],
   "source": [
    "nn.MSELoss()(label,out), trainData.best_loss"
   ]
  },
  {
   "cell_type": "code",
   "execution_count": 254,
   "metadata": {},
   "outputs": [
    {
     "name": "stdout",
     "output_type": "stream",
     "text": [
      "data saved\n"
     ]
    }
   ],
   "source": [
    "def saveData(dir: pl.Path, expData: ExperimentData, trainData: TrainingData):\n",
    "    dir.mkdir(exist_ok=True)\n",
    "    torch.save(trainData.net.state_dict(), dir / 'model_weights.pt')\n",
    "    losses = np.array(trainData.losses)\n",
    "    np.save(dir / \"losses\",losses)\n",
    "    torch.save({\"d_input\":trainData.d_input, \"d_model\": trainData.d_model}, dir / \"model_params.pt\")\n",
    "    dc = asdict(expData)\n",
    "    dc[\"data_resampled\"] = None\n",
    "    torch.save(dc, dir / \"exp_data.pt\")\n",
    "    print(\"data saved\")\n",
    "\n",
    "#saveData(pl.Path(\"../data/experiment/\"),expData, trainData)"
   ]
  },
  {
   "attachments": {},
   "cell_type": "markdown",
   "metadata": {},
   "source": [
    "## Try Inference using trained model and compare with ground truth"
   ]
  },
  {
   "cell_type": "code",
   "execution_count": 167,
   "metadata": {},
   "outputs": [
    {
     "data": {
      "text/plain": [
       "array([[0.5881137 ],\n",
       "       [0.43917495],\n",
       "       [0.48205876],\n",
       "       [0.4676739 ],\n",
       "       [0.49474955],\n",
       "       [0.4068924 ],\n",
       "       [0.3691901 ],\n",
       "       [0.46042943],\n",
       "       [0.5621285 ],\n",
       "       [0.4903708 ],\n",
       "       [0.4839121 ],\n",
       "       [0.36507428],\n",
       "       [0.5396093 ],\n",
       "       [0.4881816 ],\n",
       "       [0.5566935 ],\n",
       "       [0.66892546],\n",
       "       [0.577082  ],\n",
       "       [0.5122681 ],\n",
       "       [0.51420414],\n",
       "       [0.48900908],\n",
       "       [0.4674464 ],\n",
       "       [0.46802127],\n",
       "       [0.5300496 ],\n",
       "       [0.5183355 ],\n",
       "       [0.55312943]], dtype=float32)"
      ]
     },
     "execution_count": 167,
     "metadata": {},
     "output_type": "execute_result"
    }
   ],
   "source": [
    "def inference(net: TimeSeriesTransformer, input: np.ndarray, prediction_length: int, seed=None):\n",
    "    if seed is not None:\n",
    "        np.random.seed(seed)\n",
    "        torch.manual_seed(seed)\n",
    "    feature = torch.Tensor(input).to(device)\n",
    "    net.encode(torch.unsqueeze(feature,0).T)\n",
    "    \n",
    "    # we start with last feature label as input\n",
    "    last_feature = feature[-1] #.cpu().detach().numpy()\n",
    "    predicted_labels = [last_feature]\n",
    "    #predicted_labels = [feature[-1]]\n",
    "    # infer iteratively\n",
    "    for sp in range(prediction_length):\n",
    "        decoder_input = predicted_labels[:sp+1]\n",
    "        decoder_input = torch.Tensor(decoder_input).to(device)\n",
    "        #decoder_input = torch.unsqueeze(decoder_input,0)\n",
    "        decoder_input = torch.unsqueeze(decoder_input,0)\n",
    "        decoder_input = decoder_input.T\n",
    "        #print(decoder_input.shape)\n",
    "        out = net.forward(decoder_input,None)\n",
    "        newly_predicted = out[-1] # always only one new because of shifted label prediction\n",
    "        predicted_labels.append(newly_predicted.cpu().detach().numpy()) \n",
    "\n",
    "    return np.array(predicted_labels[1:])\n",
    "\n",
    "num_predict = 25\n",
    "pred = inference(net, feature.cpu().detach().numpy(), num_predict,0)\n",
    "pred"
   ]
  },
  {
   "cell_type": "code",
   "execution_count": 193,
   "metadata": {},
   "outputs": [
    {
     "data": {
      "text/plain": [
       "(35,)"
      ]
     },
     "execution_count": 193,
     "metadata": {},
     "output_type": "execute_result"
    }
   ],
   "source": [
    "# minmaxed transpiration data starting from selected window until prediction end\n",
    "ground_truth = expData.data_resampled.iloc[window_index:window_index+feature.shape[0]+num_predict]\n",
    "ground_truth_transpiration = ground_truth[\"transpiration\"]\n",
    "ground_truth_timestamps = ground_truth[\"timestamp\"]\n",
    "ground_truth_transpiration.shape"
   ]
  },
  {
   "attachments": {},
   "cell_type": "markdown",
   "metadata": {},
   "source": [
    "nearest timestamp from sampled timestamp index for comparison"
   ]
  },
  {
   "cell_type": "code",
   "execution_count": 244,
   "metadata": {},
   "outputs": [
    {
     "data": {
      "text/plain": [
       "timestamp                     2022-01-22 14:02:01\n",
       "differential_potential_CH1                 522810\n",
       "differential_potential_CH2                 500395\n",
       "transpiration                                 560\n",
       "Name: 288, dtype: object"
      ]
     },
     "execution_count": 244,
     "metadata": {},
     "output_type": "execute_result"
    }
   ],
   "source": [
    "timestamp = [data_temp[data_temp.timestamp < ground_truth_timestamps.iloc[0]].iloc[-1], data_temp[data_temp.timestamp > ground_truth_timestamps.iloc[0]].iloc[0]][1]\n",
    "timestamp"
   ]
  },
  {
   "cell_type": "code",
   "execution_count": 245,
   "metadata": {},
   "outputs": [
    {
     "data": {
      "text/plain": [
       "array([562.        , 556.5       , 556.66666667, 556.        ,\n",
       "       536.66666667, 545.33333333, 547.        , 537.33333333,\n",
       "       527.66666667, 539.        , 534.33333333, 526.33333333,\n",
       "       533.66666667, 533.66666667, 541.66666667, 560.66666667,\n",
       "       550.        , 533.66666667, 508.        , 518.66666667,\n",
       "       533.        , 518.66666667, 529.        , 519.33333333,\n",
       "       517.        , 508.        , 528.5       , 528.        ,\n",
       "       536.        , 538.33333333, 546.66666667, 525.        ,\n",
       "       493.66666667, 466.66666667, 496.        ])"
      ]
     },
     "execution_count": 245,
     "metadata": {},
     "output_type": "execute_result"
    }
   ],
   "source": [
    "def rescale(data:np.ndarray, scaler:skp.MinMaxScaler, index:int):\n",
    "    base = np.zeros((data.shape[0],scaler.feature_names_in_.shape[0]))\n",
    "    base[:,index] = data\n",
    "    rev = scaler.inverse_transform(base)\n",
    "    return rev[:,index]\n",
    "rescale(ground_truth_transpiration,scaler,2)"
   ]
  },
  {
   "cell_type": "code",
   "execution_count": 252,
   "metadata": {},
   "outputs": [
    {
     "data": {
      "text/plain": [
       "<matplotlib.legend.Legend at 0x183185a9ed0>"
      ]
     },
     "execution_count": 252,
     "metadata": {},
     "output_type": "execute_result"
    },
    {
     "data": {
      "image/png": "[encoded data removed]",
      "text/plain": [
       "<Figure size 640x480 with 1 Axes>"
      ]
     },
     "metadata": {},
     "output_type": "display_data"
    }
   ],
   "source": [
    "xs = [i for i in range(feature.shape[0]+num_predict)]\n",
    "plt.plot(ground_truth_timestamps,rescale(ground_truth_transpiration, scaler,2), label=\"ground truth\")\n",
    "plt.plot(ground_truth_timestamps[:feature.shape[0]],rescale(feature.cpu().detach().numpy()[:,0],scaler,2), label=\"feature\")\n",
    "plt.plot(ground_truth_timestamps[feature.shape[0]:],rescale(pred[:,0],scaler,2), label=\"prediction\")\n",
    "plt.xlabel(\"timestamp\")\n",
    "plt.ylabel(\"transpiration\")\n",
    "plt.legend()"
   ]
  }
 ],
 "metadata": {
  "kernelspec": {
   "display_name": "venv",
   "language": "python",
   "name": "python3"
  },
  "language_info": {
   "codemirror_mode": {
    "name": "ipython",
    "version": 3
   },
   "file_extension": ".py",
   "mimetype": "text/x-python",
   "name": "python",
   "nbconvert_exporter": "python",
   "pygments_lexer": "ipython3",
   "version": "3.11.3"
  },
  "orig_nbformat": 4
 },
 "nbformat": 4,
 "nbformat_minor": 2
}
