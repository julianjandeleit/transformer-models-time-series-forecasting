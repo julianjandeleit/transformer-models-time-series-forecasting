{
 "cells": [
  {
   "attachments": {},
   "cell_type": "markdown",
   "metadata": {},
   "source": [
    "`transformer_experimentation.ipynb` did not succeed in learning even a linear function.\n",
    "This is why here a simple general transformer example is adapted to work on time-series data as in Wu et. al."
   ]
  },
  {
   "attachments": {},
   "cell_type": "markdown",
   "metadata": {},
   "source": [
    "# Prelude"
   ]
  },
  {
   "cell_type": "code",
   "execution_count": 1,
   "metadata": {},
   "outputs": [],
   "source": [
    "import sys\n",
    "import pathlib as pl\n",
    "sys.path.insert(0,str(pl.Path(\"../\").absolute()))"
   ]
  },
  {
   "cell_type": "code",
   "execution_count": 36,
   "metadata": {},
   "outputs": [],
   "source": [
    "\n",
    "import numpy as np\n",
    "import pandas as pd\n",
    "import torch\n",
    "import torch.nn as nn # neuronal layers, function objects\n",
    "import torch.nn.functional as F # contains activation functions\n",
    "from torch.autograd import Variable # wrapper for tensor\n",
    "import torch.optim as opt\n",
    "import numpy as np\n",
    "import sklearn.preprocessing as skp\n",
    "from utils.data_loader import load_data\n",
    "from tqdm import tqdm\n",
    "import matplotlib.pyplot as plt\n",
    "import math\n",
    "from dataclasses import dataclass, asdict\n",
    "from typing import *\n",
    "import datetime\n",
    "import copy\n",
    "import datetime"
   ]
  },
  {
   "cell_type": "code",
   "execution_count": 3,
   "metadata": {},
   "outputs": [
    {
     "name": "stdout",
     "output_type": "stream",
     "text": [
      "using device: cuda\n"
     ]
    }
   ],
   "source": [
    "device = torch.device(\"cuda\" if torch.cuda.is_available() else \"cpu\")\n",
    "print(f\"using device: {device}\")"
   ]
  },
  {
   "attachments": {},
   "cell_type": "markdown",
   "metadata": {},
   "source": [
    "## helpers\n"
   ]
  },
  {
   "cell_type": "code",
   "execution_count": 4,
   "metadata": {},
   "outputs": [],
   "source": [
    "\n",
    "def wrapBatch(data):\n",
    "    data = data\n",
    "    shape = list(data.shape)\n",
    "    shape.insert(1,1)\n",
    "    return np.reshape(data, shape)\n",
    "\n",
    "def get_mask(dim1: int, dim2: int) -> torch.Tensor:\n",
    "    \"\"\"\n",
    "    Generates an upper-triangular matrix of -inf, with zeros on diag.\n",
    "    Modified from: \n",
    "    https://pytorch.org/tutorials/beginner/transformer_tutorial.html\n",
    "\n",
    "    Args:\n",
    "\n",
    "        dim1: int, for both src and tgt masking, this must be target sequence\n",
    "              length\n",
    "\n",
    "        dim2: int, for src masking this must be encoder sequence length (i.e. \n",
    "              the length of the input sequence to the model), \n",
    "              and for tgt masking, this must be target sequence length \n",
    "\n",
    "\n",
    "    Return:\n",
    "\n",
    "        A Tensor of shape [dim1, dim2]\n",
    "    \"\"\"\n",
    "    return torch.triu(torch.ones(dim1, dim2) * float('-inf'), diagonal=1).to(device)\n"
   ]
  },
  {
   "attachments": {},
   "cell_type": "markdown",
   "metadata": {},
   "source": [
    "## Define Transformer"
   ]
  },
  {
   "attachments": {},
   "cell_type": "markdown",
   "metadata": {},
   "source": [
    "define encoder"
   ]
  },
  {
   "cell_type": "code",
   "execution_count": 5,
   "metadata": {},
   "outputs": [],
   "source": [
    "# adapted from https://pytorch.org/tutorials/beginner/transformer_tutorial.html\n",
    "class PositionalEncoding(nn.Module):\n",
    "    def __init__(self, d_model: int, dropout: float = 0.2, max_len: int = 5000):\n",
    "        super().__init__()\n",
    "        self.dropout = nn.Dropout(p=dropout)\n",
    "\n",
    "        position = torch.arange(max_len).unsqueeze(1)\n",
    "        div_term = torch.exp(torch.arange(0, d_model, 2) * (-math.log(10000.0) / d_model))\n",
    "        pe = torch.zeros(max_len, 1, d_model)\n",
    "        pe[:, 0, 0::2] = torch.sin(position * div_term)\n",
    "        pe[:, 0, 1::2] = torch.cos(position * div_term) # TODO: why does this crash when d_model = 3?\n",
    "        self.register_buffer('pe', pe)\n",
    "\n",
    "    def forward(self, x: torch.Tensor) -> torch.Tensor:\n",
    "        \"\"\"\n",
    "        Arguments:\n",
    "            x: Tensor, shape ``[seq_len, batch_size, embedding_dim]``\n",
    "        \"\"\"\n",
    "        x = x + self.pe[:x.size(0)]\n",
    "        return self.dropout(x)\n",
    "\n",
    "class Encoder(nn.Module):\n",
    "    def __init__(self, d_input, d_model, nhead=1):\n",
    "        super(Encoder, self).__init__()\n",
    "\n",
    "        # define layers (layers are functions)\n",
    "        self.input_layer = nn.Linear(d_input, d_model) # input layer, 10 features in, 10 features out (== keras dense)\n",
    "        self.pos_encoding_layer = PositionalEncoding(d_model,dropout=0.2)\n",
    "        self.encoder_layers = nn.TransformerEncoder(nn.TransformerEncoderLayer(d_model=d_model, nhead=nhead, dropout=0.2), num_layers=4) # stacks multiple encoder layers, contains self attention and feed forward with normalization in between, TODO: how many heads?\n",
    "\n",
    "    # forward pass data x through network\n",
    "    def forward(self, x: torch.Tensor):\n",
    "        x = self.input_layer(x)\n",
    "        x = self.pos_encoding_layer(x)\n",
    "        x = self.encoder_layers(x)\n",
    "        return x[0] # we ignore batching here, expected shape of x: [batch][pos in seq][dim]"
   ]
  },
  {
   "attachments": {},
   "cell_type": "markdown",
   "metadata": {},
   "source": [
    "define decoder"
   ]
  },
  {
   "cell_type": "code",
   "execution_count": 6,
   "metadata": {},
   "outputs": [],
   "source": [
    "\n",
    "class Decoder(nn.Module):\n",
    "    def __init__(self, d_input, d_model, nhead=1):\n",
    "        super(Decoder, self).__init__()\n",
    "\n",
    "        # define layers (layers are functions)\n",
    "        self.input_layer = nn.Linear(d_input, d_model) # input layer, 10 features in, 10 features out (== keras dense)\n",
    "        self.decoder_layers = nn.TransformerDecoder(nn.TransformerDecoderLayer(d_model=d_model, nhead=nhead, dropout=0.2), num_layers=4)\n",
    "        self.linear_mapping = nn.Linear(\n",
    "            in_features=d_model, \n",
    "            out_features=d_input\n",
    "            )\n",
    "\n",
    "\n",
    "    # forward pass data x through network\n",
    "    def forward(self, x: torch.Tensor, memory: torch.Tensor, mask: torch.Tensor): #NOTE: TODO: implement Masking\n",
    "        x = self.input_layer(x)\n",
    "        x = self.decoder_layers(x,memory=memory,tgt_mask=mask)\n",
    "        x = self.linear_mapping(x)\n",
    "        return x\n",
    "    "
   ]
  },
  {
   "cell_type": "code",
   "execution_count": 7,
   "metadata": {},
   "outputs": [],
   "source": [
    "class TimeSeriesTransformer(nn.Module):\n",
    "    def __init__(self, d_input, d_model,nhead=8):\n",
    "        super(TimeSeriesTransformer, self).__init__()\n",
    "\n",
    "        # define layers\n",
    "        self.encoder = Encoder(d_input, d_model,nhead=nhead)\n",
    "        self.decoder = Decoder(d_input, d_model,nhead=nhead)\n",
    "\n",
    "        self.memory = None\n",
    "\n",
    "    def encode(self, src: torch.Tensor):\n",
    "        encoding = self.encoder(src)\n",
    "        self.memory = encoding\n",
    "\n",
    "    def forward(self, target: torch.Tensor, mask: torch.Tensor):\n",
    "        if self.memory == None:\n",
    "            raise ValueError(\"you need to call encode() first\")\n",
    "        out = self.decoder(x=target,memory=self.memory, mask=mask)\n",
    "        return out"
   ]
  },
  {
   "attachments": {},
   "cell_type": "markdown",
   "metadata": {},
   "source": [
    "generate fake data (linear)"
   ]
  },
  {
   "cell_type": "code",
   "execution_count": 8,
   "metadata": {},
   "outputs": [
    {
     "data": {
      "text/plain": [
       "<matplotlib.legend.Legend at 0x2653c3b8510>"
      ]
     },
     "execution_count": 8,
     "metadata": {},
     "output_type": "execute_result"
    },
    {
     "data": {
      "image/png": "[encoded data removed]",
      "text/plain": [
       "<Figure size 640x480 with 1 Axes>"
      ]
     },
     "metadata": {},
     "output_type": "display_data"
    }
   ],
   "source": [
    "a = 0.1\n",
    "b = 0.5\n",
    "data_x = np.arange(0,1,0.01)\n",
    "data_y = [a*y+b for y in data_x]\n",
    "\n",
    "# split \"window\" into feature and label as in Wu et al\n",
    "rel = 0.8\n",
    "feature = data_y[:int(rel*len(data_y))]\n",
    "label = data_y[int(rel*len(data_y)):]\n",
    "plt.plot(data_x[:int(rel*len(data_y))],feature, label=\"feature\")\n",
    "plt.plot(data_x[int(rel*len(data_y)):],label, label=\"label\")\n",
    "plt.legend()"
   ]
  },
  {
   "cell_type": "code",
   "execution_count": 9,
   "metadata": {},
   "outputs": [],
   "source": [
    "feature = torch.Tensor(feature).to(device)\n",
    "label = torch.Tensor(label).to(device)"
   ]
  },
  {
   "attachments": {},
   "cell_type": "markdown",
   "metadata": {},
   "source": [
    "Network Training"
   ]
  },
  {
   "cell_type": "code",
   "execution_count": 10,
   "metadata": {},
   "outputs": [
    {
     "name": "stdout",
     "output_type": "stream",
     "text": [
      "learning rate 0.01\n",
      "0: loss=3.973926544189453\n"
     ]
    }
   ],
   "source": [
    "#%%\n",
    "d_input = 1\n",
    "d_model = 2\n",
    "nhead = 2\n",
    "net = TimeSeriesTransformer(d_input, d_model,nhead=nhead)\n",
    "net.to(device)\n",
    "net.train(True)\n",
    "#learning_rate = 2.8*(10**(-6)) # TODO: how is learning schedule implemented by Wu et al?\n",
    "learning_rate = 0.01\n",
    "print(f\"learning rate {learning_rate}\")\n",
    "optimizer = opt.Adam(net.parameters(), lr=learning_rate,betas=[0.9,0.98], eps=10**(-9))\n",
    "criterion = nn.MSELoss()\n",
    "num_epochs = 10 # 500\n",
    "\n",
    "#%%\n",
    "losses = []\n",
    "lr_updated = False\n",
    "# go through every datapoint (1)\n",
    "for i in range(num_epochs):\n",
    "    # apply gradient to each epoch\n",
    "    net.zero_grad()\n",
    "    optimizer.zero_grad()\n",
    "    \n",
    "    net.encode(torch.unsqueeze(feature,0).T)\n",
    "\n",
    "    predicted_labels = []\n",
    "    # we start with last feature label as input(do not use in loss)\n",
    "    # last label does not get used for input only for error lost\n",
    "    target_labels = [feature[-1]] + list(label) \n",
    "    # train every step in window individually\n",
    "    for sp in range(len(target_labels)-1):\n",
    "        decoder_input = target_labels[:sp+1]\n",
    "        decoder_input = torch.Tensor(decoder_input).to(device)\n",
    "        decoder_input = torch.unsqueeze(decoder_input,0)\n",
    "        #decoder_input = torch.unsqueeze(decoder_input,0)\n",
    "        decoder_input = decoder_input.T\n",
    "        out = net.forward(decoder_input,None) #TODO: add Masking\n",
    "        newly_predicted = out[-1] # always only one new because of shifted label prediction\n",
    "        predicted_labels.append(newly_predicted) \n",
    "        \n",
    "    # first label was only to feed input\n",
    "    y_label = torch.tensor(target_labels[1:]).to(device)\n",
    "    y_predicted = torch.squeeze(torch.stack(predicted_labels))\n",
    "    #print(y_label.shape, y_predicted)\n",
    "    loss = criterion(y_label, y_predicted)\n",
    "    loss.backward()\n",
    "    optimizer.step()\n",
    "    if i > 250 and lr_updated == False:\n",
    "        optimizer.param_groups[0]['lr'] = 0.0000001 #1e-7\n",
    "        lr_updated = True\n",
    "        print(f\"new learning rate {optimizer.param_groups[0]['lr']}\")\n",
    "    if i % 10 == 0: print(f\"{i}: loss={loss}\")\n",
    "\n",
    "#%%\n",
    "# example result of trained net and conversion to numpy\n",
    "#x_numpy = np.array([1,0,0,0,1,0,0,0,1,1])\n",
    "#x = torch.Tensor(x_numpy).to(net.device)\n",
    "#y = net(x)\n",
    "#y_numpy = y.detach().cpu().numpy()\n",
    "#print(\"in  \", x_numpy.astype(np.int8))\n",
    "#print(\"out \", np.abs(np.rint(y_numpy)).astype(np.int8)) # as nearest (positive) int\n",
    "# %% "
   ]
  },
  {
   "cell_type": "code",
   "execution_count": 11,
   "metadata": {},
   "outputs": [
    {
     "data": {
      "text/plain": [
       "tensor([[ 0.5395],\n",
       "        [ 0.5395],\n",
       "        [ 0.5395],\n",
       "        [ 0.5395],\n",
       "        [ 0.5395],\n",
       "        [ 0.5395],\n",
       "        [ 0.5395],\n",
       "        [ 0.5395],\n",
       "        [ 0.5395],\n",
       "        [ 0.5395],\n",
       "        [ 0.5395],\n",
       "        [ 0.5395],\n",
       "        [ 0.5395],\n",
       "        [ 0.5395],\n",
       "        [ 0.5395],\n",
       "        [-1.2364],\n",
       "        [ 0.5395],\n",
       "        [ 0.5395],\n",
       "        [ 0.5395],\n",
       "        [ 0.5395]], device='cuda:0', grad_fn=<AddmmBackward0>)"
      ]
     },
     "execution_count": 11,
     "metadata": {},
     "output_type": "execute_result"
    }
   ],
   "source": [
    "net.encode(torch.unsqueeze(feature,0).T)\n",
    "res = torch.Tensor(torch.unsqueeze(label,0).T).to(device)\n",
    "out = net(res,None)\n",
    "out"
   ]
  },
  {
   "attachments": {},
   "cell_type": "markdown",
   "metadata": {},
   "source": [
    "it seems that at least something is learned here"
   ]
  },
  {
   "cell_type": "code",
   "execution_count": 12,
   "metadata": {},
   "outputs": [
    {
     "data": {
      "text/plain": [
       "tensor([0.5800, 0.5810, 0.5820, 0.5830, 0.5840, 0.5850, 0.5860, 0.5870, 0.5880,\n",
       "        0.5890, 0.5900, 0.5910, 0.5920, 0.5930, 0.5940, 0.5950, 0.5960, 0.5970,\n",
       "        0.5980, 0.5990], device='cuda:0')"
      ]
     },
     "execution_count": 12,
     "metadata": {},
     "output_type": "execute_result"
    }
   ],
   "source": [
    "label"
   ]
  },
  {
   "cell_type": "code",
   "execution_count": 13,
   "metadata": {},
   "outputs": [
    {
     "data": {
      "text/plain": [
       "3.325002e-05"
      ]
     },
     "execution_count": 13,
     "metadata": {},
     "output_type": "execute_result"
    }
   ],
   "source": [
    "np.var(label.cpu().detach().numpy())"
   ]
  },
  {
   "cell_type": "code",
   "execution_count": 14,
   "metadata": {},
   "outputs": [
    {
     "data": {
      "text/plain": [
       "0.1498042"
      ]
     },
     "execution_count": 14,
     "metadata": {},
     "output_type": "execute_result"
    }
   ],
   "source": [
    "np.var(out.cpu().detach().numpy())"
   ]
  },
  {
   "attachments": {},
   "cell_type": "markdown",
   "metadata": {},
   "source": [
    "# Try with real data"
   ]
  },
  {
   "cell_type": "code",
   "execution_count": 15,
   "metadata": {},
   "outputs": [
    {
     "data": {
      "text/html": [
       "<div>\n",
       "<style scoped>\n",
       "    .dataframe tbody tr th:only-of-type {\n",
       "        vertical-align: middle;\n",
       "    }\n",
       "\n",
       "    .dataframe tbody tr th {\n",
       "        vertical-align: top;\n",
       "    }\n",
       "\n",
       "    .dataframe thead th {\n",
       "        text-align: right;\n",
       "    }\n",
       "</style>\n",
       "<table border=\"1\" class=\"dataframe\">\n",
       "  <thead>\n",
       "    <tr style=\"text-align: right;\">\n",
       "      <th></th>\n",
       "      <th>timestamp</th>\n",
       "      <th>differential_potential_CH1</th>\n",
       "      <th>differential_potential_CH2</th>\n",
       "      <th>transpiration</th>\n",
       "    </tr>\n",
       "  </thead>\n",
       "  <tbody>\n",
       "    <tr>\n",
       "      <th>0</th>\n",
       "      <td>2022-01-22 13:53:42</td>\n",
       "      <td>526487</td>\n",
       "      <td>467544</td>\n",
       "      <td>442</td>\n",
       "    </tr>\n",
       "    <tr>\n",
       "      <th>1</th>\n",
       "      <td>2022-01-22 13:53:44</td>\n",
       "      <td>526542</td>\n",
       "      <td>467315</td>\n",
       "      <td>461</td>\n",
       "    </tr>\n",
       "    <tr>\n",
       "      <th>2</th>\n",
       "      <td>2022-01-22 13:53:45</td>\n",
       "      <td>526532</td>\n",
       "      <td>466868</td>\n",
       "      <td>466</td>\n",
       "    </tr>\n",
       "  </tbody>\n",
       "</table>\n",
       "</div>"
      ],
      "text/plain": [
       "            timestamp  differential_potential_CH1  differential_potential_CH2  \\\n",
       "0 2022-01-22 13:53:42                      526487                      467544   \n",
       "1 2022-01-22 13:53:44                      526542                      467315   \n",
       "2 2022-01-22 13:53:45                      526532                      466868   \n",
       "\n",
       "   transpiration  \n",
       "0            442  \n",
       "1            461  \n",
       "2            466  "
      ]
     },
     "metadata": {},
     "output_type": "display_data"
    },
    {
     "data": {
      "text/html": [
       "<div>\n",
       "<style scoped>\n",
       "    .dataframe tbody tr th:only-of-type {\n",
       "        vertical-align: middle;\n",
       "    }\n",
       "\n",
       "    .dataframe tbody tr th {\n",
       "        vertical-align: top;\n",
       "    }\n",
       "\n",
       "    .dataframe thead th {\n",
       "        text-align: right;\n",
       "    }\n",
       "</style>\n",
       "<table border=\"1\" class=\"dataframe\">\n",
       "  <thead>\n",
       "    <tr style=\"text-align: right;\">\n",
       "      <th></th>\n",
       "      <th>timestamp</th>\n",
       "      <th>differential_potential_CH1</th>\n",
       "      <th>differential_potential_CH2</th>\n",
       "      <th>transpiration</th>\n",
       "    </tr>\n",
       "  </thead>\n",
       "  <tbody>\n",
       "    <tr>\n",
       "      <th>0</th>\n",
       "      <td>2022-01-22 13:53:37</td>\n",
       "      <td>505940</td>\n",
       "      <td>507749</td>\n",
       "      <td>621</td>\n",
       "    </tr>\n",
       "    <tr>\n",
       "      <th>1</th>\n",
       "      <td>2022-01-22 13:53:38</td>\n",
       "      <td>505846</td>\n",
       "      <td>507807</td>\n",
       "      <td>632</td>\n",
       "    </tr>\n",
       "    <tr>\n",
       "      <th>2</th>\n",
       "      <td>2022-01-22 13:53:40</td>\n",
       "      <td>505990</td>\n",
       "      <td>507764</td>\n",
       "      <td>629</td>\n",
       "    </tr>\n",
       "  </tbody>\n",
       "</table>\n",
       "</div>"
      ],
      "text/plain": [
       "            timestamp  differential_potential_CH1  differential_potential_CH2  \\\n",
       "0 2022-01-22 13:53:37                      505940                      507749   \n",
       "1 2022-01-22 13:53:38                      505846                      507807   \n",
       "2 2022-01-22 13:53:40                      505990                      507764   \n",
       "\n",
       "   transpiration  \n",
       "0            621  \n",
       "1            632  \n",
       "2            629  "
      ]
     },
     "metadata": {},
     "output_type": "display_data"
    }
   ],
   "source": [
    "data_temp, data_wind = load_data()\n",
    "display(data_temp.head(3))\n",
    "display(data_wind.head(3))"
   ]
  },
  {
   "cell_type": "code",
   "execution_count": 16,
   "metadata": {},
   "outputs": [],
   "source": [
    "def scale_and_resample_timeindex(df: pd.DataFrame, timefreq=\"10s\", aggregator=\"mean\"):\n",
    "    df = df.set_index(\"timestamp\")\n",
    "    df = df[~df.index.duplicated(keep=\"first\")]\n",
    "    df = df.resample(timefreq).aggregate(aggregator)\n",
    "    scaler = skp.MinMaxScaler()\n",
    "    df = pd.DataFrame(scaler.fit_transform(df), index=df.index, columns=df.columns)\n",
    "    return df, scaler"
   ]
  },
  {
   "cell_type": "code",
   "execution_count": 50,
   "metadata": {},
   "outputs": [
    {
     "name": "stdout",
     "output_type": "stream",
     "text": [
      "computing valid windows\n"
     ]
    },
    {
     "name": "stderr",
     "output_type": "stream",
     "text": [
      "100%|██████████| 348/348 [00:00<00:00, 5356.30it/s]"
     ]
    },
    {
     "name": "stdout",
     "output_type": "stream",
     "text": [
      "found 337 valid window(s)\n"
     ]
    },
    {
     "name": "stderr",
     "output_type": "stream",
     "text": [
      "\n"
     ]
    }
   ],
   "source": [
    "data = data_temp.copy().iloc[:1000,:]\n",
    "timefreq=\"5s\"\n",
    "aggregator=\"mean\"\n",
    "window_size=12\n",
    "feature_size=10\n",
    "\n",
    "def get_window(data, i, wsize):\n",
    "    \"\"\"i is starting index of window\"\"\"\n",
    "    window = data.iloc[i:i+wsize, 1:].to_numpy()\n",
    "    timestamps = data.iloc[i:i+wsize, 0].to_numpy()\n",
    "    isvalid = not np.any(np.isnan(window))\n",
    "    if window.shape[0] != wsize:\n",
    "        isvalid = False\n",
    "    return window, timestamps, isvalid\n",
    "\n",
    "def get_datapoint(data, i, wsize, fsize):\n",
    "    window, timestamps, isvalid = get_window(data, i, wsize)\n",
    "    feature, label = window[0:fsize,:], window[fsize:,:]\n",
    "    return feature, label, timestamps, isvalid\n",
    "\n",
    "def get_valid_windows(data, wsize):\n",
    "    valid_indexes = []\n",
    "    print(\"computing valid windows\")\n",
    "    for i in tqdm(range(data.shape[0])):\n",
    "        _,_, isvalid = get_window(data,i,wsize)\n",
    "        if isvalid:\n",
    "            valid_indexes.append(i)\n",
    "    print(f\"found {len(valid_indexes)} valid window(s)\")\n",
    "    return valid_indexes\n",
    "\n",
    "data_resampled, scaler = scale_and_resample_timeindex(data, timefreq=timefreq, aggregator=aggregator)\n",
    "data_resampled = data_resampled[[\"differential_potential_CH1\"]]\n",
    "data_resampled = data_resampled.reset_index()\n",
    "valid_windows = get_valid_windows(data_resampled, window_size)\n",
    "window, timestamps, isvalid = get_window(data_resampled, valid_windows[0],window_size)\n",
    "feature, label, timestamps, isvalid = get_datapoint(data_resampled, valid_windows[0], window_size, feature_size)"
   ]
  },
  {
   "cell_type": "code",
   "execution_count": 276,
   "metadata": {},
   "outputs": [
    {
     "name": "stdout",
     "output_type": "stream",
     "text": [
      "computing valid windows\n"
     ]
    },
    {
     "name": "stderr",
     "output_type": "stream",
     "text": [
      "100%|██████████| 348/348 [00:00<00:00, 5116.53it/s]"
     ]
    },
    {
     "name": "stdout",
     "output_type": "stream",
     "text": [
      "found 337 valid window(s)\n",
      "using learning rate 0.001\n",
      "0: avg_loss=0.7039735317230225\n",
      "1: avg_loss=1.9488515853881836\n"
     ]
    },
    {
     "name": "stderr",
     "output_type": "stream",
     "text": [
      "\n"
     ]
    },
    {
     "name": "stdout",
     "output_type": "stream",
     "text": [
      "2: avg_loss=0.9028439521789551\n",
      "3: avg_loss=0.10518141090869904\n",
      "4: avg_loss=0.18413987755775452\n",
      "5: avg_loss=0.009018742479383945\n",
      "6: avg_loss=0.11565080285072327\n",
      "7: avg_loss=0.0874267965555191\n",
      "8: avg_loss=0.41708528995513916\n",
      "9: avg_loss=0.3226664662361145\n"
     ]
    }
   ],
   "source": [
    "@dataclass(frozen=True,slots=True)\n",
    "class ExperimentData:\n",
    "    data_resampled: pd.DataFrame\n",
    "    scaler: skp.MinMaxScaler\n",
    "    timefreq: str\n",
    "    aggregator: str|Callable\n",
    "    columns: list[str]\n",
    "    window_size: int\n",
    "    feature_size: int\n",
    "    valid_windows: list[int]\n",
    "\n",
    "@dataclass(frozen=True, slots=True)\n",
    "class TrainingData:\n",
    "    net: TimeSeriesTransformer\n",
    "    d_input: int\n",
    "    d_model: int\n",
    "    n_head: int\n",
    "    seed: int|None\n",
    "    learning_rate: float\n",
    "    epochs: float\n",
    "    losses: list[float]\n",
    "    best_loss: float|None\n",
    "    best_net: None|TimeSeriesTransformer\n",
    "\n",
    "\n",
    "def getExperimentData(data, timefreq, aggregator, columns, window_size, feature_size):\n",
    "    data_resampled, scaler = scale_and_resample_timeindex(data, timefreq=timefreq, aggregator=aggregator)\n",
    "    data_resampled = data_resampled[columns]\n",
    "    data_resampled = data_resampled.reset_index()\n",
    "    valid_windows = get_valid_windows(data_resampled, window_size)\n",
    "    #feature, label, timestamps, isvalid = get_datapoint(data_resampled, valid_windows[0], window_size, feature_size) \n",
    "    return ExperimentData(data_resampled, scaler, timefreq, aggregator, columns, window_size, feature_size, valid_windows)\n",
    "\n",
    "def trainExperiment(data: ExperimentData, d_model, nhead, learning_rate, num_epochs, seed):\n",
    "    if seed is not None:\n",
    "        np.random.seed(seed)\n",
    "        torch.manual_seed(seed)\n",
    "    #%%\n",
    "    d_input = len(data.columns)\n",
    "    net = TimeSeriesTransformer(d_input, d_model,nhead=nhead)\n",
    "    net.to(device)\n",
    "    net.train(True)\n",
    "    #learning_rate = 2.8*(10**(-6)) # TODO: how is learning schedule implemented by Wu et al?\n",
    "    print(f\"using learning rate {learning_rate}\")\n",
    "    optimizer = opt.SGD(net.parameters(), lr=learning_rate, momentum=0.9)\n",
    "    #optimizer = opt.Adam(net.parameters(), lr=learning_rate,betas=[0.9,0.98], eps=10**(-3))\n",
    "    criterion = nn.MSELoss()\n",
    "    \n",
    "\n",
    "    #%%\n",
    "    losses = []\n",
    "    lr_updated = False\n",
    "    lr_updated_2 = False\n",
    "    best_loss = float('inf')\n",
    "    best_net = None\n",
    "    # go through every datapoint (1)\n",
    "    for i in range(num_epochs):\n",
    "        # apply gradient to each epoch\n",
    "        net.zero_grad()\n",
    "        optimizer.zero_grad()\n",
    "\n",
    "        window_index = data.valid_windows[int(np.random.uniform(0,len(data.valid_windows)))]\n",
    "        feature, label, _timestamps, _isvalid = get_datapoint(data.data_resampled, window_index,data.window_size,data.feature_size) \n",
    "        feature = torch.Tensor(feature).to(device)\n",
    "        label = torch.Tensor(label).to(device)\n",
    "        #print(feature.shape, label.shape)\n",
    "                \n",
    "        net.encode(torch.unsqueeze(feature,0).T)\n",
    "        \n",
    "        predicted_labels = []\n",
    "        # we start with last feature label as input(do not use in loss)\n",
    "        # last label does not get used for input only for error lost\n",
    "        target_labels = [feature[-1]] + list(label)\n",
    "        # train every step in window individually\n",
    "        for sp in range(len(target_labels)-1):\n",
    "            decoder_input = target_labels[:sp+1]\n",
    "            decoder_input = torch.Tensor(decoder_input).to(device)\n",
    "            decoder_input = torch.unsqueeze(decoder_input,0)\n",
    "            #decoder_input = torch.unsqueeze(decoder_input,0)\n",
    "            decoder_input = decoder_input.T\n",
    "            out = net.forward(decoder_input,get_mask(decoder_input.shape[0],decoder_input.shape[0])) #TODO: add masking\n",
    "            newly_predicted = out[-1] # always only one new because of shifted label prediction\n",
    "            predicted_labels.append(newly_predicted)\n",
    "            \n",
    "        # first label was only to feed input\n",
    "        y_label = torch.tensor(target_labels[1:]).to(device)\n",
    "        y_predicted = torch.squeeze(torch.stack(predicted_labels))\n",
    "        # print(y_label.shape, y_predicted)\n",
    "        loss = criterion(y_label-y_predicted, y_predicted)\n",
    "        loss.backward()\n",
    "        optimizer.step()\n",
    "        losses.append(loss.cpu().detach().numpy())\n",
    "        if i > 2500 and lr_updated == False:\n",
    "            optimizer.param_groups[0]['lr'] = 0.0000001 #1e-7\n",
    "            lr_updated = True\n",
    "            print(f\"new learning rate {optimizer.param_groups[0]['lr']}\")\n",
    "        if i > 5000 and lr_updated_2 == False:\n",
    "            optimizer.param_groups[0]['lr'] = 0.0000000001 #1e-10\n",
    "            lr_updated_2 = True\n",
    "            print(f\"new learning rate {optimizer.param_groups[0]['lr']}\")\n",
    "        if i % 10 == 0: print(f\"{i}: avg_loss={np.mean(loss.cpu().detach().numpy())}\") if loss is not None else print(f\"{i}: None\")\n",
    "        if loss < best_loss:\n",
    "            best_loss = loss\n",
    "            model_clone = TimeSeriesTransformer(d_input, d_model,nhead)\n",
    "            model_clone.load_state_dict(copy.deepcopy(net.state_dict()))\n",
    "            best_net = copy.deepcopy(model_clone) # deepcopy should retain weights\n",
    "    return TrainingData(net, d_input, d_model,nhead, seed, learning_rate, num_epochs, losses, best_loss.cpu().detach().numpy(), best_net)\n",
    "\n",
    "expData = getExperimentData(\n",
    "    data_temp.copy().iloc[:1000,:],\n",
    "    timefreq=\"5s\",\n",
    "    aggregator=\"mean\",\n",
    "    columns=[\"transpiration\"],\n",
    "    window_size=12,\n",
    "    feature_size=10)\n",
    "\n",
    "trainData = trainExperiment(expData, 16,16, 0.001, 10, 0) # 10000\n"
   ]
  },
  {
   "attachments": {},
   "cell_type": "markdown",
   "metadata": {},
   "source": [
    "## Analyze result"
   ]
  },
  {
   "cell_type": "code",
   "execution_count": 19,
   "metadata": {},
   "outputs": [
    {
     "name": "stderr",
     "output_type": "stream",
     "text": [
      "c:\\Users\\Julian\\code\\uni\\seminar\\venv\\Lib\\site-packages\\numpy\\core\\fromnumeric.py:3464: RuntimeWarning: Mean of empty slice.\n",
      "  return _methods._mean(a, axis=axis, dtype=dtype,\n",
      "c:\\Users\\Julian\\code\\uni\\seminar\\venv\\Lib\\site-packages\\numpy\\core\\_methods.py:192: RuntimeWarning: invalid value encountered in scalar divide\n",
      "  ret = ret.dtype.type(ret / rcount)\n"
     ]
    },
    {
     "data": {
      "text/plain": [
       "<matplotlib.legend.Legend at 0x2653c35e190>"
      ]
     },
     "execution_count": 19,
     "metadata": {},
     "output_type": "execute_result"
    },
    {
     "data": {
      "image/png": "[encoded data removed]",
      "text/plain": [
       "<Figure size 640x480 with 1 Axes>"
      ]
     },
     "metadata": {},
     "output_type": "display_data"
    }
   ],
   "source": [
    "plt.plot(trainData.losses, label=\"loss\")\n",
    "plt.plot([np.mean(trainData.losses[:i]) for i in range(len(trainData.losses))], label=\"avg_losses\")\n",
    "def medfilt (x, k): # https://gist.github.com/bhawkins/3535131\n",
    "    \"\"\"Apply a length-k median filter to a 1D array x.\n",
    "    Boundaries are extended by repeating endpoints.\n",
    "    \"\"\"\n",
    "    assert k % 2 == 1, \"Median filter length must be odd.\"\n",
    "    assert x.ndim == 1, \"Input must be one-dimensional.\"\n",
    "    k2 = (k - 1) // 2\n",
    "    y = np.zeros ((len (x), k), dtype=x.dtype)\n",
    "    y[:,k2] = x\n",
    "    for i in range (k2):\n",
    "        j = k2 - i\n",
    "        y[j:,i] = x[:-j]\n",
    "        y[:j,i] = x[0]\n",
    "        y[:-j,-(i+1)] = x[j:]\n",
    "        y[-j:,-(i+1)] = x[-1]\n",
    "    return np.median (y, axis=1)\n",
    "plt.plot(medfilt(np.array(trainData.losses), 99), label=\"medfilt-99 losses\")\n",
    "plt.legend()"
   ]
  },
  {
   "cell_type": "code",
   "execution_count": null,
   "metadata": {},
   "outputs": [],
   "source": []
  },
  {
   "cell_type": "code",
   "execution_count": 20,
   "metadata": {},
   "outputs": [
    {
     "data": {
      "text/plain": [
       "tensor([[0.4921],\n",
       "        [0.2306]], device='cuda:0', grad_fn=<AddmmBackward0>)"
      ]
     },
     "execution_count": 20,
     "metadata": {},
     "output_type": "execute_result"
    }
   ],
   "source": [
    "#window_index = data.valid_windows[int(np.random.uniform(0,len(data.valid_windows)))]\n",
    "window_index = expData.valid_windows[100] # any\n",
    "feature, label, _timestamps, _isvalid = get_datapoint(expData.data_resampled, window_index,expData.window_size,expData.feature_size) \n",
    "feature = torch.Tensor(feature).to(device)\n",
    "label = torch.Tensor(label).to(device)\n",
    "decoder_input = feature[-2:]\n",
    "net = trainData.best_net\n",
    "net.to(device)\n",
    "net.encode(torch.unsqueeze(feature,0).T)\n",
    "out = net(decoder_input,mask=None)\n",
    "out"
   ]
  },
  {
   "cell_type": "code",
   "execution_count": 21,
   "metadata": {},
   "outputs": [
    {
     "data": {
      "text/plain": [
       "tensor([[0.8107],\n",
       "        [0.7945],\n",
       "        [0.7950],\n",
       "        [0.7930],\n",
       "        [0.7361],\n",
       "        [0.7616],\n",
       "        [0.7666],\n",
       "        [0.7381],\n",
       "        [0.7097],\n",
       "        [0.7430]], device='cuda:0')"
      ]
     },
     "execution_count": 21,
     "metadata": {},
     "output_type": "execute_result"
    }
   ],
   "source": [
    "feature"
   ]
  },
  {
   "cell_type": "code",
   "execution_count": 22,
   "metadata": {},
   "outputs": [
    {
     "data": {
      "text/plain": [
       "tensor([[0.7293],\n",
       "        [0.7057]], device='cuda:0')"
      ]
     },
     "execution_count": 22,
     "metadata": {},
     "output_type": "execute_result"
    }
   ],
   "source": [
    "label"
   ]
  },
  {
   "cell_type": "code",
   "execution_count": 23,
   "metadata": {},
   "outputs": [
    {
     "data": {
      "text/plain": [
       "(tensor(0.1410, device='cuda:0', grad_fn=<MseLossBackward0>),\n",
       " array(0.00036401, dtype=float32))"
      ]
     },
     "execution_count": 23,
     "metadata": {},
     "output_type": "execute_result"
    }
   ],
   "source": [
    "nn.MSELoss()(label,out), trainData.best_loss"
   ]
  },
  {
   "cell_type": "code",
   "execution_count": 24,
   "metadata": {},
   "outputs": [],
   "source": [
    "def saveData(dir: pl.Path, expData: ExperimentData, trainData: TrainingData):\n",
    "    dir.mkdir(exist_ok=True)\n",
    "    torch.save(trainData.net.state_dict(), dir / 'model_weights.pt')\n",
    "    losses = np.array(trainData.losses)\n",
    "    np.save(dir / \"losses\",losses)\n",
    "    torch.save({\"d_input\":trainData.d_input, \"d_model\": trainData.d_model}, dir / \"model_params.pt\")\n",
    "    dc = asdict(expData)\n",
    "    dc[\"data_resampled\"] = None\n",
    "    torch.save(dc, dir / \"exp_data.pt\")\n",
    "    print(\"data saved\")\n",
    "\n",
    "#saveData(pl.Path(\"../data/experiment/\"),expData, trainData)"
   ]
  },
  {
   "attachments": {},
   "cell_type": "markdown",
   "metadata": {},
   "source": [
    "## Try Inference using trained model and compare with ground truth"
   ]
  },
  {
   "cell_type": "code",
   "execution_count": 25,
   "metadata": {},
   "outputs": [
    {
     "name": "stderr",
     "output_type": "stream",
     "text": [
      "C:\\Users\\Julian\\AppData\\Local\\Temp\\ipykernel_17144\\1709638256.py:15: UserWarning: Creating a tensor from a list of numpy.ndarrays is extremely slow. Please consider converting the list to a single numpy.ndarray with numpy.array() before converting to a tensor. (Triggered internally at ..\\torch\\csrc\\utils\\tensor_new.cpp:248.)\n",
      "  decoder_input = torch.Tensor(decoder_input).to(device)\n"
     ]
    },
    {
     "data": {
      "text/plain": [
       "array([[-0.00848594],\n",
       "       [ 0.1601829 ],\n",
       "       [ 0.05572081],\n",
       "       [ 0.2143337 ],\n",
       "       [ 0.3622947 ],\n",
       "       [ 0.37399837],\n",
       "       [ 0.33395842],\n",
       "       [ 0.6123888 ],\n",
       "       [ 0.2822026 ],\n",
       "       [ 0.2725913 ],\n",
       "       [-0.114822  ],\n",
       "       [ 0.32718584],\n",
       "       [ 0.6401865 ],\n",
       "       [ 0.7958943 ],\n",
       "       [ 0.1522509 ],\n",
       "       [ 0.34521604],\n",
       "       [ 0.7095487 ],\n",
       "       [ 0.26536626],\n",
       "       [ 0.5020725 ],\n",
       "       [ 0.2361487 ],\n",
       "       [ 0.34506184],\n",
       "       [ 0.1527383 ],\n",
       "       [ 0.3136009 ],\n",
       "       [ 0.60748625],\n",
       "       [-0.04263686]], dtype=float32)"
      ]
     },
     "execution_count": 25,
     "metadata": {},
     "output_type": "execute_result"
    }
   ],
   "source": [
    "def inference(net: TimeSeriesTransformer, input: np.ndarray, prediction_length: int, seed=None):\n",
    "    if seed is not None:\n",
    "        np.random.seed(seed)\n",
    "        torch.manual_seed(seed)\n",
    "    feature = torch.Tensor(input).to(device)\n",
    "    net.encode(torch.unsqueeze(feature,0).T)\n",
    "    \n",
    "    # we start with last feature label as input\n",
    "    last_feature = feature[-1] #.cpu().detach().numpy()\n",
    "    predicted_labels = [last_feature]\n",
    "    #predicted_labels = [feature[-1]]\n",
    "    # infer iteratively\n",
    "    for sp in range(prediction_length):\n",
    "        decoder_input = predicted_labels[:sp+1]\n",
    "        decoder_input = torch.Tensor(decoder_input).to(device)\n",
    "        #decoder_input = torch.unsqueeze(decoder_input,0)\n",
    "        decoder_input = torch.unsqueeze(decoder_input,0)\n",
    "        decoder_input = decoder_input.T\n",
    "        #print(decoder_input.shape)\n",
    "        out = net.forward(decoder_input,None)\n",
    "        newly_predicted = out[-1] # always only one new because of shifted label prediction\n",
    "        predicted_labels.append(newly_predicted.cpu().detach().numpy()) \n",
    "\n",
    "    return np.array(predicted_labels[1:])\n",
    "\n",
    "num_predict = 25\n",
    "pred = inference(net, feature.cpu().detach().numpy(), num_predict,0)\n",
    "pred"
   ]
  },
  {
   "cell_type": "code",
   "execution_count": 26,
   "metadata": {},
   "outputs": [
    {
     "data": {
      "text/plain": [
       "(35,)"
      ]
     },
     "execution_count": 26,
     "metadata": {},
     "output_type": "execute_result"
    }
   ],
   "source": [
    "# minmaxed transpiration data starting from selected window until prediction end\n",
    "ground_truth = expData.data_resampled.iloc[window_index:window_index+feature.shape[0]+num_predict]\n",
    "ground_truth_transpiration = ground_truth[\"transpiration\"]\n",
    "ground_truth_timestamps = ground_truth[\"timestamp\"]\n",
    "ground_truth_transpiration.shape"
   ]
  },
  {
   "attachments": {},
   "cell_type": "markdown",
   "metadata": {},
   "source": [
    "nearest timestamp from sampled timestamp index for comparison"
   ]
  },
  {
   "cell_type": "code",
   "execution_count": 27,
   "metadata": {},
   "outputs": [
    {
     "data": {
      "text/plain": [
       "timestamp                     2022-01-22 14:02:01\n",
       "differential_potential_CH1                 522810\n",
       "differential_potential_CH2                 500395\n",
       "transpiration                                 560\n",
       "Name: 288, dtype: object"
      ]
     },
     "execution_count": 27,
     "metadata": {},
     "output_type": "execute_result"
    }
   ],
   "source": [
    "timestamp = [data_temp[data_temp.timestamp < ground_truth_timestamps.iloc[0]].iloc[-1], data_temp[data_temp.timestamp > ground_truth_timestamps.iloc[0]].iloc[0]][1]\n",
    "timestamp"
   ]
  },
  {
   "cell_type": "code",
   "execution_count": 28,
   "metadata": {},
   "outputs": [
    {
     "data": {
      "text/plain": [
       "array([562.        , 556.5       , 556.66666667, 556.        ,\n",
       "       536.66666667, 545.33333333, 547.        , 537.33333333,\n",
       "       527.66666667, 539.        , 534.33333333, 526.33333333,\n",
       "       533.66666667, 533.66666667, 541.66666667, 560.66666667,\n",
       "       550.        , 533.66666667, 508.        , 518.66666667,\n",
       "       533.        , 518.66666667, 529.        , 519.33333333,\n",
       "       517.        , 508.        , 528.5       , 528.        ,\n",
       "       536.        , 538.33333333, 546.66666667, 525.        ,\n",
       "       493.66666667, 466.66666667, 496.        ])"
      ]
     },
     "execution_count": 28,
     "metadata": {},
     "output_type": "execute_result"
    }
   ],
   "source": [
    "def rescale(data:np.ndarray, scaler:skp.MinMaxScaler, index:int):\n",
    "    base = np.zeros((data.shape[0],scaler.feature_names_in_.shape[0]))\n",
    "    base[:,index] = data\n",
    "    rev = scaler.inverse_transform(base)\n",
    "    return rev[:,index]\n",
    "rescale(ground_truth_transpiration,scaler,2)"
   ]
  },
  {
   "cell_type": "code",
   "execution_count": 29,
   "metadata": {},
   "outputs": [
    {
     "data": {
      "text/plain": [
       "<matplotlib.legend.Legend at 0x265f8f195d0>"
      ]
     },
     "execution_count": 29,
     "metadata": {},
     "output_type": "execute_result"
    },
    {
     "data": {
      "image/png": "[encoded data removed]",
      "text/plain": [
       "<Figure size 640x480 with 1 Axes>"
      ]
     },
     "metadata": {},
     "output_type": "display_data"
    }
   ],
   "source": [
    "xs = [i for i in range(feature.shape[0]+num_predict)]\n",
    "plt.plot(ground_truth_timestamps,rescale(ground_truth_transpiration, scaler,2), label=\"ground truth\")\n",
    "plt.plot(ground_truth_timestamps[:feature.shape[0]],rescale(feature.cpu().detach().numpy()[:,0],scaler,2), label=\"feature\")\n",
    "plt.plot(ground_truth_timestamps[feature.shape[0]:],rescale(pred[:,0],scaler,2), label=\"prediction\")\n",
    "plt.xlabel(\"timestamp\")\n",
    "plt.ylabel(\"transpiration\")\n",
    "plt.legend()"
   ]
  },
  {
   "attachments": {},
   "cell_type": "markdown",
   "metadata": {},
   "source": [
    "## Parameter Study"
   ]
  },
  {
   "cell_type": "code",
   "execution_count": 278,
   "metadata": {},
   "outputs": [
    {
     "name": "stdout",
     "output_type": "stream",
     "text": [
      "computing valid windows\n"
     ]
    },
    {
     "name": "stderr",
     "output_type": "stream",
     "text": [
      "100%|██████████| 20/20 [00:00<00:00, 3999.34it/s]"
     ]
    },
    {
     "name": "stdout",
     "output_type": "stream",
     "text": [
      "found 13 valid window(s)\n"
     ]
    },
    {
     "name": "stderr",
     "output_type": "stream",
     "text": [
      "\n"
     ]
    }
   ],
   "source": [
    "\n",
    "# def get_linear_experiment_data():\n",
    "#     df = pd.DataFrame(np.array([0.2 * i + 10 for i in range(0,1000)]).astype(float), columns=[\"data\"])\n",
    "#     startdate = datetime.datetime(23,1,1,0)\n",
    "#     df.insert(loc=0, column=\"timestamp\",value=[startdate + datetime.timedelta(seconds=i) for i in df[\"data\"]])\n",
    "#     return ExperimentData(df, skp.MinMaxScaler(), \"1s\", \"mean\", [\"data\"], 8, 2, list(range(0,900)))\n",
    "# expDataB = get_linear_experiment_data()\n",
    "\n",
    "def get_linear_data():\n",
    "    df = pd.DataFrame(np.array([0.2 * i + 10 for i in range(0,100)]).astype(float), columns=[\"data\"])\n",
    "    startdate = datetime.datetime(year=2023,month=1,day=1)\n",
    "    df.insert(loc=0, column=\"timestamp\",value=[np.datetime64(startdate+ datetime.timedelta(seconds=i)) for i in df[\"data\"]])\n",
    "    return getExperimentData(df, \"1s\", \"mean\", [\"data\"], 8, 2)\n",
    "\n",
    "expDataB = get_linear_data()\n",
    "#t = expDataB[\"timestamp\"][0]"
   ]
  },
  {
   "cell_type": "code",
   "execution_count": 279,
   "metadata": {},
   "outputs": [
    {
     "name": "stdout",
     "output_type": "stream",
     "text": [
      "using learning rate 1e-50\n",
      "0: avg_loss=0.10407322645187378\n",
      "1: avg_loss=0.44835004210472107\n",
      "2: avg_loss=0.13787920773029327\n",
      "3: avg_loss=0.4757378101348877\n",
      "4: avg_loss=0.11595840752124786\n",
      "5: avg_loss=0.17612294852733612\n",
      "6: avg_loss=0.20074555277824402\n",
      "7: avg_loss=0.2586822211742401\n",
      "8: avg_loss=0.1718297302722931\n",
      "9: avg_loss=0.4453447759151459\n",
      "10: avg_loss=0.45318323373794556\n",
      "11: avg_loss=0.5406461954116821\n",
      "12: avg_loss=0.21637915074825287\n",
      "13: avg_loss=0.10991059243679047\n",
      "14: avg_loss=0.5147601962089539\n",
      "15: avg_loss=0.5545928478240967\n",
      "16: avg_loss=1.1441508531570435\n",
      "17: avg_loss=0.47087907791137695\n",
      "18: avg_loss=0.30000466108322144\n",
      "19: avg_loss=0.2494567334651947\n",
      "20: avg_loss=0.3085014522075653\n",
      "21: avg_loss=0.5442306995391846\n",
      "22: avg_loss=0.030016636475920677\n",
      "23: avg_loss=0.41013190150260925\n",
      "24: avg_loss=0.9286991357803345\n",
      "25: avg_loss=0.8726091384887695\n",
      "26: avg_loss=1.3143882751464844\n",
      "27: avg_loss=0.2851221561431885\n",
      "28: avg_loss=0.982965350151062\n",
      "29: avg_loss=0.15671202540397644\n",
      "30: avg_loss=0.5851833820343018\n",
      "31: avg_loss=0.2499079406261444\n",
      "32: avg_loss=0.45084112882614136\n",
      "33: avg_loss=0.07737681269645691\n",
      "34: avg_loss=2.0259408950805664\n",
      "35: avg_loss=0.7593245506286621\n",
      "36: avg_loss=0.5099362134933472\n",
      "37: avg_loss=0.5542226433753967\n",
      "38: avg_loss=0.28543850779533386\n",
      "39: avg_loss=0.6525457501411438\n",
      "40: avg_loss=0.1452883780002594\n",
      "41: avg_loss=0.4173584580421448\n",
      "42: avg_loss=0.29961857199668884\n",
      "43: avg_loss=0.8215309381484985\n",
      "44: avg_loss=0.21595275402069092\n",
      "45: avg_loss=0.15667866170406342\n",
      "46: avg_loss=0.25383996963500977\n",
      "47: avg_loss=0.2108156383037567\n",
      "48: avg_loss=0.22506555914878845\n",
      "49: avg_loss=1.0336041450500488\n",
      "50: avg_loss=0.8888933658599854\n",
      "51: avg_loss=0.2455851435661316\n",
      "52: avg_loss=0.3730260133743286\n",
      "53: avg_loss=0.436062216758728\n",
      "54: avg_loss=1.7609308958053589\n",
      "55: avg_loss=1.1248598098754883\n",
      "56: avg_loss=0.2473440170288086\n",
      "57: avg_loss=0.8202916979789734\n",
      "58: avg_loss=0.28596851229667664\n",
      "59: avg_loss=0.4203460216522217\n",
      "60: avg_loss=1.696698546409607\n",
      "61: avg_loss=0.44291922450065613\n",
      "62: avg_loss=0.4029236435890198\n",
      "63: avg_loss=0.5014307498931885\n",
      "64: avg_loss=0.8673107624053955\n",
      "65: avg_loss=0.4755856990814209\n",
      "66: avg_loss=0.326484739780426\n",
      "67: avg_loss=1.890451192855835\n",
      "68: avg_loss=0.33133649826049805\n",
      "69: avg_loss=0.12086143344640732\n",
      "70: avg_loss=0.43481284379959106\n",
      "71: avg_loss=0.21074752509593964\n",
      "72: avg_loss=1.5158815383911133\n",
      "73: avg_loss=0.6546874046325684\n",
      "74: avg_loss=0.3820039629936218\n",
      "75: avg_loss=1.1499536037445068\n",
      "76: avg_loss=0.31751349568367004\n",
      "77: avg_loss=1.4181621074676514\n",
      "78: avg_loss=0.25769299268722534\n",
      "79: avg_loss=0.809008002281189\n",
      "80: avg_loss=1.1401488780975342\n",
      "81: avg_loss=0.45209890604019165\n",
      "82: avg_loss=0.23402118682861328\n",
      "83: avg_loss=0.6592147350311279\n",
      "84: avg_loss=0.3568030297756195\n",
      "85: avg_loss=0.4061754643917084\n",
      "86: avg_loss=0.44978067278862\n",
      "87: avg_loss=0.9340285658836365\n",
      "88: avg_loss=0.47451066970825195\n",
      "89: avg_loss=0.5268393754959106\n",
      "90: avg_loss=1.1318689584732056\n",
      "91: avg_loss=0.575705885887146\n",
      "92: avg_loss=0.9964391589164734\n",
      "93: avg_loss=0.6358823776245117\n",
      "94: avg_loss=1.2548885345458984\n",
      "95: avg_loss=0.16535772383213043\n",
      "96: avg_loss=0.6835554838180542\n",
      "97: avg_loss=0.6964497566223145\n",
      "98: avg_loss=0.6997894048690796\n",
      "99: avg_loss=0.7215147018432617\n",
      "100: avg_loss=0.37252840399742126\n",
      "101: avg_loss=0.3010268807411194\n",
      "102: avg_loss=0.32846540212631226\n",
      "103: avg_loss=0.4185418486595154\n",
      "104: avg_loss=0.7376241683959961\n",
      "105: avg_loss=0.3823496699333191\n",
      "106: avg_loss=0.24956409633159637\n",
      "107: avg_loss=0.9118373394012451\n",
      "108: avg_loss=0.4439980685710907\n",
      "109: avg_loss=0.27399942278862\n",
      "110: avg_loss=0.21391308307647705\n",
      "111: avg_loss=0.1034896969795227\n",
      "112: avg_loss=0.4291800260543823\n",
      "113: avg_loss=1.5659602880477905\n",
      "114: avg_loss=0.323408842086792\n",
      "115: avg_loss=0.5696924924850464\n",
      "116: avg_loss=0.24799613654613495\n",
      "117: avg_loss=0.5729237794876099\n",
      "118: avg_loss=0.22072479128837585\n",
      "119: avg_loss=0.9435775279998779\n",
      "120: avg_loss=0.04990805312991142\n",
      "121: avg_loss=0.223087340593338\n",
      "122: avg_loss=0.19988709688186646\n",
      "123: avg_loss=0.45054078102111816\n",
      "124: avg_loss=0.3945639133453369\n",
      "125: avg_loss=0.8171011209487915\n",
      "126: avg_loss=2.0836644172668457\n",
      "127: avg_loss=0.5974003076553345\n",
      "128: avg_loss=0.6576321125030518\n",
      "129: avg_loss=0.2431657314300537\n",
      "130: avg_loss=0.22418740391731262\n",
      "131: avg_loss=0.29702338576316833\n",
      "132: avg_loss=1.8196263313293457\n",
      "133: avg_loss=0.41821473836898804\n",
      "134: avg_loss=0.6432948112487793\n",
      "135: avg_loss=0.19242756068706512\n",
      "136: avg_loss=1.4898052215576172\n",
      "137: avg_loss=0.35773128271102905\n",
      "138: avg_loss=0.6947008967399597\n",
      "139: avg_loss=0.09592854976654053\n",
      "140: avg_loss=0.5110297799110413\n",
      "141: avg_loss=0.3644418716430664\n",
      "142: avg_loss=0.239596426486969\n",
      "143: avg_loss=0.469857394695282\n",
      "144: avg_loss=0.5240578651428223\n",
      "145: avg_loss=0.35140055418014526\n",
      "146: avg_loss=1.4185397624969482\n",
      "147: avg_loss=0.05788552761077881\n",
      "148: avg_loss=0.3765949606895447\n",
      "149: avg_loss=0.5111204981803894\n",
      "150: avg_loss=1.0627434253692627\n",
      "151: avg_loss=0.29285353422164917\n",
      "152: avg_loss=0.5608395338058472\n",
      "153: avg_loss=1.560438632965088\n",
      "154: avg_loss=1.1914150714874268\n",
      "155: avg_loss=0.7669481635093689\n",
      "156: avg_loss=0.2564680874347687\n",
      "157: avg_loss=0.6842148303985596\n",
      "158: avg_loss=0.09041734784841537\n",
      "159: avg_loss=0.5174328684806824\n",
      "160: avg_loss=0.7160916328430176\n",
      "161: avg_loss=1.0879669189453125\n",
      "162: avg_loss=0.48792657256126404\n",
      "163: avg_loss=0.3893115520477295\n",
      "164: avg_loss=0.4300539195537567\n",
      "165: avg_loss=0.03767702728509903\n",
      "166: avg_loss=1.1884758472442627\n",
      "167: avg_loss=0.9112577438354492\n",
      "168: avg_loss=0.3804469108581543\n",
      "169: avg_loss=1.0354998111724854\n",
      "170: avg_loss=0.41901475191116333\n",
      "171: avg_loss=1.2362244129180908\n",
      "172: avg_loss=0.8773232698440552\n",
      "173: avg_loss=0.24232739210128784\n",
      "174: avg_loss=0.08743622153997421\n",
      "175: avg_loss=1.0029170513153076\n",
      "176: avg_loss=0.30765998363494873\n",
      "177: avg_loss=0.5028395652770996\n",
      "178: avg_loss=0.2906223237514496\n",
      "179: avg_loss=1.2171400785446167\n",
      "180: avg_loss=0.6561994552612305\n",
      "181: avg_loss=0.27574998140335083\n",
      "182: avg_loss=0.23934023082256317\n",
      "183: avg_loss=0.7280681133270264\n",
      "184: avg_loss=0.10541704297065735\n",
      "185: avg_loss=0.1875379979610443\n",
      "186: avg_loss=0.2510872781276703\n",
      "187: avg_loss=0.274157851934433\n",
      "188: avg_loss=0.24935853481292725\n",
      "189: avg_loss=0.14530009031295776\n",
      "190: avg_loss=1.164696216583252\n",
      "191: avg_loss=0.5499496459960938\n",
      "192: avg_loss=0.46617743372917175\n",
      "193: avg_loss=0.17629259824752808\n",
      "194: avg_loss=0.4681873321533203\n",
      "195: avg_loss=0.9460460543632507\n",
      "196: avg_loss=0.9506266117095947\n",
      "197: avg_loss=0.5245187282562256\n",
      "198: avg_loss=0.709946870803833\n",
      "199: avg_loss=0.13106393814086914\n"
     ]
    }
   ],
   "source": [
    "hyperparams = {\n",
    "    \"d_model\": 16,\n",
    "    \"nhead\": 16,\n",
    "    \"learning_rate\": 1e-3,\n",
    "    \"num_epochs\": 200,\n",
    "    \"seed\": 0,\n",
    "}\n",
    "trainData = trainExperiment(expDataB, **hyperparams) # 10000"
   ]
  },
  {
   "cell_type": "code",
   "execution_count": null,
   "metadata": {},
   "outputs": [
    {
     "data": {
      "text/plain": [
       "array([[0.        ],\n",
       "       [0.00502513],\n",
       "       [0.01005025],\n",
       "       [0.01507538],\n",
       "       [0.0201005 ],\n",
       "       [0.02512563],\n",
       "       [0.03015075],\n",
       "       [0.03517588]])"
      ]
     },
     "execution_count": 262,
     "metadata": {},
     "output_type": "execute_result"
    }
   ],
   "source": [
    "input, timestamps, isvalid = get_window(expDataB.data_resampled, 0, 8)\n",
    "input"
   ]
  },
  {
   "cell_type": "code",
   "execution_count": null,
   "metadata": {},
   "outputs": [
    {
     "data": {
      "text/plain": [
       "array(0.00106067, dtype=float32)"
      ]
     },
     "execution_count": 267,
     "metadata": {},
     "output_type": "execute_result"
    }
   ],
   "source": [
    "net = trainData.best_net\n",
    "trainData.best_loss"
   ]
  },
  {
   "cell_type": "code",
   "execution_count": null,
   "metadata": {},
   "outputs": [
    {
     "data": {
      "text/plain": [
       "[array([0.33922186], dtype=float32),\n",
       " array([0.28882414], dtype=float32),\n",
       " array([0.49586883], dtype=float32),\n",
       " array([0.35034895], dtype=float32),\n",
       " array([0.29159504], dtype=float32),\n",
       " array([0.3107763], dtype=float32),\n",
       " array([0.2891994], dtype=float32),\n",
       " array([0.3281615], dtype=float32),\n",
       " array([0.20246962], dtype=float32),\n",
       " array([0.28244737], dtype=float32)]"
      ]
     },
     "execution_count": 268,
     "metadata": {},
     "output_type": "execute_result"
    }
   ],
   "source": [
    "feature = torch.Tensor(input).to(device)\n",
    "net.encode(torch.unsqueeze(feature,0).T)\n",
    "\n",
    "# we start with last feature label as input\n",
    "last_feature = feature[-1] #.cpu().detach().numpy()\n",
    "predicted_labels = [last_feature]\n",
    "#predicted_labels = [feature[-1]]\n",
    "# infer iteratively\n",
    "for sp in range(10):\n",
    "    decoder_input = predicted_labels[:sp+1]\n",
    "    decoder_input = torch.Tensor(decoder_input).to(device)\n",
    "    #decoder_input = torch.unsqueeze(decoder_input,0)\n",
    "    decoder_input = torch.unsqueeze(decoder_input,0)\n",
    "    decoder_input = decoder_input.T\n",
    "    #print(decoder_input.shape)\n",
    "    out = net.forward(decoder_input,None)\n",
    "    newly_predicted = out[-1] # always only one new because of shifted label prediction\n",
    "    predicted_labels.append(newly_predicted.cpu().detach().numpy()) \n",
    "\n",
    "predicted_labels[1:]"
   ]
  },
  {
   "cell_type": "code",
   "execution_count": null,
   "metadata": {},
   "outputs": [
    {
     "name": "stdout",
     "output_type": "stream",
     "text": [
      "using net with best loss of 0.0010606747\n",
      "[[0.51256281]\n",
      " [0.51758794]\n",
      " [0.52261307]\n",
      " [0.52763819]\n",
      " [0.53266332]\n",
      " [0.53768844]]\n"
     ]
    },
    {
     "name": "stderr",
     "output_type": "stream",
     "text": [
      "c:\\Users\\Julian\\code\\uni\\seminar\\venv\\Lib\\site-packages\\numpy\\core\\fromnumeric.py:3464: RuntimeWarning: Mean of empty slice.\n",
      "  return _methods._mean(a, axis=axis, dtype=dtype,\n",
      "c:\\Users\\Julian\\code\\uni\\seminar\\venv\\Lib\\site-packages\\numpy\\core\\_methods.py:192: RuntimeWarning: invalid value encountered in scalar divide\n",
      "  ret = ret.dtype.type(ret / rcount)\n"
     ]
    },
    {
     "data": {
      "image/png": "[encoded data removed]",
      "text/plain": [
       "<Figure size 640x480 with 1 Axes>"
      ]
     },
     "metadata": {},
     "output_type": "display_data"
    },
    {
     "data": {
      "image/png": "[encoded data removed]",
      "text/plain": [
       "<Figure size 640x480 with 1 Axes>"
      ]
     },
     "metadata": {},
     "output_type": "display_data"
    }
   ],
   "source": [
    "def validate_model(net,expData,window_index,column,num_predict = 25):\n",
    "    feature, label, _timestamps, _isvalid = get_datapoint(expData.data_resampled, window_index,expData.window_size,expData.feature_size) \n",
    "    feature = torch.Tensor(feature).to(device)\n",
    "    print(label)\n",
    "    pred = inference(net, feature.cpu().detach().numpy(), num_predict,0)\n",
    "    pred\n",
    "    ground_truth = expData.data_resampled.iloc[window_index:window_index+feature.shape[0]+num_predict]\n",
    "    ground_truth_transpiration = ground_truth[column]\n",
    "    ground_truth_timestamps = ground_truth[\"timestamp\"]\n",
    "    ground_truth_transpiration.shape\n",
    "    xs = [i for i in range(feature.shape[0]+num_predict)]\n",
    "    scaler = expData.scaler\n",
    "    plt.figure()\n",
    "    plt.plot(ground_truth_timestamps,rescale(ground_truth_transpiration, scaler,0), label=\"ground truth\")\n",
    "    plt.plot(ground_truth_timestamps[:feature.shape[0]],rescale(feature.cpu().detach().numpy()[:,0],scaler,0), label=\"feature\")\n",
    "    plt.plot(ground_truth_timestamps[feature.shape[0]:],rescale(pred[:,0],scaler,0), label=\"prediction\")\n",
    "    plt.xlabel(\"timestamp\")\n",
    "    plt.ylabel(column)\n",
    "    plt.legend()\n",
    "\n",
    "def validate_window(trainData, expData, w=0,c=0,n_pred=2):\n",
    "    net = trainData.best_net\n",
    "    print(\"using net with best loss of\",trainData.best_loss)\n",
    "    net = net.to(device)\n",
    "    validate_model(net, expData, expData.valid_windows[w], expData.columns[c], n_pred)\n",
    "\n",
    "def show_losses(trainData):\n",
    "    plt.figure()\n",
    "    plt.plot(trainData.losses, label=\"loss\")\n",
    "    plt.plot([np.mean(trainData.losses[:i]) for i in range(len(trainData.losses))], label=\"avg_losses\")\n",
    "    def medfilt (x, k): # https://gist.github.com/bhawkins/3535131\n",
    "        \"\"\"Apply a length-k median filter to a 1D array x.\n",
    "        Boundaries are extended by repeating endpoints.\n",
    "        \"\"\"\n",
    "        assert k % 2 == 1, \"Median filter length must be odd.\"\n",
    "        assert x.ndim == 1, \"Input must be one-dimensional.\"\n",
    "        k2 = (k - 1) // 2\n",
    "        y = np.zeros ((len (x), k), dtype=x.dtype)\n",
    "        y[:,k2] = x\n",
    "        for i in range (k2):\n",
    "            j = k2 - i\n",
    "            y[j:,i] = x[:-j]\n",
    "            y[:j,i] = x[0]\n",
    "            y[:-j,-(i+1)] = x[j:]\n",
    "            y[-j:,-(i+1)] = x[-1]\n",
    "        return np.median (y, axis=1)\n",
    "    plt.plot(medfilt(np.array(trainData.losses), 99), label=\"medfilt-99 losses\")\n",
    "    plt.legend()\n",
    "\n",
    "\n",
    "show_losses(trainData)\n",
    "validate_window(trainData, expDataB, w=100)"
   ]
  },
  {
   "cell_type": "code",
   "execution_count": null,
   "metadata": {},
   "outputs": [],
   "source": []
  }
 ],
 "metadata": {
  "kernelspec": {
   "display_name": "venv",
   "language": "python",
   "name": "python3"
  },
  "language_info": {
   "codemirror_mode": {
    "name": "ipython",
    "version": 3
   },
   "file_extension": ".py",
   "mimetype": "text/x-python",
   "name": "python",
   "nbconvert_exporter": "python",
   "pygments_lexer": "ipython3",
   "version": "3.11.3"
  },
  "orig_nbformat": 4
 },
 "nbformat": 4,
 "nbformat_minor": 2
}
