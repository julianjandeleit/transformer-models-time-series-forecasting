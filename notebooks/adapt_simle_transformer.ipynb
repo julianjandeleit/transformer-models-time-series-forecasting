{
 "cells": [
  {
   "attachments": {},
   "cell_type": "markdown",
   "metadata": {},
   "source": [
    "`transformer_experimentation.ipynb` did not succeed in learning even a linear function.\n",
    "This is why here a simple general transformer example is adapted to work on time-series data as in Wu et. al."
   ]
  },
  {
   "attachments": {},
   "cell_type": "markdown",
   "metadata": {},
   "source": [
    "# Prelude"
   ]
  },
  {
   "cell_type": "code",
   "execution_count": 1,
   "metadata": {},
   "outputs": [],
   "source": [
    "import sys\n",
    "import pathlib as pl\n",
    "sys.path.insert(0,str(pl.Path(\"../\").absolute()))"
   ]
  },
  {
   "cell_type": "code",
   "execution_count": 2,
   "metadata": {},
   "outputs": [],
   "source": [
    "\n",
    "import numpy as np\n",
    "import pandas as pd\n",
    "import torch\n",
    "import torch.nn as nn # neuronal layers, function objects\n",
    "import torch.nn.functional as F # contains activation functions\n",
    "from torch.autograd import Variable # wrapper for tensor\n",
    "import torch.optim as opt\n",
    "import numpy as np\n",
    "import sklearn.preprocessing as skp\n",
    "from utils.data_loader import load_data\n",
    "from tqdm import tqdm\n",
    "import matplotlib.pyplot as plt\n",
    "import math\n",
    "from dataclasses import dataclass, asdict\n",
    "from typing import *\n",
    "import datetime"
   ]
  },
  {
   "cell_type": "code",
   "execution_count": 3,
   "metadata": {},
   "outputs": [
    {
     "name": "stdout",
     "output_type": "stream",
     "text": [
      "using device: cpu\n"
     ]
    }
   ],
   "source": [
    "device = torch.device(\"cuda\" if torch.cuda.is_available() else \"cpu\")\n",
    "print(f\"using device: {device}\")"
   ]
  },
  {
   "cell_type": "code",
   "execution_count": 4,
   "metadata": {},
   "outputs": [
    {
     "data": {
      "text/html": [
       "<div>\n",
       "<style scoped>\n",
       "    .dataframe tbody tr th:only-of-type {\n",
       "        vertical-align: middle;\n",
       "    }\n",
       "\n",
       "    .dataframe tbody tr th {\n",
       "        vertical-align: top;\n",
       "    }\n",
       "\n",
       "    .dataframe thead th {\n",
       "        text-align: right;\n",
       "    }\n",
       "</style>\n",
       "<table border=\"1\" class=\"dataframe\">\n",
       "  <thead>\n",
       "    <tr style=\"text-align: right;\">\n",
       "      <th></th>\n",
       "      <th>timestamp</th>\n",
       "      <th>differential_potential_CH1</th>\n",
       "      <th>differential_potential_CH2</th>\n",
       "      <th>transpiration</th>\n",
       "    </tr>\n",
       "  </thead>\n",
       "  <tbody>\n",
       "    <tr>\n",
       "      <th>0</th>\n",
       "      <td>2022-01-22 13:53:42</td>\n",
       "      <td>526487</td>\n",
       "      <td>467544</td>\n",
       "      <td>442</td>\n",
       "    </tr>\n",
       "    <tr>\n",
       "      <th>1</th>\n",
       "      <td>2022-01-22 13:53:44</td>\n",
       "      <td>526542</td>\n",
       "      <td>467315</td>\n",
       "      <td>461</td>\n",
       "    </tr>\n",
       "    <tr>\n",
       "      <th>2</th>\n",
       "      <td>2022-01-22 13:53:45</td>\n",
       "      <td>526532</td>\n",
       "      <td>466868</td>\n",
       "      <td>466</td>\n",
       "    </tr>\n",
       "  </tbody>\n",
       "</table>\n",
       "</div>"
      ],
      "text/plain": [
       "            timestamp  differential_potential_CH1  differential_potential_CH2   \n",
       "0 2022-01-22 13:53:42                      526487                      467544  \\\n",
       "1 2022-01-22 13:53:44                      526542                      467315   \n",
       "2 2022-01-22 13:53:45                      526532                      466868   \n",
       "\n",
       "   transpiration  \n",
       "0            442  \n",
       "1            461  \n",
       "2            466  "
      ]
     },
     "metadata": {},
     "output_type": "display_data"
    },
    {
     "data": {
      "text/html": [
       "<div>\n",
       "<style scoped>\n",
       "    .dataframe tbody tr th:only-of-type {\n",
       "        vertical-align: middle;\n",
       "    }\n",
       "\n",
       "    .dataframe tbody tr th {\n",
       "        vertical-align: top;\n",
       "    }\n",
       "\n",
       "    .dataframe thead th {\n",
       "        text-align: right;\n",
       "    }\n",
       "</style>\n",
       "<table border=\"1\" class=\"dataframe\">\n",
       "  <thead>\n",
       "    <tr style=\"text-align: right;\">\n",
       "      <th></th>\n",
       "      <th>timestamp</th>\n",
       "      <th>differential_potential_CH1</th>\n",
       "      <th>differential_potential_CH2</th>\n",
       "      <th>transpiration</th>\n",
       "    </tr>\n",
       "  </thead>\n",
       "  <tbody>\n",
       "    <tr>\n",
       "      <th>0</th>\n",
       "      <td>2022-01-22 13:53:37</td>\n",
       "      <td>505940</td>\n",
       "      <td>507749</td>\n",
       "      <td>621</td>\n",
       "    </tr>\n",
       "    <tr>\n",
       "      <th>1</th>\n",
       "      <td>2022-01-22 13:53:38</td>\n",
       "      <td>505846</td>\n",
       "      <td>507807</td>\n",
       "      <td>632</td>\n",
       "    </tr>\n",
       "    <tr>\n",
       "      <th>2</th>\n",
       "      <td>2022-01-22 13:53:40</td>\n",
       "      <td>505990</td>\n",
       "      <td>507764</td>\n",
       "      <td>629</td>\n",
       "    </tr>\n",
       "  </tbody>\n",
       "</table>\n",
       "</div>"
      ],
      "text/plain": [
       "            timestamp  differential_potential_CH1  differential_potential_CH2   \n",
       "0 2022-01-22 13:53:37                      505940                      507749  \\\n",
       "1 2022-01-22 13:53:38                      505846                      507807   \n",
       "2 2022-01-22 13:53:40                      505990                      507764   \n",
       "\n",
       "   transpiration  \n",
       "0            621  \n",
       "1            632  \n",
       "2            629  "
      ]
     },
     "metadata": {},
     "output_type": "display_data"
    }
   ],
   "source": [
    "#data_temp, data_wind = load_data()\n",
    "#display(data_temp.head(3))\n",
    "#display(data_wind.head(3))"
   ]
  },
  {
   "attachments": {},
   "cell_type": "markdown",
   "metadata": {},
   "source": [
    "## helpers\n"
   ]
  },
  {
   "cell_type": "code",
   "execution_count": 5,
   "metadata": {},
   "outputs": [],
   "source": [
    "\n",
    "def wrapBatch(data):\n",
    "    data = data\n",
    "    shape = list(data.shape)\n",
    "    shape.insert(1,1)\n",
    "    return np.reshape(data, shape)\n",
    "\n",
    "def get_mask(dim1: int, dim2: int) -> torch.Tensor:\n",
    "    \"\"\"\n",
    "    Generates an upper-triangular matrix of -inf, with zeros on diag.\n",
    "    Modified from: \n",
    "    https://pytorch.org/tutorials/beginner/transformer_tutorial.html\n",
    "\n",
    "    Args:\n",
    "\n",
    "        dim1: int, for both src and tgt masking, this must be target sequence\n",
    "              length\n",
    "\n",
    "        dim2: int, for src masking this must be encoder sequence length (i.e. \n",
    "              the length of the input sequence to the model), \n",
    "              and for tgt masking, this must be target sequence length \n",
    "\n",
    "\n",
    "    Return:\n",
    "\n",
    "        A Tensor of shape [dim1, dim2]\n",
    "    \"\"\"\n",
    "    return torch.triu(torch.ones(dim1, dim2) * float('-inf'), diagonal=1)\n"
   ]
  },
  {
   "attachments": {},
   "cell_type": "markdown",
   "metadata": {},
   "source": [
    "## Define Transformer"
   ]
  },
  {
   "attachments": {},
   "cell_type": "markdown",
   "metadata": {},
   "source": [
    "define encoder"
   ]
  },
  {
   "cell_type": "code",
   "execution_count": 6,
   "metadata": {},
   "outputs": [],
   "source": [
    "# adapted from https://pytorch.org/tutorials/beginner/transformer_tutorial.html\n",
    "class PositionalEncoding(nn.Module):\n",
    "    def __init__(self, d_model: int, dropout: float = 0.1, max_len: int = 5000):\n",
    "        super().__init__()\n",
    "        self.dropout = nn.Dropout(p=dropout)\n",
    "\n",
    "        position = torch.arange(max_len).unsqueeze(1)\n",
    "        div_term = torch.exp(torch.arange(0, d_model, 2) * (-math.log(10000.0) / d_model))\n",
    "        pe = torch.zeros(max_len, 1, d_model)\n",
    "        pe[:, 0, 0::2] = torch.sin(position * div_term)\n",
    "        pe[:, 0, 1::2] = torch.cos(position * div_term) # TODO: why does this crash when d_model = 3?\n",
    "        self.register_buffer('pe', pe)\n",
    "\n",
    "    def forward(self, x: torch.Tensor) -> torch.Tensor:\n",
    "        \"\"\"\n",
    "        Arguments:\n",
    "            x: Tensor, shape ``[seq_len, batch_size, embedding_dim]``\n",
    "        \"\"\"\n",
    "        x = x + self.pe[:x.size(0)]\n",
    "        return self.dropout(x)\n",
    "\n",
    "class Encoder(nn.Module):\n",
    "    def __init__(self, d_input, d_model, nhead=1):\n",
    "        super(Encoder, self).__init__()\n",
    "\n",
    "        # define layers (layers are functions)\n",
    "        self.input_layer = nn.Linear(d_input, d_model) # input layer, 10 features in, 10 features out (== keras dense)\n",
    "        self.pos_encoding_layer = PositionalEncoding(d_model,dropout=0.2)\n",
    "        self.encoder_layers = nn.TransformerEncoder(nn.TransformerEncoderLayer(d_model=d_model, nhead=nhead, dropout=0.2), num_layers=4) # stacks multiple encoder layers, contains self attention and feed forward with normalization in between, TODO: how many heads?\n",
    "\n",
    "    # forward pass data x through network\n",
    "    def forward(self, x: torch.Tensor):\n",
    "        x = self.input_layer(x)\n",
    "        x = self.pos_encoding_layer(x)\n",
    "        x = self.encoder_layers(x)\n",
    "        return x[0] # we ignore batching here, expected shape of x: [batch][pos in seq][dim]"
   ]
  },
  {
   "attachments": {},
   "cell_type": "markdown",
   "metadata": {},
   "source": [
    "define decoder"
   ]
  },
  {
   "cell_type": "code",
   "execution_count": 7,
   "metadata": {},
   "outputs": [],
   "source": [
    "\n",
    "class Decoder(nn.Module):\n",
    "    def __init__(self, d_input, d_model, nhead=1):\n",
    "        super(Decoder, self).__init__()\n",
    "\n",
    "        # define layers (layers are functions)\n",
    "        self.input_layer = nn.Linear(d_input, d_model) # input layer, 10 features in, 10 features out (== keras dense)\n",
    "        self.decoder_layers = nn.TransformerDecoder(nn.TransformerDecoderLayer(d_model=d_model, nhead=nhead, dropout=0.2), num_layers=4)\n",
    "        self.linear_mapping = nn.Linear(\n",
    "            in_features=d_model, \n",
    "            out_features=d_input\n",
    "            )\n",
    "\n",
    "\n",
    "    # forward pass data x through network\n",
    "    def forward(self, x: torch.Tensor, memory: torch.Tensor, mask: torch.Tensor): #NOTE: TODO: implement Masking\n",
    "        x = self.input_layer(x)\n",
    "        x = self.decoder_layers(x,memory=memory,tgt_mask=mask)\n",
    "        x = self.linear_mapping(x)\n",
    "        return x\n",
    "    "
   ]
  },
  {
   "cell_type": "code",
   "execution_count": 8,
   "metadata": {},
   "outputs": [],
   "source": [
    "class TimeSeriesTransformer(nn.Module):\n",
    "    def __init__(self, d_input, d_model,nhead=8):\n",
    "        super(TimeSeriesTransformer, self).__init__()\n",
    "\n",
    "        # define layers\n",
    "        self.encoder = Encoder(d_input, d_model,nhead=nhead)\n",
    "        self.decoder = Decoder(d_input, d_model,nhead=nhead)\n",
    "\n",
    "        self.memory = None\n",
    "\n",
    "    def encode(self, src: torch.Tensor):\n",
    "        encoding = self.encoder(src)\n",
    "        self.memory = encoding\n",
    "\n",
    "    def forward(self, target: torch.Tensor, mask: torch.Tensor):\n",
    "        if self.memory == None:\n",
    "            raise ValueError(\"you need to call encode() first\")\n",
    "        out = self.decoder(x=target,memory=self.memory, mask=mask)\n",
    "        return out"
   ]
  },
  {
   "attachments": {},
   "cell_type": "markdown",
   "metadata": {},
   "source": [
    "generate fake data (linear)"
   ]
  },
  {
   "cell_type": "code",
   "execution_count": null,
   "metadata": {},
   "outputs": [],
   "source": []
  },
  {
   "cell_type": "code",
   "execution_count": 9,
   "metadata": {},
   "outputs": [
    {
     "data": {
      "text/plain": [
       "<matplotlib.legend.Legend at 0x7f349ad84f90>"
      ]
     },
     "execution_count": 9,
     "metadata": {},
     "output_type": "execute_result"
    },
    {
     "data": {
      "image/png": "[encoded data removed]",
      "text/plain": [
       "<Figure size 640x480 with 1 Axes>"
      ]
     },
     "metadata": {},
     "output_type": "display_data"
    }
   ],
   "source": [
    "a = 0.1\n",
    "b = 0.5\n",
    "data_x = np.arange(0,1,0.01)\n",
    "data_y = [a*y+b for y in data_x]\n",
    "\n",
    "# split \"window\" into feature and label as in Wu et al\n",
    "rel = 0.8\n",
    "feature = data_y[:int(rel*len(data_y))]\n",
    "label = data_y[int(rel*len(data_y)):]\n",
    "plt.plot(data_x[:int(rel*len(data_y))],feature, label=\"feature\")\n",
    "plt.plot(data_x[int(rel*len(data_y)):],label, label=\"label\")\n",
    "plt.legend()"
   ]
  },
  {
   "cell_type": "code",
   "execution_count": 10,
   "metadata": {},
   "outputs": [],
   "source": [
    "feature = torch.Tensor(feature).to(device)\n",
    "label = torch.Tensor(label).to(device)"
   ]
  },
  {
   "attachments": {},
   "cell_type": "markdown",
   "metadata": {},
   "source": [
    "Network Training"
   ]
  },
  {
   "cell_type": "code",
   "execution_count": 29,
   "metadata": {},
   "outputs": [
    {
     "name": "stdout",
     "output_type": "stream",
     "text": [
      "0: loss=0.3432275652885437\n",
      "10: loss=0.1874697506427765\n",
      "20: loss=0.1810413897037506\n",
      "30: loss=0.17393295466899872\n",
      "40: loss=0.1652798354625702\n",
      "50: loss=0.1608036458492279\n",
      "60: loss=0.15694263577461243\n",
      "70: loss=0.15129125118255615\n",
      "80: loss=0.14304712414741516\n",
      "90: loss=0.13817426562309265\n"
     ]
    }
   ],
   "source": [
    "#%%\n",
    "d_input = 1\n",
    "d_model = 4\n",
    "net = TimeSeriesTransformer(1, d_model,nhead=4)\n",
    "net.to(device)\n",
    "net.train(True)\n",
    "learning_rate = 0.0001\n",
    "optimizer = opt.Adam(net.parameters(), lr=learning_rate)\n",
    "criterion = nn.MSELoss()\n",
    "num_epochs = 100\n",
    "\n",
    "#%%\n",
    "losses = []\n",
    "# go through every datapoint (1)\n",
    "for i in range(num_epochs):\n",
    "    # apply gradient to each epoch\n",
    "    net.zero_grad()\n",
    "    optimizer.zero_grad()\n",
    "    \n",
    "    net.encode(torch.unsqueeze(feature,0).T)\n",
    "\n",
    "    predicted_labels = []\n",
    "    # we start with last feature label as input(do not use in loss)\n",
    "    # last label does not get used for input only for error lost\n",
    "    target_labels = [feature[-1]] + list(label) \n",
    "    # train every step in window individually\n",
    "    for sp in range(len(target_labels)-1):\n",
    "        decoder_input = target_labels[:sp+1]\n",
    "        decoder_input = torch.Tensor(decoder_input).to(device)\n",
    "        decoder_input = torch.unsqueeze(decoder_input,0)\n",
    "        #decoder_input = torch.unsqueeze(decoder_input,0)\n",
    "        decoder_input = decoder_input.T\n",
    "        out = net.forward(decoder_input,None)\n",
    "        newly_predicted = out[-1] # always only one new because of shifted label prediction\n",
    "        predicted_labels.append(newly_predicted) \n",
    "        \n",
    "    # first label was only to feed input\n",
    "    y_label = torch.tensor(target_labels[1:]).to(device)\n",
    "    y_predicted = torch.squeeze(torch.stack(predicted_labels))\n",
    "    #print(y_label.shape, y_predicted)\n",
    "    loss = criterion(y_label, y_predicted)\n",
    "    loss.backward()\n",
    "    optimizer.step()\n",
    "    if i % 10 == 0: print(f\"{i}: loss={loss}\")\n",
    "\n",
    "#%%\n",
    "# example result of trained net and conversion to numpy\n",
    "#x_numpy = np.array([1,0,0,0,1,0,0,0,1,1])\n",
    "#x = torch.Tensor(x_numpy).to(net.device)\n",
    "#y = net(x)\n",
    "#y_numpy = y.detach().cpu().numpy()\n",
    "#print(\"in  \", x_numpy.astype(np.int8))\n",
    "#print(\"out \", np.abs(np.rint(y_numpy)).astype(np.int8)) # as nearest (positive) int\n",
    "# %% "
   ]
  },
  {
   "cell_type": "code",
   "execution_count": 48,
   "metadata": {},
   "outputs": [],
   "source": [
    "net.encode(torch.unsqueeze(feature,0).T)\n",
    "res = torch.Tensor(torch.unsqueeze(label,0).T).to(device)\n",
    "out = net(res,None)\n",
    "out"
   ]
  },
  {
   "cell_type": "code",
   "execution_count": null,
   "metadata": {},
   "outputs": [],
   "source": [
    "np.var()"
   ]
  }
 ],
 "metadata": {
  "kernelspec": {
   "display_name": "venv",
   "language": "python",
   "name": "python3"
  },
  "language_info": {
   "codemirror_mode": {
    "name": "ipython",
    "version": 3
   },
   "file_extension": ".py",
   "mimetype": "text/x-python",
   "name": "python",
   "nbconvert_exporter": "python",
   "pygments_lexer": "ipython3",
   "version": "3.11.3"
  },
  "orig_nbformat": 4
 },
 "nbformat": 4,
 "nbformat_minor": 2
}
